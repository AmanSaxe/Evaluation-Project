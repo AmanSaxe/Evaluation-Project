{
 "cells": [
  {
   "cell_type": "code",
   "execution_count": 1,
   "id": "866bc39d",
   "metadata": {},
   "outputs": [],
   "source": [
    "import pandas as pd\n",
    "import numpy as np\n",
    "from sklearn.tree import DecisionTreeClassifier\n",
    "from sklearn.linear_model import LogisticRegression\n",
    "from sklearn.model_selection import train_test_split,GridSearchCV\n",
    "from statsmodels.stats.outliers_influence import variance_inflation_factor\n",
    "from sklearn.preprocessing import StandardScaler\n",
    "from sklearn.metrics import accuracy_score,confusion_matrix,roc_curve,roc_auc_score,classification_report\n",
    "import matplotlib.pyplot as plt\n",
    "import seaborn as sns\n",
    "import warnings\n",
    "warnings.filterwarnings('ignore')"
   ]
  },
  {
   "cell_type": "code",
   "execution_count": 2,
   "id": "70aa941f",
   "metadata": {},
   "outputs": [
    {
     "data": {
      "text/html": [
       "<div>\n",
       "<style scoped>\n",
       "    .dataframe tbody tr th:only-of-type {\n",
       "        vertical-align: middle;\n",
       "    }\n",
       "\n",
       "    .dataframe tbody tr th {\n",
       "        vertical-align: top;\n",
       "    }\n",
       "\n",
       "    .dataframe thead th {\n",
       "        text-align: right;\n",
       "    }\n",
       "</style>\n",
       "<table border=\"1\" class=\"dataframe\">\n",
       "  <thead>\n",
       "    <tr style=\"text-align: right;\">\n",
       "      <th></th>\n",
       "      <th>country</th>\n",
       "      <th>country_long</th>\n",
       "      <th>name</th>\n",
       "      <th>gppd_idnr</th>\n",
       "      <th>capacity_mw</th>\n",
       "      <th>latitude</th>\n",
       "      <th>longitude</th>\n",
       "      <th>primary_fuel</th>\n",
       "      <th>other_fuel1</th>\n",
       "      <th>other_fuel2</th>\n",
       "      <th>...</th>\n",
       "      <th>year_of_capacity_data</th>\n",
       "      <th>generation_gwh_2013</th>\n",
       "      <th>generation_gwh_2014</th>\n",
       "      <th>generation_gwh_2015</th>\n",
       "      <th>generation_gwh_2016</th>\n",
       "      <th>generation_gwh_2017</th>\n",
       "      <th>generation_gwh_2018</th>\n",
       "      <th>generation_gwh_2019</th>\n",
       "      <th>generation_data_source</th>\n",
       "      <th>estimated_generation_gwh</th>\n",
       "    </tr>\n",
       "  </thead>\n",
       "  <tbody>\n",
       "    <tr>\n",
       "      <th>0</th>\n",
       "      <td>IND</td>\n",
       "      <td>India</td>\n",
       "      <td>ACME Solar Tower</td>\n",
       "      <td>WRI1020239</td>\n",
       "      <td>2.50</td>\n",
       "      <td>28.1839</td>\n",
       "      <td>73.2407</td>\n",
       "      <td>Solar</td>\n",
       "      <td>NaN</td>\n",
       "      <td>NaN</td>\n",
       "      <td>...</td>\n",
       "      <td>NaN</td>\n",
       "      <td>NaN</td>\n",
       "      <td>NaN</td>\n",
       "      <td>NaN</td>\n",
       "      <td>NaN</td>\n",
       "      <td>NaN</td>\n",
       "      <td>NaN</td>\n",
       "      <td>NaN</td>\n",
       "      <td>NaN</td>\n",
       "      <td>NaN</td>\n",
       "    </tr>\n",
       "    <tr>\n",
       "      <th>1</th>\n",
       "      <td>IND</td>\n",
       "      <td>India</td>\n",
       "      <td>ADITYA CEMENT WORKS</td>\n",
       "      <td>WRI1019881</td>\n",
       "      <td>98.00</td>\n",
       "      <td>24.7663</td>\n",
       "      <td>74.6090</td>\n",
       "      <td>Coal</td>\n",
       "      <td>NaN</td>\n",
       "      <td>NaN</td>\n",
       "      <td>...</td>\n",
       "      <td>NaN</td>\n",
       "      <td>NaN</td>\n",
       "      <td>NaN</td>\n",
       "      <td>NaN</td>\n",
       "      <td>NaN</td>\n",
       "      <td>NaN</td>\n",
       "      <td>NaN</td>\n",
       "      <td>NaN</td>\n",
       "      <td>NaN</td>\n",
       "      <td>NaN</td>\n",
       "    </tr>\n",
       "    <tr>\n",
       "      <th>2</th>\n",
       "      <td>IND</td>\n",
       "      <td>India</td>\n",
       "      <td>AES Saurashtra Windfarms</td>\n",
       "      <td>WRI1026669</td>\n",
       "      <td>39.20</td>\n",
       "      <td>21.9038</td>\n",
       "      <td>69.3732</td>\n",
       "      <td>Wind</td>\n",
       "      <td>NaN</td>\n",
       "      <td>NaN</td>\n",
       "      <td>...</td>\n",
       "      <td>NaN</td>\n",
       "      <td>NaN</td>\n",
       "      <td>NaN</td>\n",
       "      <td>NaN</td>\n",
       "      <td>NaN</td>\n",
       "      <td>NaN</td>\n",
       "      <td>NaN</td>\n",
       "      <td>NaN</td>\n",
       "      <td>NaN</td>\n",
       "      <td>NaN</td>\n",
       "    </tr>\n",
       "    <tr>\n",
       "      <th>3</th>\n",
       "      <td>IND</td>\n",
       "      <td>India</td>\n",
       "      <td>AGARTALA GT</td>\n",
       "      <td>IND0000001</td>\n",
       "      <td>135.00</td>\n",
       "      <td>23.8712</td>\n",
       "      <td>91.3602</td>\n",
       "      <td>Gas</td>\n",
       "      <td>NaN</td>\n",
       "      <td>NaN</td>\n",
       "      <td>...</td>\n",
       "      <td>2019.0</td>\n",
       "      <td>NaN</td>\n",
       "      <td>617.789264</td>\n",
       "      <td>843.747000</td>\n",
       "      <td>886.004428</td>\n",
       "      <td>663.774500</td>\n",
       "      <td>626.239128</td>\n",
       "      <td>NaN</td>\n",
       "      <td>Central Electricity Authority</td>\n",
       "      <td>NaN</td>\n",
       "    </tr>\n",
       "    <tr>\n",
       "      <th>4</th>\n",
       "      <td>IND</td>\n",
       "      <td>India</td>\n",
       "      <td>AKALTARA TPP</td>\n",
       "      <td>IND0000002</td>\n",
       "      <td>1800.00</td>\n",
       "      <td>21.9603</td>\n",
       "      <td>82.4091</td>\n",
       "      <td>Coal</td>\n",
       "      <td>Oil</td>\n",
       "      <td>NaN</td>\n",
       "      <td>...</td>\n",
       "      <td>2019.0</td>\n",
       "      <td>NaN</td>\n",
       "      <td>3035.550000</td>\n",
       "      <td>5916.370000</td>\n",
       "      <td>6243.000000</td>\n",
       "      <td>5385.579736</td>\n",
       "      <td>7279.000000</td>\n",
       "      <td>NaN</td>\n",
       "      <td>Central Electricity Authority</td>\n",
       "      <td>NaN</td>\n",
       "    </tr>\n",
       "    <tr>\n",
       "      <th>5</th>\n",
       "      <td>IND</td>\n",
       "      <td>India</td>\n",
       "      <td>AKRIMOTA LIG</td>\n",
       "      <td>IND0000003</td>\n",
       "      <td>250.00</td>\n",
       "      <td>23.7689</td>\n",
       "      <td>68.6447</td>\n",
       "      <td>Coal</td>\n",
       "      <td>Oil</td>\n",
       "      <td>NaN</td>\n",
       "      <td>...</td>\n",
       "      <td>2019.0</td>\n",
       "      <td>NaN</td>\n",
       "      <td>1153.421000</td>\n",
       "      <td>1208.852000</td>\n",
       "      <td>1175.765000</td>\n",
       "      <td>1147.913000</td>\n",
       "      <td>976.655000</td>\n",
       "      <td>NaN</td>\n",
       "      <td>Central Electricity Authority</td>\n",
       "      <td>NaN</td>\n",
       "    </tr>\n",
       "    <tr>\n",
       "      <th>6</th>\n",
       "      <td>IND</td>\n",
       "      <td>India</td>\n",
       "      <td>ALIYAR</td>\n",
       "      <td>IND0000004</td>\n",
       "      <td>60.00</td>\n",
       "      <td>10.4547</td>\n",
       "      <td>77.0078</td>\n",
       "      <td>Hydro</td>\n",
       "      <td>NaN</td>\n",
       "      <td>NaN</td>\n",
       "      <td>...</td>\n",
       "      <td>2019.0</td>\n",
       "      <td>NaN</td>\n",
       "      <td>157.558250</td>\n",
       "      <td>152.195200</td>\n",
       "      <td>61.421350</td>\n",
       "      <td>89.629600</td>\n",
       "      <td>48.327150</td>\n",
       "      <td>NaN</td>\n",
       "      <td>Central Electricity Authority</td>\n",
       "      <td>NaN</td>\n",
       "    </tr>\n",
       "    <tr>\n",
       "      <th>7</th>\n",
       "      <td>IND</td>\n",
       "      <td>India</td>\n",
       "      <td>ALLAIN DUHANGAN</td>\n",
       "      <td>IND0000005</td>\n",
       "      <td>192.00</td>\n",
       "      <td>32.2258</td>\n",
       "      <td>77.2070</td>\n",
       "      <td>Hydro</td>\n",
       "      <td>NaN</td>\n",
       "      <td>NaN</td>\n",
       "      <td>...</td>\n",
       "      <td>2019.0</td>\n",
       "      <td>NaN</td>\n",
       "      <td>674.391100</td>\n",
       "      <td>721.335200</td>\n",
       "      <td>675.724400</td>\n",
       "      <td>679.594950</td>\n",
       "      <td>579.318850</td>\n",
       "      <td>NaN</td>\n",
       "      <td>Central Electricity Authority</td>\n",
       "      <td>NaN</td>\n",
       "    </tr>\n",
       "    <tr>\n",
       "      <th>8</th>\n",
       "      <td>IND</td>\n",
       "      <td>India</td>\n",
       "      <td>ALMATTI DAM</td>\n",
       "      <td>IND0000006</td>\n",
       "      <td>290.00</td>\n",
       "      <td>16.3300</td>\n",
       "      <td>75.8863</td>\n",
       "      <td>Hydro</td>\n",
       "      <td>NaN</td>\n",
       "      <td>NaN</td>\n",
       "      <td>...</td>\n",
       "      <td>2019.0</td>\n",
       "      <td>NaN</td>\n",
       "      <td>480.594950</td>\n",
       "      <td>144.434200</td>\n",
       "      <td>402.029750</td>\n",
       "      <td>439.372100</td>\n",
       "      <td>406.377900</td>\n",
       "      <td>NaN</td>\n",
       "      <td>Central Electricity Authority</td>\n",
       "      <td>NaN</td>\n",
       "    </tr>\n",
       "    <tr>\n",
       "      <th>9</th>\n",
       "      <td>IND</td>\n",
       "      <td>India</td>\n",
       "      <td>AMAR KANTAK</td>\n",
       "      <td>IND0000007</td>\n",
       "      <td>210.00</td>\n",
       "      <td>23.1642</td>\n",
       "      <td>81.6373</td>\n",
       "      <td>Coal</td>\n",
       "      <td>Oil</td>\n",
       "      <td>NaN</td>\n",
       "      <td>...</td>\n",
       "      <td>2019.0</td>\n",
       "      <td>NaN</td>\n",
       "      <td>1887.904000</td>\n",
       "      <td>1643.046000</td>\n",
       "      <td>1338.093000</td>\n",
       "      <td>1563.457000</td>\n",
       "      <td>1487.880000</td>\n",
       "      <td>NaN</td>\n",
       "      <td>Central Electricity Authority</td>\n",
       "      <td>NaN</td>\n",
       "    </tr>\n",
       "    <tr>\n",
       "      <th>10</th>\n",
       "      <td>IND</td>\n",
       "      <td>India</td>\n",
       "      <td>AMARAVATI TPP</td>\n",
       "      <td>IND0000008</td>\n",
       "      <td>1350.00</td>\n",
       "      <td>21.0782</td>\n",
       "      <td>77.9009</td>\n",
       "      <td>Coal</td>\n",
       "      <td>Oil</td>\n",
       "      <td>NaN</td>\n",
       "      <td>...</td>\n",
       "      <td>2019.0</td>\n",
       "      <td>NaN</td>\n",
       "      <td>1920.971000</td>\n",
       "      <td>5629.663000</td>\n",
       "      <td>1701.008000</td>\n",
       "      <td>4350.558000</td>\n",
       "      <td>3717.154000</td>\n",
       "      <td>NaN</td>\n",
       "      <td>Central Electricity Authority</td>\n",
       "      <td>NaN</td>\n",
       "    </tr>\n",
       "    <tr>\n",
       "      <th>11</th>\n",
       "      <td>IND</td>\n",
       "      <td>India</td>\n",
       "      <td>ANANDPUR SAHIB ST-I&amp;II</td>\n",
       "      <td>IND0000009</td>\n",
       "      <td>134.00</td>\n",
       "      <td>31.2717</td>\n",
       "      <td>76.4938</td>\n",
       "      <td>Hydro</td>\n",
       "      <td>NaN</td>\n",
       "      <td>NaN</td>\n",
       "      <td>...</td>\n",
       "      <td>2019.0</td>\n",
       "      <td>NaN</td>\n",
       "      <td>614.412500</td>\n",
       "      <td>665.197300</td>\n",
       "      <td>670.500650</td>\n",
       "      <td>644.570950</td>\n",
       "      <td>425.641100</td>\n",
       "      <td>NaN</td>\n",
       "      <td>Central Electricity Authority</td>\n",
       "      <td>NaN</td>\n",
       "    </tr>\n",
       "    <tr>\n",
       "      <th>12</th>\n",
       "      <td>IND</td>\n",
       "      <td>India</td>\n",
       "      <td>ANAPARA \"C\"</td>\n",
       "      <td>IND0000010</td>\n",
       "      <td>1200.00</td>\n",
       "      <td>24.2007</td>\n",
       "      <td>82.8000</td>\n",
       "      <td>Coal</td>\n",
       "      <td>Oil</td>\n",
       "      <td>NaN</td>\n",
       "      <td>...</td>\n",
       "      <td>2019.0</td>\n",
       "      <td>NaN</td>\n",
       "      <td>7744.000000</td>\n",
       "      <td>8076.810500</td>\n",
       "      <td>7902.021600</td>\n",
       "      <td>7940.740000</td>\n",
       "      <td>7873.973000</td>\n",
       "      <td>NaN</td>\n",
       "      <td>Central Electricity Authority</td>\n",
       "      <td>NaN</td>\n",
       "    </tr>\n",
       "    <tr>\n",
       "      <th>13</th>\n",
       "      <td>IND</td>\n",
       "      <td>India</td>\n",
       "      <td>ANDHRA</td>\n",
       "      <td>IND0000011</td>\n",
       "      <td>16.95</td>\n",
       "      <td>31.2412</td>\n",
       "      <td>77.8769</td>\n",
       "      <td>Hydro</td>\n",
       "      <td>NaN</td>\n",
       "      <td>NaN</td>\n",
       "      <td>...</td>\n",
       "      <td>2019.0</td>\n",
       "      <td>NaN</td>\n",
       "      <td>NaN</td>\n",
       "      <td>NaN</td>\n",
       "      <td>NaN</td>\n",
       "      <td>NaN</td>\n",
       "      <td>NaN</td>\n",
       "      <td>NaN</td>\n",
       "      <td>NaN</td>\n",
       "      <td>NaN</td>\n",
       "    </tr>\n",
       "    <tr>\n",
       "      <th>14</th>\n",
       "      <td>IND</td>\n",
       "      <td>India</td>\n",
       "      <td>ANOOPGARH ST I&amp;II</td>\n",
       "      <td>IND0000012</td>\n",
       "      <td>9.00</td>\n",
       "      <td>NaN</td>\n",
       "      <td>NaN</td>\n",
       "      <td>Hydro</td>\n",
       "      <td>NaN</td>\n",
       "      <td>NaN</td>\n",
       "      <td>...</td>\n",
       "      <td>2019.0</td>\n",
       "      <td>NaN</td>\n",
       "      <td>NaN</td>\n",
       "      <td>NaN</td>\n",
       "      <td>NaN</td>\n",
       "      <td>NaN</td>\n",
       "      <td>NaN</td>\n",
       "      <td>NaN</td>\n",
       "      <td>NaN</td>\n",
       "      <td>NaN</td>\n",
       "    </tr>\n",
       "    <tr>\n",
       "      <th>15</th>\n",
       "      <td>IND</td>\n",
       "      <td>India</td>\n",
       "      <td>ANPARA</td>\n",
       "      <td>IND0000013</td>\n",
       "      <td>2630.00</td>\n",
       "      <td>24.2010</td>\n",
       "      <td>82.7891</td>\n",
       "      <td>Coal</td>\n",
       "      <td>Oil</td>\n",
       "      <td>NaN</td>\n",
       "      <td>...</td>\n",
       "      <td>2019.0</td>\n",
       "      <td>NaN</td>\n",
       "      <td>9670.879000</td>\n",
       "      <td>11151.069472</td>\n",
       "      <td>13227.352350</td>\n",
       "      <td>15334.876300</td>\n",
       "      <td>18697.655900</td>\n",
       "      <td>NaN</td>\n",
       "      <td>Central Electricity Authority</td>\n",
       "      <td>NaN</td>\n",
       "    </tr>\n",
       "    <tr>\n",
       "      <th>16</th>\n",
       "      <td>IND</td>\n",
       "      <td>India</td>\n",
       "      <td>ANTA GT</td>\n",
       "      <td>IND0000014</td>\n",
       "      <td>419.33</td>\n",
       "      <td>25.1797</td>\n",
       "      <td>76.3188</td>\n",
       "      <td>Gas</td>\n",
       "      <td>NaN</td>\n",
       "      <td>NaN</td>\n",
       "      <td>...</td>\n",
       "      <td>2019.0</td>\n",
       "      <td>NaN</td>\n",
       "      <td>1611.987000</td>\n",
       "      <td>909.000000</td>\n",
       "      <td>666.420000</td>\n",
       "      <td>430.000000</td>\n",
       "      <td>528.280000</td>\n",
       "      <td>NaN</td>\n",
       "      <td>Central Electricity Authority</td>\n",
       "      <td>NaN</td>\n",
       "    </tr>\n",
       "    <tr>\n",
       "      <th>17</th>\n",
       "      <td>IND</td>\n",
       "      <td>India</td>\n",
       "      <td>ANUPPUR</td>\n",
       "      <td>WRI1019996</td>\n",
       "      <td>600.00</td>\n",
       "      <td>23.0666</td>\n",
       "      <td>81.7841</td>\n",
       "      <td>Coal</td>\n",
       "      <td>NaN</td>\n",
       "      <td>NaN</td>\n",
       "      <td>...</td>\n",
       "      <td>NaN</td>\n",
       "      <td>NaN</td>\n",
       "      <td>NaN</td>\n",
       "      <td>NaN</td>\n",
       "      <td>NaN</td>\n",
       "      <td>NaN</td>\n",
       "      <td>NaN</td>\n",
       "      <td>NaN</td>\n",
       "      <td>NaN</td>\n",
       "      <td>NaN</td>\n",
       "    </tr>\n",
       "    <tr>\n",
       "      <th>18</th>\n",
       "      <td>IND</td>\n",
       "      <td>India</td>\n",
       "      <td>ANUPUR TPP</td>\n",
       "      <td>IND0000015</td>\n",
       "      <td>1200.00</td>\n",
       "      <td>23.0655</td>\n",
       "      <td>81.7865</td>\n",
       "      <td>Coal</td>\n",
       "      <td>Oil</td>\n",
       "      <td>NaN</td>\n",
       "      <td>...</td>\n",
       "      <td>2019.0</td>\n",
       "      <td>NaN</td>\n",
       "      <td>NaN</td>\n",
       "      <td>2702.823200</td>\n",
       "      <td>3515.749600</td>\n",
       "      <td>5777.120000</td>\n",
       "      <td>6241.801000</td>\n",
       "      <td>NaN</td>\n",
       "      <td>Central Electricity Authority</td>\n",
       "      <td>NaN</td>\n",
       "    </tr>\n",
       "    <tr>\n",
       "      <th>19</th>\n",
       "      <td>IND</td>\n",
       "      <td>India</td>\n",
       "      <td>ARVINDNAGAR SUGAR</td>\n",
       "      <td>WRI1019938</td>\n",
       "      <td>10.00</td>\n",
       "      <td>18.0845</td>\n",
       "      <td>76.1851</td>\n",
       "      <td>Biomass</td>\n",
       "      <td>NaN</td>\n",
       "      <td>NaN</td>\n",
       "      <td>...</td>\n",
       "      <td>NaN</td>\n",
       "      <td>NaN</td>\n",
       "      <td>NaN</td>\n",
       "      <td>NaN</td>\n",
       "      <td>NaN</td>\n",
       "      <td>NaN</td>\n",
       "      <td>NaN</td>\n",
       "      <td>NaN</td>\n",
       "      <td>NaN</td>\n",
       "      <td>NaN</td>\n",
       "    </tr>\n",
       "  </tbody>\n",
       "</table>\n",
       "<p>20 rows × 27 columns</p>\n",
       "</div>"
      ],
      "text/plain": [
       "   country country_long                      name   gppd_idnr  capacity_mw  \\\n",
       "0      IND        India          ACME Solar Tower  WRI1020239         2.50   \n",
       "1      IND        India       ADITYA CEMENT WORKS  WRI1019881        98.00   \n",
       "2      IND        India  AES Saurashtra Windfarms  WRI1026669        39.20   \n",
       "3      IND        India               AGARTALA GT  IND0000001       135.00   \n",
       "4      IND        India              AKALTARA TPP  IND0000002      1800.00   \n",
       "5      IND        India              AKRIMOTA LIG  IND0000003       250.00   \n",
       "6      IND        India                    ALIYAR  IND0000004        60.00   \n",
       "7      IND        India           ALLAIN DUHANGAN  IND0000005       192.00   \n",
       "8      IND        India               ALMATTI DAM  IND0000006       290.00   \n",
       "9      IND        India               AMAR KANTAK  IND0000007       210.00   \n",
       "10     IND        India             AMARAVATI TPP  IND0000008      1350.00   \n",
       "11     IND        India    ANANDPUR SAHIB ST-I&II  IND0000009       134.00   \n",
       "12     IND        India               ANAPARA \"C\"  IND0000010      1200.00   \n",
       "13     IND        India                    ANDHRA  IND0000011        16.95   \n",
       "14     IND        India         ANOOPGARH ST I&II  IND0000012         9.00   \n",
       "15     IND        India                    ANPARA  IND0000013      2630.00   \n",
       "16     IND        India                   ANTA GT  IND0000014       419.33   \n",
       "17     IND        India                   ANUPPUR  WRI1019996       600.00   \n",
       "18     IND        India                ANUPUR TPP  IND0000015      1200.00   \n",
       "19     IND        India         ARVINDNAGAR SUGAR  WRI1019938        10.00   \n",
       "\n",
       "    latitude  longitude primary_fuel other_fuel1 other_fuel2  ...  \\\n",
       "0    28.1839    73.2407        Solar         NaN         NaN  ...   \n",
       "1    24.7663    74.6090         Coal         NaN         NaN  ...   \n",
       "2    21.9038    69.3732         Wind         NaN         NaN  ...   \n",
       "3    23.8712    91.3602          Gas         NaN         NaN  ...   \n",
       "4    21.9603    82.4091         Coal         Oil         NaN  ...   \n",
       "5    23.7689    68.6447         Coal         Oil         NaN  ...   \n",
       "6    10.4547    77.0078        Hydro         NaN         NaN  ...   \n",
       "7    32.2258    77.2070        Hydro         NaN         NaN  ...   \n",
       "8    16.3300    75.8863        Hydro         NaN         NaN  ...   \n",
       "9    23.1642    81.6373         Coal         Oil         NaN  ...   \n",
       "10   21.0782    77.9009         Coal         Oil         NaN  ...   \n",
       "11   31.2717    76.4938        Hydro         NaN         NaN  ...   \n",
       "12   24.2007    82.8000         Coal         Oil         NaN  ...   \n",
       "13   31.2412    77.8769        Hydro         NaN         NaN  ...   \n",
       "14       NaN        NaN        Hydro         NaN         NaN  ...   \n",
       "15   24.2010    82.7891         Coal         Oil         NaN  ...   \n",
       "16   25.1797    76.3188          Gas         NaN         NaN  ...   \n",
       "17   23.0666    81.7841         Coal         NaN         NaN  ...   \n",
       "18   23.0655    81.7865         Coal         Oil         NaN  ...   \n",
       "19   18.0845    76.1851      Biomass         NaN         NaN  ...   \n",
       "\n",
       "    year_of_capacity_data  generation_gwh_2013 generation_gwh_2014  \\\n",
       "0                     NaN                  NaN                 NaN   \n",
       "1                     NaN                  NaN                 NaN   \n",
       "2                     NaN                  NaN                 NaN   \n",
       "3                  2019.0                  NaN          617.789264   \n",
       "4                  2019.0                  NaN         3035.550000   \n",
       "5                  2019.0                  NaN         1153.421000   \n",
       "6                  2019.0                  NaN          157.558250   \n",
       "7                  2019.0                  NaN          674.391100   \n",
       "8                  2019.0                  NaN          480.594950   \n",
       "9                  2019.0                  NaN         1887.904000   \n",
       "10                 2019.0                  NaN         1920.971000   \n",
       "11                 2019.0                  NaN          614.412500   \n",
       "12                 2019.0                  NaN         7744.000000   \n",
       "13                 2019.0                  NaN                 NaN   \n",
       "14                 2019.0                  NaN                 NaN   \n",
       "15                 2019.0                  NaN         9670.879000   \n",
       "16                 2019.0                  NaN         1611.987000   \n",
       "17                    NaN                  NaN                 NaN   \n",
       "18                 2019.0                  NaN                 NaN   \n",
       "19                    NaN                  NaN                 NaN   \n",
       "\n",
       "   generation_gwh_2015 generation_gwh_2016 generation_gwh_2017  \\\n",
       "0                  NaN                 NaN                 NaN   \n",
       "1                  NaN                 NaN                 NaN   \n",
       "2                  NaN                 NaN                 NaN   \n",
       "3           843.747000          886.004428          663.774500   \n",
       "4          5916.370000         6243.000000         5385.579736   \n",
       "5          1208.852000         1175.765000         1147.913000   \n",
       "6           152.195200           61.421350           89.629600   \n",
       "7           721.335200          675.724400          679.594950   \n",
       "8           144.434200          402.029750          439.372100   \n",
       "9          1643.046000         1338.093000         1563.457000   \n",
       "10         5629.663000         1701.008000         4350.558000   \n",
       "11          665.197300          670.500650          644.570950   \n",
       "12         8076.810500         7902.021600         7940.740000   \n",
       "13                 NaN                 NaN                 NaN   \n",
       "14                 NaN                 NaN                 NaN   \n",
       "15        11151.069472        13227.352350        15334.876300   \n",
       "16          909.000000          666.420000          430.000000   \n",
       "17                 NaN                 NaN                 NaN   \n",
       "18         2702.823200         3515.749600         5777.120000   \n",
       "19                 NaN                 NaN                 NaN   \n",
       "\n",
       "    generation_gwh_2018  generation_gwh_2019         generation_data_source  \\\n",
       "0                   NaN                  NaN                            NaN   \n",
       "1                   NaN                  NaN                            NaN   \n",
       "2                   NaN                  NaN                            NaN   \n",
       "3            626.239128                  NaN  Central Electricity Authority   \n",
       "4           7279.000000                  NaN  Central Electricity Authority   \n",
       "5            976.655000                  NaN  Central Electricity Authority   \n",
       "6             48.327150                  NaN  Central Electricity Authority   \n",
       "7            579.318850                  NaN  Central Electricity Authority   \n",
       "8            406.377900                  NaN  Central Electricity Authority   \n",
       "9           1487.880000                  NaN  Central Electricity Authority   \n",
       "10          3717.154000                  NaN  Central Electricity Authority   \n",
       "11           425.641100                  NaN  Central Electricity Authority   \n",
       "12          7873.973000                  NaN  Central Electricity Authority   \n",
       "13                  NaN                  NaN                            NaN   \n",
       "14                  NaN                  NaN                            NaN   \n",
       "15         18697.655900                  NaN  Central Electricity Authority   \n",
       "16           528.280000                  NaN  Central Electricity Authority   \n",
       "17                  NaN                  NaN                            NaN   \n",
       "18          6241.801000                  NaN  Central Electricity Authority   \n",
       "19                  NaN                  NaN                            NaN   \n",
       "\n",
       "    estimated_generation_gwh  \n",
       "0                        NaN  \n",
       "1                        NaN  \n",
       "2                        NaN  \n",
       "3                        NaN  \n",
       "4                        NaN  \n",
       "5                        NaN  \n",
       "6                        NaN  \n",
       "7                        NaN  \n",
       "8                        NaN  \n",
       "9                        NaN  \n",
       "10                       NaN  \n",
       "11                       NaN  \n",
       "12                       NaN  \n",
       "13                       NaN  \n",
       "14                       NaN  \n",
       "15                       NaN  \n",
       "16                       NaN  \n",
       "17                       NaN  \n",
       "18                       NaN  \n",
       "19                       NaN  \n",
       "\n",
       "[20 rows x 27 columns]"
      ]
     },
     "execution_count": 2,
     "metadata": {},
     "output_type": "execute_result"
    }
   ],
   "source": [
    "data=pd.read_csv('database_IND.csv')\n",
    "data.head(20)"
   ]
  },
  {
   "cell_type": "code",
   "execution_count": 3,
   "id": "6222f587",
   "metadata": {},
   "outputs": [
    {
     "data": {
      "text/plain": [
       "(907, 27)"
      ]
     },
     "execution_count": 3,
     "metadata": {},
     "output_type": "execute_result"
    }
   ],
   "source": [
    "data.shape"
   ]
  },
  {
   "cell_type": "code",
   "execution_count": 4,
   "id": "6900758c",
   "metadata": {},
   "outputs": [
    {
     "data": {
      "text/html": [
       "<div>\n",
       "<style scoped>\n",
       "    .dataframe tbody tr th:only-of-type {\n",
       "        vertical-align: middle;\n",
       "    }\n",
       "\n",
       "    .dataframe tbody tr th {\n",
       "        vertical-align: top;\n",
       "    }\n",
       "\n",
       "    .dataframe thead th {\n",
       "        text-align: right;\n",
       "    }\n",
       "</style>\n",
       "<table border=\"1\" class=\"dataframe\">\n",
       "  <thead>\n",
       "    <tr style=\"text-align: right;\">\n",
       "      <th></th>\n",
       "      <th>capacity_mw</th>\n",
       "      <th>latitude</th>\n",
       "      <th>longitude</th>\n",
       "      <th>other_fuel3</th>\n",
       "      <th>commissioning_year</th>\n",
       "      <th>wepp_id</th>\n",
       "      <th>year_of_capacity_data</th>\n",
       "      <th>generation_gwh_2013</th>\n",
       "      <th>generation_gwh_2014</th>\n",
       "      <th>generation_gwh_2015</th>\n",
       "      <th>generation_gwh_2016</th>\n",
       "      <th>generation_gwh_2017</th>\n",
       "      <th>generation_gwh_2018</th>\n",
       "      <th>generation_gwh_2019</th>\n",
       "      <th>estimated_generation_gwh</th>\n",
       "    </tr>\n",
       "  </thead>\n",
       "  <tbody>\n",
       "    <tr>\n",
       "      <th>count</th>\n",
       "      <td>907.000000</td>\n",
       "      <td>861.000000</td>\n",
       "      <td>861.000000</td>\n",
       "      <td>0.0</td>\n",
       "      <td>527.000000</td>\n",
       "      <td>0.0</td>\n",
       "      <td>519.0</td>\n",
       "      <td>0.0</td>\n",
       "      <td>398.000000</td>\n",
       "      <td>422.000000</td>\n",
       "      <td>434.000000</td>\n",
       "      <td>440.000000</td>\n",
       "      <td>448.000000</td>\n",
       "      <td>0.0</td>\n",
       "      <td>0.0</td>\n",
       "    </tr>\n",
       "    <tr>\n",
       "      <th>mean</th>\n",
       "      <td>326.223755</td>\n",
       "      <td>21.197918</td>\n",
       "      <td>77.464907</td>\n",
       "      <td>NaN</td>\n",
       "      <td>1997.091082</td>\n",
       "      <td>NaN</td>\n",
       "      <td>2019.0</td>\n",
       "      <td>NaN</td>\n",
       "      <td>2431.823590</td>\n",
       "      <td>2428.226946</td>\n",
       "      <td>2467.936859</td>\n",
       "      <td>2547.759305</td>\n",
       "      <td>2600.804099</td>\n",
       "      <td>NaN</td>\n",
       "      <td>NaN</td>\n",
       "    </tr>\n",
       "    <tr>\n",
       "      <th>std</th>\n",
       "      <td>590.085456</td>\n",
       "      <td>6.239612</td>\n",
       "      <td>4.939316</td>\n",
       "      <td>NaN</td>\n",
       "      <td>17.082868</td>\n",
       "      <td>NaN</td>\n",
       "      <td>0.0</td>\n",
       "      <td>NaN</td>\n",
       "      <td>4026.440035</td>\n",
       "      <td>4194.596959</td>\n",
       "      <td>4162.884308</td>\n",
       "      <td>4196.991169</td>\n",
       "      <td>4314.880456</td>\n",
       "      <td>NaN</td>\n",
       "      <td>NaN</td>\n",
       "    </tr>\n",
       "    <tr>\n",
       "      <th>min</th>\n",
       "      <td>0.000000</td>\n",
       "      <td>8.168900</td>\n",
       "      <td>68.644700</td>\n",
       "      <td>NaN</td>\n",
       "      <td>1927.000000</td>\n",
       "      <td>NaN</td>\n",
       "      <td>2019.0</td>\n",
       "      <td>NaN</td>\n",
       "      <td>0.000000</td>\n",
       "      <td>0.000000</td>\n",
       "      <td>0.000000</td>\n",
       "      <td>0.000000</td>\n",
       "      <td>0.000000</td>\n",
       "      <td>NaN</td>\n",
       "      <td>NaN</td>\n",
       "    </tr>\n",
       "    <tr>\n",
       "      <th>25%</th>\n",
       "      <td>16.725000</td>\n",
       "      <td>16.773900</td>\n",
       "      <td>74.256200</td>\n",
       "      <td>NaN</td>\n",
       "      <td>1988.000000</td>\n",
       "      <td>NaN</td>\n",
       "      <td>2019.0</td>\n",
       "      <td>NaN</td>\n",
       "      <td>223.557672</td>\n",
       "      <td>176.381063</td>\n",
       "      <td>188.285252</td>\n",
       "      <td>177.874930</td>\n",
       "      <td>193.378250</td>\n",
       "      <td>NaN</td>\n",
       "      <td>NaN</td>\n",
       "    </tr>\n",
       "    <tr>\n",
       "      <th>50%</th>\n",
       "      <td>59.200000</td>\n",
       "      <td>21.780000</td>\n",
       "      <td>76.719500</td>\n",
       "      <td>NaN</td>\n",
       "      <td>2001.000000</td>\n",
       "      <td>NaN</td>\n",
       "      <td>2019.0</td>\n",
       "      <td>NaN</td>\n",
       "      <td>801.123775</td>\n",
       "      <td>711.181225</td>\n",
       "      <td>737.205450</td>\n",
       "      <td>817.977250</td>\n",
       "      <td>751.644375</td>\n",
       "      <td>NaN</td>\n",
       "      <td>NaN</td>\n",
       "    </tr>\n",
       "    <tr>\n",
       "      <th>75%</th>\n",
       "      <td>385.250000</td>\n",
       "      <td>25.512400</td>\n",
       "      <td>79.440800</td>\n",
       "      <td>NaN</td>\n",
       "      <td>2012.000000</td>\n",
       "      <td>NaN</td>\n",
       "      <td>2019.0</td>\n",
       "      <td>NaN</td>\n",
       "      <td>3035.306250</td>\n",
       "      <td>3084.121250</td>\n",
       "      <td>3282.861313</td>\n",
       "      <td>3275.690475</td>\n",
       "      <td>3143.535900</td>\n",
       "      <td>NaN</td>\n",
       "      <td>NaN</td>\n",
       "    </tr>\n",
       "    <tr>\n",
       "      <th>max</th>\n",
       "      <td>4760.000000</td>\n",
       "      <td>34.649000</td>\n",
       "      <td>95.408000</td>\n",
       "      <td>NaN</td>\n",
       "      <td>2018.000000</td>\n",
       "      <td>NaN</td>\n",
       "      <td>2019.0</td>\n",
       "      <td>NaN</td>\n",
       "      <td>28127.000000</td>\n",
       "      <td>30539.000000</td>\n",
       "      <td>30015.000000</td>\n",
       "      <td>35116.000000</td>\n",
       "      <td>35136.000000</td>\n",
       "      <td>NaN</td>\n",
       "      <td>NaN</td>\n",
       "    </tr>\n",
       "  </tbody>\n",
       "</table>\n",
       "</div>"
      ],
      "text/plain": [
       "       capacity_mw    latitude   longitude  other_fuel3  commissioning_year  \\\n",
       "count   907.000000  861.000000  861.000000          0.0          527.000000   \n",
       "mean    326.223755   21.197918   77.464907          NaN         1997.091082   \n",
       "std     590.085456    6.239612    4.939316          NaN           17.082868   \n",
       "min       0.000000    8.168900   68.644700          NaN         1927.000000   \n",
       "25%      16.725000   16.773900   74.256200          NaN         1988.000000   \n",
       "50%      59.200000   21.780000   76.719500          NaN         2001.000000   \n",
       "75%     385.250000   25.512400   79.440800          NaN         2012.000000   \n",
       "max    4760.000000   34.649000   95.408000          NaN         2018.000000   \n",
       "\n",
       "       wepp_id  year_of_capacity_data  generation_gwh_2013  \\\n",
       "count      0.0                  519.0                  0.0   \n",
       "mean       NaN                 2019.0                  NaN   \n",
       "std        NaN                    0.0                  NaN   \n",
       "min        NaN                 2019.0                  NaN   \n",
       "25%        NaN                 2019.0                  NaN   \n",
       "50%        NaN                 2019.0                  NaN   \n",
       "75%        NaN                 2019.0                  NaN   \n",
       "max        NaN                 2019.0                  NaN   \n",
       "\n",
       "       generation_gwh_2014  generation_gwh_2015  generation_gwh_2016  \\\n",
       "count           398.000000           422.000000           434.000000   \n",
       "mean           2431.823590          2428.226946          2467.936859   \n",
       "std            4026.440035          4194.596959          4162.884308   \n",
       "min               0.000000             0.000000             0.000000   \n",
       "25%             223.557672           176.381063           188.285252   \n",
       "50%             801.123775           711.181225           737.205450   \n",
       "75%            3035.306250          3084.121250          3282.861313   \n",
       "max           28127.000000         30539.000000         30015.000000   \n",
       "\n",
       "       generation_gwh_2017  generation_gwh_2018  generation_gwh_2019  \\\n",
       "count           440.000000           448.000000                  0.0   \n",
       "mean           2547.759305          2600.804099                  NaN   \n",
       "std            4196.991169          4314.880456                  NaN   \n",
       "min               0.000000             0.000000                  NaN   \n",
       "25%             177.874930           193.378250                  NaN   \n",
       "50%             817.977250           751.644375                  NaN   \n",
       "75%            3275.690475          3143.535900                  NaN   \n",
       "max           35116.000000         35136.000000                  NaN   \n",
       "\n",
       "       estimated_generation_gwh  \n",
       "count                       0.0  \n",
       "mean                        NaN  \n",
       "std                         NaN  \n",
       "min                         NaN  \n",
       "25%                         NaN  \n",
       "50%                         NaN  \n",
       "75%                         NaN  \n",
       "max                         NaN  "
      ]
     },
     "execution_count": 4,
     "metadata": {},
     "output_type": "execute_result"
    }
   ],
   "source": [
    "data.describe()"
   ]
  },
  {
   "cell_type": "markdown",
   "id": "7b114ef4",
   "metadata": {},
   "source": [
    "#### Checking for Null values"
   ]
  },
  {
   "cell_type": "code",
   "execution_count": 5,
   "id": "0223816a",
   "metadata": {},
   "outputs": [
    {
     "data": {
      "text/plain": [
       "country                       0\n",
       "country_long                  0\n",
       "name                          0\n",
       "gppd_idnr                     0\n",
       "capacity_mw                   0\n",
       "latitude                     46\n",
       "longitude                    46\n",
       "primary_fuel                  0\n",
       "other_fuel1                 709\n",
       "other_fuel2                 906\n",
       "other_fuel3                 907\n",
       "commissioning_year          380\n",
       "owner                       565\n",
       "source                        0\n",
       "url                           0\n",
       "geolocation_source           19\n",
       "wepp_id                     907\n",
       "year_of_capacity_data       388\n",
       "generation_gwh_2013         907\n",
       "generation_gwh_2014         509\n",
       "generation_gwh_2015         485\n",
       "generation_gwh_2016         473\n",
       "generation_gwh_2017         467\n",
       "generation_gwh_2018         459\n",
       "generation_gwh_2019         907\n",
       "generation_data_source      458\n",
       "estimated_generation_gwh    907\n",
       "dtype: int64"
      ]
     },
     "execution_count": 5,
     "metadata": {},
     "output_type": "execute_result"
    }
   ],
   "source": [
    "data.isna().sum()"
   ]
  },
  {
   "cell_type": "markdown",
   "id": "b6851dc6",
   "metadata": {},
   "source": [
    "#### Checking datatypes of columns"
   ]
  },
  {
   "cell_type": "code",
   "execution_count": 6,
   "id": "45d0c781",
   "metadata": {},
   "outputs": [
    {
     "data": {
      "text/plain": [
       "country                      object\n",
       "country_long                 object\n",
       "name                         object\n",
       "gppd_idnr                    object\n",
       "capacity_mw                 float64\n",
       "latitude                    float64\n",
       "longitude                   float64\n",
       "primary_fuel                 object\n",
       "other_fuel1                  object\n",
       "other_fuel2                  object\n",
       "other_fuel3                 float64\n",
       "commissioning_year          float64\n",
       "owner                        object\n",
       "source                       object\n",
       "url                          object\n",
       "geolocation_source           object\n",
       "wepp_id                     float64\n",
       "year_of_capacity_data       float64\n",
       "generation_gwh_2013         float64\n",
       "generation_gwh_2014         float64\n",
       "generation_gwh_2015         float64\n",
       "generation_gwh_2016         float64\n",
       "generation_gwh_2017         float64\n",
       "generation_gwh_2018         float64\n",
       "generation_gwh_2019         float64\n",
       "generation_data_source       object\n",
       "estimated_generation_gwh    float64\n",
       "dtype: object"
      ]
     },
     "execution_count": 6,
     "metadata": {},
     "output_type": "execute_result"
    }
   ],
   "source": [
    "data.dtypes"
   ]
  },
  {
   "cell_type": "markdown",
   "id": "63c53a5c",
   "metadata": {},
   "source": [
    "#### Dropping columns in which almost no data available"
   ]
  },
  {
   "cell_type": "code",
   "execution_count": 7,
   "id": "3f30cf7d",
   "metadata": {},
   "outputs": [],
   "source": [
    "data=data.drop(columns=['other_fuel1','other_fuel2','other_fuel3','wepp_id','generation_gwh_2013','generation_gwh_2019','estimated_generation_gwh','owner'])"
   ]
  },
  {
   "cell_type": "code",
   "execution_count": 8,
   "id": "6e9027e2",
   "metadata": {},
   "outputs": [
    {
     "data": {
      "text/plain": [
       "(907, 19)"
      ]
     },
     "execution_count": 8,
     "metadata": {},
     "output_type": "execute_result"
    }
   ],
   "source": [
    "data.shape"
   ]
  },
  {
   "cell_type": "markdown",
   "id": "f73a372d",
   "metadata": {},
   "source": [
    "#### let's deal with null values"
   ]
  },
  {
   "cell_type": "code",
   "execution_count": 9,
   "id": "4fc5f174",
   "metadata": {},
   "outputs": [],
   "source": [
    "data['latitude']=data['latitude'].fillna(data['latitude'].mean())"
   ]
  },
  {
   "cell_type": "code",
   "execution_count": 10,
   "id": "f29c41a9",
   "metadata": {},
   "outputs": [],
   "source": [
    "data['longitude']=data['longitude'].fillna(data['longitude'].mean())"
   ]
  },
  {
   "cell_type": "code",
   "execution_count": 11,
   "id": "7c4ea4f1",
   "metadata": {},
   "outputs": [],
   "source": [
    "data['geolocation_source']=data['geolocation_source'].fillna(data['geolocation_source'].mode()[0])"
   ]
  },
  {
   "cell_type": "code",
   "execution_count": 12,
   "id": "885ef526",
   "metadata": {},
   "outputs": [],
   "source": [
    "data['commissioning_year']=data['commissioning_year'].fillna(data['commissioning_year'].mode()[0])"
   ]
  },
  {
   "cell_type": "code",
   "execution_count": 13,
   "id": "fb1e532f",
   "metadata": {},
   "outputs": [],
   "source": [
    "data['year_of_capacity_data']=data['year_of_capacity_data'].fillna(data['year_of_capacity_data'].mode()[0])"
   ]
  },
  {
   "cell_type": "code",
   "execution_count": 14,
   "id": "291463c5",
   "metadata": {},
   "outputs": [],
   "source": [
    "data['generation_gwh_2014']=data['generation_gwh_2014'].fillna(data['generation_gwh_2014'].mean())"
   ]
  },
  {
   "cell_type": "code",
   "execution_count": 15,
   "id": "bb95b169",
   "metadata": {},
   "outputs": [],
   "source": [
    "data['generation_gwh_2015']=data['generation_gwh_2015'].fillna(data['generation_gwh_2015'].mean())"
   ]
  },
  {
   "cell_type": "code",
   "execution_count": 16,
   "id": "7f2beb55",
   "metadata": {},
   "outputs": [],
   "source": [
    "data['generation_gwh_2016']=data['generation_gwh_2016'].fillna(data['generation_gwh_2016'].mean())"
   ]
  },
  {
   "cell_type": "code",
   "execution_count": 17,
   "id": "eb8a5176",
   "metadata": {},
   "outputs": [],
   "source": [
    "data['generation_gwh_2017']=data['generation_gwh_2017'].fillna(data['generation_gwh_2017'].mean())"
   ]
  },
  {
   "cell_type": "code",
   "execution_count": 18,
   "id": "39890d12",
   "metadata": {},
   "outputs": [],
   "source": [
    "data['generation_gwh_2018']=data['generation_gwh_2018'].fillna(data['generation_gwh_2018'].mean())"
   ]
  },
  {
   "cell_type": "code",
   "execution_count": 19,
   "id": "a71c5b99",
   "metadata": {},
   "outputs": [],
   "source": [
    "data['generation_data_source']=data['generation_data_source'].fillna(data['generation_data_source'].mode()[0])"
   ]
  },
  {
   "cell_type": "markdown",
   "id": "9ff727f0",
   "metadata": {},
   "source": [
    "#### Checking for values which has 0 values"
   ]
  },
  {
   "cell_type": "code",
   "execution_count": 20,
   "id": "7240f9cc",
   "metadata": {},
   "outputs": [
    {
     "name": "stdout",
     "output_type": "stream",
     "text": [
      "Count of zeros in column  country  is :  0\n",
      "Count of zeros in column  country_long  is :  0\n",
      "Count of zeros in column  name  is :  0\n",
      "Count of zeros in column  gppd_idnr  is :  0\n",
      "Count of zeros in column  capacity_mw  is :  1\n",
      "Count of zeros in column  latitude  is :  0\n",
      "Count of zeros in column  longitude  is :  0\n",
      "Count of zeros in column  primary_fuel  is :  0\n",
      "Count of zeros in column  commissioning_year  is :  0\n",
      "Count of zeros in column  source  is :  0\n",
      "Count of zeros in column  url  is :  0\n",
      "Count of zeros in column  geolocation_source  is :  0\n",
      "Count of zeros in column  year_of_capacity_data  is :  0\n",
      "Count of zeros in column  generation_gwh_2014  is :  28\n",
      "Count of zeros in column  generation_gwh_2015  is :  27\n",
      "Count of zeros in column  generation_gwh_2016  is :  30\n",
      "Count of zeros in column  generation_gwh_2017  is :  32\n",
      "Count of zeros in column  generation_gwh_2018  is :  39\n",
      "Count of zeros in column  generation_data_source  is :  0\n"
     ]
    }
   ],
   "source": [
    "for column_name in data.columns:\n",
    "    column = data[column_name]\n",
    "    # Get the count of Zeros in column \n",
    "    count = (column == 0).sum()\n",
    "    print('Count of zeros in column ', column_name, ' is : ', count)"
   ]
  },
  {
   "cell_type": "markdown",
   "id": "8f5f1b36",
   "metadata": {},
   "source": [
    "#### let's deal with 0 values"
   ]
  },
  {
   "cell_type": "code",
   "execution_count": 21,
   "id": "6d2695da",
   "metadata": {},
   "outputs": [],
   "source": [
    "data['capacity_mw']=data['capacity_mw'].replace(0.0,data['capacity_mw'].mean())"
   ]
  },
  {
   "cell_type": "code",
   "execution_count": 22,
   "id": "ade32885",
   "metadata": {},
   "outputs": [],
   "source": [
    "data['generation_gwh_2014']=data['generation_gwh_2014'].replace(0.0,data['generation_gwh_2014'].mean())"
   ]
  },
  {
   "cell_type": "code",
   "execution_count": 23,
   "id": "2063a604",
   "metadata": {},
   "outputs": [],
   "source": [
    "data['generation_gwh_2015']=data['generation_gwh_2015'].replace(0.0,data['generation_gwh_2015'].mean())"
   ]
  },
  {
   "cell_type": "code",
   "execution_count": 24,
   "id": "3afe9cf6",
   "metadata": {},
   "outputs": [],
   "source": [
    "data['generation_gwh_2016']=data['generation_gwh_2016'].replace(0.0,data['generation_gwh_2016'].mean())"
   ]
  },
  {
   "cell_type": "code",
   "execution_count": 25,
   "id": "5248af42",
   "metadata": {},
   "outputs": [],
   "source": [
    "data['generation_gwh_2017']=data['generation_gwh_2017'].replace(0.0,data['generation_gwh_2017'].mean())"
   ]
  },
  {
   "cell_type": "code",
   "execution_count": 26,
   "id": "208758db",
   "metadata": {},
   "outputs": [],
   "source": [
    "data['generation_gwh_2018']=data['generation_gwh_2018'].replace(0.0,data['generation_gwh_2018'].mean())"
   ]
  },
  {
   "cell_type": "code",
   "execution_count": 27,
   "id": "4f23c836",
   "metadata": {},
   "outputs": [
    {
     "data": {
      "text/plain": [
       "country                    object\n",
       "country_long               object\n",
       "name                       object\n",
       "gppd_idnr                  object\n",
       "capacity_mw               float64\n",
       "latitude                  float64\n",
       "longitude                 float64\n",
       "primary_fuel               object\n",
       "commissioning_year        float64\n",
       "source                     object\n",
       "url                        object\n",
       "geolocation_source         object\n",
       "year_of_capacity_data     float64\n",
       "generation_gwh_2014       float64\n",
       "generation_gwh_2015       float64\n",
       "generation_gwh_2016       float64\n",
       "generation_gwh_2017       float64\n",
       "generation_gwh_2018       float64\n",
       "generation_data_source     object\n",
       "dtype: object"
      ]
     },
     "execution_count": 27,
     "metadata": {},
     "output_type": "execute_result"
    }
   ],
   "source": [
    "data.dtypes"
   ]
  },
  {
   "cell_type": "markdown",
   "id": "40c25ab6",
   "metadata": {},
   "source": [
    "### Visualization of the Categorical columns"
   ]
  },
  {
   "cell_type": "code",
   "execution_count": 28,
   "id": "6887215e",
   "metadata": {},
   "outputs": [
    {
     "name": "stdout",
     "output_type": "stream",
     "text": [
      "IND    907\n",
      "Name: country, dtype: int64\n"
     ]
    },
    {
     "data": {
      "image/png": "[encoded data removed]",
      "text/plain": [
       "<Figure size 432x288 with 1 Axes>"
      ]
     },
     "metadata": {
      "needs_background": "light"
     },
     "output_type": "display_data"
    }
   ],
   "source": [
    "ax=sns.countplot(x='country',data=data)\n",
    "print(data['country'].value_counts())"
   ]
  },
  {
   "cell_type": "code",
   "execution_count": 29,
   "id": "d3bc8025",
   "metadata": {},
   "outputs": [
    {
     "name": "stdout",
     "output_type": "stream",
     "text": [
      "India    907\n",
      "Name: country_long, dtype: int64\n"
     ]
    },
    {
     "data": {
      "image/png": "[encoded data removed]",
      "text/plain": [
       "<Figure size 432x288 with 1 Axes>"
      ]
     },
     "metadata": {
      "needs_background": "light"
     },
     "output_type": "display_data"
    }
   ],
   "source": [
    "ax=sns.countplot(x='country_long',data=data)\n",
    "print(data['country_long'].value_counts())"
   ]
  },
  {
   "cell_type": "code",
   "execution_count": 30,
   "id": "67440e1c",
   "metadata": {},
   "outputs": [
    {
     "name": "stdout",
     "output_type": "stream",
     "text": [
      "Coal       258\n",
      "Hydro      251\n",
      "Solar      127\n",
      "Wind       123\n",
      "Gas         69\n",
      "Biomass     50\n",
      "Oil         20\n",
      "Nuclear      9\n",
      "Name: primary_fuel, dtype: int64\n"
     ]
    },
    {
     "data": {
      "image/png": "[encoded data removed]",
      "text/plain": [
       "<Figure size 432x288 with 1 Axes>"
      ]
     },
     "metadata": {
      "needs_background": "light"
     },
     "output_type": "display_data"
    }
   ],
   "source": [
    "ax=sns.countplot(x='primary_fuel',data=data)\n",
    "print(data['primary_fuel'].value_counts())"
   ]
  },
  {
   "cell_type": "markdown",
   "id": "8d4ebe56",
   "metadata": {},
   "source": [
    "#### Checking the Distribution of the Continuous data"
   ]
  },
  {
   "cell_type": "code",
   "execution_count": 31,
   "id": "d42e7a30",
   "metadata": {},
   "outputs": [],
   "source": [
    "df_continuous=data.drop(columns=['country','country_long','name','gppd_idnr','primary_fuel','commissioning_year','source','url','geolocation_source','generation_data_source'])"
   ]
  },
  {
   "cell_type": "code",
   "execution_count": 32,
   "id": "3a63fa6f",
   "metadata": {},
   "outputs": [
    {
     "data": {
      "image/png": "[encoded data removed]",
      "text/plain": [
       "<Figure size 1440x1440 with 9 Axes>"
      ]
     },
     "metadata": {
      "needs_background": "light"
     },
     "output_type": "display_data"
    }
   ],
   "source": [
    "plt.figure(figsize=(20,20))\n",
    "plotnumber=1\n",
    "for column in df_continuous:\n",
    "    if plotnumber<=25:\n",
    "        ax=plt.subplot(4,3,plotnumber)\n",
    "        sns.distplot(df_continuous[column])\n",
    "        plt.xlabel(column,fontsize=20)\n",
    "    plotnumber+=1\n",
    "plt.show()"
   ]
  },
  {
   "cell_type": "markdown",
   "id": "ec98890d",
   "metadata": {},
   "source": [
    "### Encoding of the Dataset"
   ]
  },
  {
   "cell_type": "code",
   "execution_count": 33,
   "id": "f314f978",
   "metadata": {},
   "outputs": [],
   "source": [
    "from sklearn.preprocessing import LabelEncoder\n",
    "enc=LabelEncoder()\n",
    "for i in data.columns:\n",
    "    if data[i].dtypes==\"object\":\n",
    "        data[i]=enc.fit_transform(data[i].values.reshape(-1,1))"
   ]
  },
  {
   "cell_type": "markdown",
   "id": "66ce4752",
   "metadata": {},
   "source": [
    "#### Checking Correlation"
   ]
  },
  {
   "cell_type": "code",
   "execution_count": 34,
   "id": "45dc587e",
   "metadata": {},
   "outputs": [
    {
     "data": {
      "text/plain": [
       "country                        NaN\n",
       "country_long                   NaN\n",
       "name                      0.040753\n",
       "gppd_idnr                 0.609180\n",
       "capacity_mw              -0.379712\n",
       "latitude                 -0.010204\n",
       "longitude                -0.347948\n",
       "primary_fuel              1.000000\n",
       "commissioning_year        0.164947\n",
       "source                    0.053613\n",
       "url                       0.589886\n",
       "geolocation_source       -0.483217\n",
       "year_of_capacity_data          NaN\n",
       "generation_gwh_2014      -0.137544\n",
       "generation_gwh_2015      -0.133534\n",
       "generation_gwh_2016      -0.139115\n",
       "generation_gwh_2017      -0.146975\n",
       "generation_gwh_2018      -0.151993\n",
       "generation_data_source         NaN\n",
       "Name: primary_fuel, dtype: float64"
      ]
     },
     "execution_count": 34,
     "metadata": {},
     "output_type": "execute_result"
    }
   ],
   "source": [
    "data.corr()['primary_fuel']"
   ]
  },
  {
   "cell_type": "code",
   "execution_count": 35,
   "id": "572535c8",
   "metadata": {},
   "outputs": [
    {
     "data": {
      "image/png": "[encoded data removed]",
      "text/plain": [
       "<Figure size 1440x1440 with 2 Axes>"
      ]
     },
     "metadata": {
      "needs_background": "light"
     },
     "output_type": "display_data"
    }
   ],
   "source": [
    "plt.figure(figsize=(20,20))\n",
    "sns.heatmap(data.corr(),annot=True)\n",
    "plt.show()"
   ]
  },
  {
   "cell_type": "markdown",
   "id": "1ee242b0",
   "metadata": {},
   "source": [
    "#### Dropping columns which has no relation with the target variable"
   ]
  },
  {
   "cell_type": "code",
   "execution_count": 36,
   "id": "65d40fb6",
   "metadata": {},
   "outputs": [],
   "source": [
    "data_new=data.drop(columns=['country','country_long','year_of_capacity_data','generation_data_source','latitude'])"
   ]
  },
  {
   "cell_type": "code",
   "execution_count": 37,
   "id": "e18139bd",
   "metadata": {},
   "outputs": [
    {
     "data": {
      "text/plain": [
       "(907, 14)"
      ]
     },
     "execution_count": 37,
     "metadata": {},
     "output_type": "execute_result"
    }
   ],
   "source": [
    "data_new.shape"
   ]
  },
  {
   "cell_type": "markdown",
   "id": "dfd828ad",
   "metadata": {},
   "source": [
    "### Checking for outliers using boxplot"
   ]
  },
  {
   "cell_type": "code",
   "execution_count": 38,
   "id": "bc33407d",
   "metadata": {},
   "outputs": [
    {
     "data": {
      "image/png": "[encoded data removed]",
      "text/plain": [
       "<Figure size 1440x1440 with 14 Axes>"
      ]
     },
     "metadata": {
      "needs_background": "light"
     },
     "output_type": "display_data"
    }
   ],
   "source": [
    "plt.figure(figsize=(20,20))\n",
    "plotnumber=1\n",
    "for column in data_new:\n",
    "    if plotnumber<=20:\n",
    "        ax=plt.subplot(5,4,plotnumber)\n",
    "        sns.boxplot(data=data_new[column],orient='v')\n",
    "        plt.xlabel(column,fontsize=20)\n",
    "    plotnumber+=1\n",
    "plt.show()"
   ]
  },
  {
   "cell_type": "markdown",
   "id": "fea5f82e",
   "metadata": {},
   "source": [
    "we are not removing the outliers since these are the possible outcomes"
   ]
  },
  {
   "cell_type": "markdown",
   "id": "cb712e18",
   "metadata": {},
   "source": [
    "# Taking 'primary_fuel' as Target variable"
   ]
  },
  {
   "cell_type": "code",
   "execution_count": 39,
   "id": "f9c004ab",
   "metadata": {},
   "outputs": [],
   "source": [
    "x=data_new.drop(columns='primary_fuel')\n",
    "y=data_new['primary_fuel']"
   ]
  },
  {
   "cell_type": "code",
   "execution_count": 40,
   "id": "c99735a7",
   "metadata": {},
   "outputs": [
    {
     "data": {
      "text/html": [
       "<div>\n",
       "<style scoped>\n",
       "    .dataframe tbody tr th:only-of-type {\n",
       "        vertical-align: middle;\n",
       "    }\n",
       "\n",
       "    .dataframe tbody tr th {\n",
       "        vertical-align: top;\n",
       "    }\n",
       "\n",
       "    .dataframe thead th {\n",
       "        text-align: right;\n",
       "    }\n",
       "</style>\n",
       "<table border=\"1\" class=\"dataframe\">\n",
       "  <thead>\n",
       "    <tr style=\"text-align: right;\">\n",
       "      <th></th>\n",
       "      <th>name</th>\n",
       "      <th>gppd_idnr</th>\n",
       "      <th>capacity_mw</th>\n",
       "      <th>longitude</th>\n",
       "      <th>commissioning_year</th>\n",
       "      <th>source</th>\n",
       "      <th>url</th>\n",
       "      <th>geolocation_source</th>\n",
       "      <th>generation_gwh_2014</th>\n",
       "      <th>generation_gwh_2015</th>\n",
       "      <th>generation_gwh_2016</th>\n",
       "      <th>generation_gwh_2017</th>\n",
       "      <th>generation_gwh_2018</th>\n",
       "    </tr>\n",
       "  </thead>\n",
       "  <tbody>\n",
       "    <tr>\n",
       "      <th>0</th>\n",
       "      <td>0</td>\n",
       "      <td>657</td>\n",
       "      <td>2.5</td>\n",
       "      <td>73.2407</td>\n",
       "      <td>2011.0</td>\n",
       "      <td>109</td>\n",
       "      <td>128</td>\n",
       "      <td>1</td>\n",
       "      <td>2431.823590</td>\n",
       "      <td>2428.226946</td>\n",
       "      <td>2467.936859</td>\n",
       "      <td>2547.759305</td>\n",
       "      <td>2600.804099</td>\n",
       "    </tr>\n",
       "    <tr>\n",
       "      <th>1</th>\n",
       "      <td>1</td>\n",
       "      <td>519</td>\n",
       "      <td>98.0</td>\n",
       "      <td>74.6090</td>\n",
       "      <td>2015.0</td>\n",
       "      <td>174</td>\n",
       "      <td>173</td>\n",
       "      <td>2</td>\n",
       "      <td>2431.823590</td>\n",
       "      <td>2428.226946</td>\n",
       "      <td>2467.936859</td>\n",
       "      <td>2547.759305</td>\n",
       "      <td>2600.804099</td>\n",
       "    </tr>\n",
       "    <tr>\n",
       "      <th>2</th>\n",
       "      <td>2</td>\n",
       "      <td>853</td>\n",
       "      <td>39.2</td>\n",
       "      <td>69.3732</td>\n",
       "      <td>2015.0</td>\n",
       "      <td>21</td>\n",
       "      <td>205</td>\n",
       "      <td>2</td>\n",
       "      <td>2431.823590</td>\n",
       "      <td>2428.226946</td>\n",
       "      <td>2467.936859</td>\n",
       "      <td>2547.759305</td>\n",
       "      <td>2600.804099</td>\n",
       "    </tr>\n",
       "    <tr>\n",
       "      <th>3</th>\n",
       "      <td>3</td>\n",
       "      <td>0</td>\n",
       "      <td>135.0</td>\n",
       "      <td>91.3602</td>\n",
       "      <td>2004.0</td>\n",
       "      <td>22</td>\n",
       "      <td>58</td>\n",
       "      <td>2</td>\n",
       "      <td>617.789264</td>\n",
       "      <td>843.747000</td>\n",
       "      <td>886.004428</td>\n",
       "      <td>663.774500</td>\n",
       "      <td>626.239128</td>\n",
       "    </tr>\n",
       "    <tr>\n",
       "      <th>4</th>\n",
       "      <td>4</td>\n",
       "      <td>1</td>\n",
       "      <td>1800.0</td>\n",
       "      <td>82.4091</td>\n",
       "      <td>2015.0</td>\n",
       "      <td>22</td>\n",
       "      <td>58</td>\n",
       "      <td>2</td>\n",
       "      <td>3035.550000</td>\n",
       "      <td>5916.370000</td>\n",
       "      <td>6243.000000</td>\n",
       "      <td>5385.579736</td>\n",
       "      <td>7279.000000</td>\n",
       "    </tr>\n",
       "    <tr>\n",
       "      <th>...</th>\n",
       "      <td>...</td>\n",
       "      <td>...</td>\n",
       "      <td>...</td>\n",
       "      <td>...</td>\n",
       "      <td>...</td>\n",
       "      <td>...</td>\n",
       "      <td>...</td>\n",
       "      <td>...</td>\n",
       "      <td>...</td>\n",
       "      <td>...</td>\n",
       "      <td>...</td>\n",
       "      <td>...</td>\n",
       "      <td>...</td>\n",
       "    </tr>\n",
       "    <tr>\n",
       "      <th>902</th>\n",
       "      <td>902</td>\n",
       "      <td>491</td>\n",
       "      <td>1600.0</td>\n",
       "      <td>77.3568</td>\n",
       "      <td>2016.0</td>\n",
       "      <td>22</td>\n",
       "      <td>58</td>\n",
       "      <td>2</td>\n",
       "      <td>2431.823590</td>\n",
       "      <td>0.994875</td>\n",
       "      <td>233.596650</td>\n",
       "      <td>865.400000</td>\n",
       "      <td>686.500000</td>\n",
       "    </tr>\n",
       "    <tr>\n",
       "      <th>903</th>\n",
       "      <td>903</td>\n",
       "      <td>822</td>\n",
       "      <td>3.0</td>\n",
       "      <td>78.1654</td>\n",
       "      <td>2015.0</td>\n",
       "      <td>77</td>\n",
       "      <td>22</td>\n",
       "      <td>0</td>\n",
       "      <td>2431.823590</td>\n",
       "      <td>2428.226946</td>\n",
       "      <td>2467.936859</td>\n",
       "      <td>2547.759305</td>\n",
       "      <td>2600.804099</td>\n",
       "    </tr>\n",
       "    <tr>\n",
       "      <th>904</th>\n",
       "      <td>904</td>\n",
       "      <td>891</td>\n",
       "      <td>25.5</td>\n",
       "      <td>75.5811</td>\n",
       "      <td>2015.0</td>\n",
       "      <td>21</td>\n",
       "      <td>260</td>\n",
       "      <td>2</td>\n",
       "      <td>2431.823590</td>\n",
       "      <td>2428.226946</td>\n",
       "      <td>2467.936859</td>\n",
       "      <td>2547.759305</td>\n",
       "      <td>2600.804099</td>\n",
       "    </tr>\n",
       "    <tr>\n",
       "      <th>905</th>\n",
       "      <td>905</td>\n",
       "      <td>539</td>\n",
       "      <td>80.0</td>\n",
       "      <td>73.7477</td>\n",
       "      <td>2015.0</td>\n",
       "      <td>59</td>\n",
       "      <td>82</td>\n",
       "      <td>2</td>\n",
       "      <td>2431.823590</td>\n",
       "      <td>2428.226946</td>\n",
       "      <td>2467.936859</td>\n",
       "      <td>2547.759305</td>\n",
       "      <td>2600.804099</td>\n",
       "    </tr>\n",
       "    <tr>\n",
       "      <th>906</th>\n",
       "      <td>906</td>\n",
       "      <td>876</td>\n",
       "      <td>16.5</td>\n",
       "      <td>77.4768</td>\n",
       "      <td>2015.0</td>\n",
       "      <td>21</td>\n",
       "      <td>245</td>\n",
       "      <td>2</td>\n",
       "      <td>2431.823590</td>\n",
       "      <td>2428.226946</td>\n",
       "      <td>2467.936859</td>\n",
       "      <td>2547.759305</td>\n",
       "      <td>2600.804099</td>\n",
       "    </tr>\n",
       "  </tbody>\n",
       "</table>\n",
       "<p>907 rows × 13 columns</p>\n",
       "</div>"
      ],
      "text/plain": [
       "     name  gppd_idnr  capacity_mw  longitude  commissioning_year  source  url  \\\n",
       "0       0        657          2.5    73.2407              2011.0     109  128   \n",
       "1       1        519         98.0    74.6090              2015.0     174  173   \n",
       "2       2        853         39.2    69.3732              2015.0      21  205   \n",
       "3       3          0        135.0    91.3602              2004.0      22   58   \n",
       "4       4          1       1800.0    82.4091              2015.0      22   58   \n",
       "..    ...        ...          ...        ...                 ...     ...  ...   \n",
       "902   902        491       1600.0    77.3568              2016.0      22   58   \n",
       "903   903        822          3.0    78.1654              2015.0      77   22   \n",
       "904   904        891         25.5    75.5811              2015.0      21  260   \n",
       "905   905        539         80.0    73.7477              2015.0      59   82   \n",
       "906   906        876         16.5    77.4768              2015.0      21  245   \n",
       "\n",
       "     geolocation_source  generation_gwh_2014  generation_gwh_2015  \\\n",
       "0                     1          2431.823590          2428.226946   \n",
       "1                     2          2431.823590          2428.226946   \n",
       "2                     2          2431.823590          2428.226946   \n",
       "3                     2           617.789264           843.747000   \n",
       "4                     2          3035.550000          5916.370000   \n",
       "..                  ...                  ...                  ...   \n",
       "902                   2          2431.823590             0.994875   \n",
       "903                   0          2431.823590          2428.226946   \n",
       "904                   2          2431.823590          2428.226946   \n",
       "905                   2          2431.823590          2428.226946   \n",
       "906                   2          2431.823590          2428.226946   \n",
       "\n",
       "     generation_gwh_2016  generation_gwh_2017  generation_gwh_2018  \n",
       "0            2467.936859          2547.759305          2600.804099  \n",
       "1            2467.936859          2547.759305          2600.804099  \n",
       "2            2467.936859          2547.759305          2600.804099  \n",
       "3             886.004428           663.774500           626.239128  \n",
       "4            6243.000000          5385.579736          7279.000000  \n",
       "..                   ...                  ...                  ...  \n",
       "902           233.596650           865.400000           686.500000  \n",
       "903          2467.936859          2547.759305          2600.804099  \n",
       "904          2467.936859          2547.759305          2600.804099  \n",
       "905          2467.936859          2547.759305          2600.804099  \n",
       "906          2467.936859          2547.759305          2600.804099  \n",
       "\n",
       "[907 rows x 13 columns]"
      ]
     },
     "execution_count": 40,
     "metadata": {},
     "output_type": "execute_result"
    }
   ],
   "source": [
    "x"
   ]
  },
  {
   "cell_type": "code",
   "execution_count": 41,
   "id": "f1ad3753",
   "metadata": {},
   "outputs": [
    {
     "data": {
      "text/plain": [
       "0      6\n",
       "1      1\n",
       "2      7\n",
       "3      2\n",
       "4      1\n",
       "      ..\n",
       "902    1\n",
       "903    6\n",
       "904    7\n",
       "905    1\n",
       "906    7\n",
       "Name: primary_fuel, Length: 907, dtype: int32"
      ]
     },
     "execution_count": 41,
     "metadata": {},
     "output_type": "execute_result"
    }
   ],
   "source": [
    "y"
   ]
  },
  {
   "cell_type": "markdown",
   "id": "cdd6ba2f",
   "metadata": {},
   "source": [
    "### Checking Skewness"
   ]
  },
  {
   "cell_type": "code",
   "execution_count": 42,
   "id": "21244608",
   "metadata": {},
   "outputs": [
    {
     "data": {
      "text/plain": [
       "geolocation_source    -2.159841\n",
       "commissioning_year    -1.714873\n",
       "name                   0.000000\n",
       "gppd_idnr              0.000000\n",
       "longitude              1.141881\n",
       "url                    1.510537\n",
       "source                 1.827373\n",
       "capacity_mw            3.123513\n",
       "generation_gwh_2018    5.109110\n",
       "generation_gwh_2014    5.181256\n",
       "generation_gwh_2016    5.201221\n",
       "generation_gwh_2017    5.262447\n",
       "generation_gwh_2015    5.489306\n",
       "dtype: float64"
      ]
     },
     "execution_count": 42,
     "metadata": {},
     "output_type": "execute_result"
    }
   ],
   "source": [
    "x.skew().sort_values()"
   ]
  },
  {
   "cell_type": "markdown",
   "id": "970b50e6",
   "metadata": {},
   "source": [
    "### Transform data to remove skewness"
   ]
  },
  {
   "cell_type": "code",
   "execution_count": 43,
   "id": "7e0db680",
   "metadata": {},
   "outputs": [],
   "source": [
    "from sklearn.preprocessing import power_transform\n",
    "x_new=power_transform(x)"
   ]
  },
  {
   "cell_type": "markdown",
   "id": "2ec4a79d",
   "metadata": {},
   "source": [
    "### Scaling the data"
   ]
  },
  {
   "cell_type": "code",
   "execution_count": 44,
   "id": "4e914f6f",
   "metadata": {},
   "outputs": [
    {
     "data": {
      "text/plain": [
       "array([[-2.16561515,  0.79063305, -1.7077094 , ...,  0.26314496,\n",
       "         0.25464079,  0.25368357],\n",
       "       [-2.14663031,  0.33133539,  0.19227902, ...,  0.26314496,\n",
       "         0.25464079,  0.25368357],\n",
       "       [-2.13033981,  1.39746613, -0.29536195, ...,  0.26314496,\n",
       "         0.25464079,  0.25368357],\n",
       "       ...,\n",
       "       [ 1.54842588,  1.51018594, -0.5268342 , ...,  0.26314496,\n",
       "         0.25464079,  0.25368357],\n",
       "       [ 1.55136078,  0.39991495,  0.0852143 , ...,  0.26314496,\n",
       "         0.25464079,  0.25368357],\n",
       "       [ 1.55429474,  1.4658612 , -0.76117393, ...,  0.26314496,\n",
       "         0.25464079,  0.25368357]])"
      ]
     },
     "execution_count": 44,
     "metadata": {},
     "output_type": "execute_result"
    }
   ],
   "source": [
    "sc=StandardScaler()\n",
    "x_new=sc.fit_transform(x_new)\n",
    "x_new"
   ]
  },
  {
   "cell_type": "markdown",
   "id": "b66b86b6",
   "metadata": {},
   "source": [
    "### Checking Multicolinearity using VIF(variance inflation factor)"
   ]
  },
  {
   "cell_type": "code",
   "execution_count": 45,
   "id": "a3ac53e7",
   "metadata": {},
   "outputs": [
    {
     "data": {
      "text/html": [
       "<div>\n",
       "<style scoped>\n",
       "    .dataframe tbody tr th:only-of-type {\n",
       "        vertical-align: middle;\n",
       "    }\n",
       "\n",
       "    .dataframe tbody tr th {\n",
       "        vertical-align: top;\n",
       "    }\n",
       "\n",
       "    .dataframe thead th {\n",
       "        text-align: right;\n",
       "    }\n",
       "</style>\n",
       "<table border=\"1\" class=\"dataframe\">\n",
       "  <thead>\n",
       "    <tr style=\"text-align: right;\">\n",
       "      <th></th>\n",
       "      <th>vif</th>\n",
       "      <th>features</th>\n",
       "    </tr>\n",
       "  </thead>\n",
       "  <tbody>\n",
       "    <tr>\n",
       "      <th>0</th>\n",
       "      <td>1.669191</td>\n",
       "      <td>name</td>\n",
       "    </tr>\n",
       "    <tr>\n",
       "      <th>1</th>\n",
       "      <td>4.161496</td>\n",
       "      <td>gppd_idnr</td>\n",
       "    </tr>\n",
       "    <tr>\n",
       "      <th>2</th>\n",
       "      <td>2.016909</td>\n",
       "      <td>capacity_mw</td>\n",
       "    </tr>\n",
       "    <tr>\n",
       "      <th>3</th>\n",
       "      <td>1.290838</td>\n",
       "      <td>longitude</td>\n",
       "    </tr>\n",
       "    <tr>\n",
       "      <th>4</th>\n",
       "      <td>1.898388</td>\n",
       "      <td>commissioning_year</td>\n",
       "    </tr>\n",
       "    <tr>\n",
       "      <th>5</th>\n",
       "      <td>1.285604</td>\n",
       "      <td>source</td>\n",
       "    </tr>\n",
       "    <tr>\n",
       "      <th>6</th>\n",
       "      <td>1.481452</td>\n",
       "      <td>url</td>\n",
       "    </tr>\n",
       "    <tr>\n",
       "      <th>7</th>\n",
       "      <td>1.705350</td>\n",
       "      <td>geolocation_source</td>\n",
       "    </tr>\n",
       "    <tr>\n",
       "      <th>8</th>\n",
       "      <td>4.285494</td>\n",
       "      <td>generation_gwh_2014</td>\n",
       "    </tr>\n",
       "    <tr>\n",
       "      <th>9</th>\n",
       "      <td>5.703571</td>\n",
       "      <td>generation_gwh_2015</td>\n",
       "    </tr>\n",
       "    <tr>\n",
       "      <th>10</th>\n",
       "      <td>8.103354</td>\n",
       "      <td>generation_gwh_2016</td>\n",
       "    </tr>\n",
       "    <tr>\n",
       "      <th>11</th>\n",
       "      <td>14.369548</td>\n",
       "      <td>generation_gwh_2017</td>\n",
       "    </tr>\n",
       "    <tr>\n",
       "      <th>12</th>\n",
       "      <td>13.793056</td>\n",
       "      <td>generation_gwh_2018</td>\n",
       "    </tr>\n",
       "  </tbody>\n",
       "</table>\n",
       "</div>"
      ],
      "text/plain": [
       "          vif             features\n",
       "0    1.669191                 name\n",
       "1    4.161496            gppd_idnr\n",
       "2    2.016909          capacity_mw\n",
       "3    1.290838            longitude\n",
       "4    1.898388   commissioning_year\n",
       "5    1.285604               source\n",
       "6    1.481452                  url\n",
       "7    1.705350   geolocation_source\n",
       "8    4.285494  generation_gwh_2014\n",
       "9    5.703571  generation_gwh_2015\n",
       "10   8.103354  generation_gwh_2016\n",
       "11  14.369548  generation_gwh_2017\n",
       "12  13.793056  generation_gwh_2018"
      ]
     },
     "execution_count": 45,
     "metadata": {},
     "output_type": "execute_result"
    }
   ],
   "source": [
    "vif=pd.DataFrame()\n",
    "vif['vif']=[variance_inflation_factor(x_new,i)for i in range(x_new.shape[1])]\n",
    "vif['features']=x.columns\n",
    "vif"
   ]
  },
  {
   "cell_type": "code",
   "execution_count": 46,
   "id": "44a35df3",
   "metadata": {},
   "outputs": [],
   "source": [
    "x=data_new.drop(columns=['generation_gwh_2016','generation_gwh_2018'])  # due to multicolinearity exist"
   ]
  },
  {
   "cell_type": "code",
   "execution_count": 47,
   "id": "a9f479ae",
   "metadata": {},
   "outputs": [],
   "source": [
    "from sklearn.preprocessing import power_transform\n",
    "x_new=power_transform(x)"
   ]
  },
  {
   "cell_type": "code",
   "execution_count": 48,
   "id": "118bc7e6",
   "metadata": {},
   "outputs": [
    {
     "data": {
      "text/plain": [
       "array([[-2.16561515,  0.79063305, -1.7077094 , ...,  0.2402156 ,\n",
       "         0.26404342,  0.25464079],\n",
       "       [-2.14663031,  0.33133539,  0.19227902, ...,  0.2402156 ,\n",
       "         0.26404342,  0.25464079],\n",
       "       [-2.13033981,  1.39746613, -0.29536195, ...,  0.2402156 ,\n",
       "         0.26404342,  0.25464079],\n",
       "       ...,\n",
       "       [ 1.54842588,  1.51018594, -0.5268342 , ...,  0.2402156 ,\n",
       "         0.26404342,  0.25464079],\n",
       "       [ 1.55136078,  0.39991495,  0.0852143 , ...,  0.2402156 ,\n",
       "         0.26404342,  0.25464079],\n",
       "       [ 1.55429474,  1.4658612 , -0.76117393, ...,  0.2402156 ,\n",
       "         0.26404342,  0.25464079]])"
      ]
     },
     "execution_count": 48,
     "metadata": {},
     "output_type": "execute_result"
    }
   ],
   "source": [
    "sc=StandardScaler()\n",
    "x_new=sc.fit_transform(x_new)\n",
    "x_new"
   ]
  },
  {
   "cell_type": "code",
   "execution_count": 49,
   "id": "7b76314b",
   "metadata": {},
   "outputs": [
    {
     "data": {
      "text/html": [
       "<div>\n",
       "<style scoped>\n",
       "    .dataframe tbody tr th:only-of-type {\n",
       "        vertical-align: middle;\n",
       "    }\n",
       "\n",
       "    .dataframe tbody tr th {\n",
       "        vertical-align: top;\n",
       "    }\n",
       "\n",
       "    .dataframe thead th {\n",
       "        text-align: right;\n",
       "    }\n",
       "</style>\n",
       "<table border=\"1\" class=\"dataframe\">\n",
       "  <thead>\n",
       "    <tr style=\"text-align: right;\">\n",
       "      <th></th>\n",
       "      <th>vif</th>\n",
       "      <th>features</th>\n",
       "    </tr>\n",
       "  </thead>\n",
       "  <tbody>\n",
       "    <tr>\n",
       "      <th>0</th>\n",
       "      <td>1.672598</td>\n",
       "      <td>name</td>\n",
       "    </tr>\n",
       "    <tr>\n",
       "      <th>1</th>\n",
       "      <td>4.291057</td>\n",
       "      <td>gppd_idnr</td>\n",
       "    </tr>\n",
       "    <tr>\n",
       "      <th>2</th>\n",
       "      <td>2.046977</td>\n",
       "      <td>capacity_mw</td>\n",
       "    </tr>\n",
       "    <tr>\n",
       "      <th>3</th>\n",
       "      <td>1.295275</td>\n",
       "      <td>longitude</td>\n",
       "    </tr>\n",
       "    <tr>\n",
       "      <th>4</th>\n",
       "      <td>2.637368</td>\n",
       "      <td>primary_fuel</td>\n",
       "    </tr>\n",
       "    <tr>\n",
       "      <th>5</th>\n",
       "      <td>1.999369</td>\n",
       "      <td>commissioning_year</td>\n",
       "    </tr>\n",
       "    <tr>\n",
       "      <th>6</th>\n",
       "      <td>1.634752</td>\n",
       "      <td>source</td>\n",
       "    </tr>\n",
       "    <tr>\n",
       "      <th>7</th>\n",
       "      <td>1.949662</td>\n",
       "      <td>url</td>\n",
       "    </tr>\n",
       "    <tr>\n",
       "      <th>8</th>\n",
       "      <td>2.366811</td>\n",
       "      <td>geolocation_source</td>\n",
       "    </tr>\n",
       "    <tr>\n",
       "      <th>9</th>\n",
       "      <td>4.282639</td>\n",
       "      <td>generation_gwh_2014</td>\n",
       "    </tr>\n",
       "    <tr>\n",
       "      <th>10</th>\n",
       "      <td>4.176058</td>\n",
       "      <td>generation_gwh_2015</td>\n",
       "    </tr>\n",
       "    <tr>\n",
       "      <th>11</th>\n",
       "      <td>3.676352</td>\n",
       "      <td>generation_gwh_2017</td>\n",
       "    </tr>\n",
       "  </tbody>\n",
       "</table>\n",
       "</div>"
      ],
      "text/plain": [
       "         vif             features\n",
       "0   1.672598                 name\n",
       "1   4.291057            gppd_idnr\n",
       "2   2.046977          capacity_mw\n",
       "3   1.295275            longitude\n",
       "4   2.637368         primary_fuel\n",
       "5   1.999369   commissioning_year\n",
       "6   1.634752               source\n",
       "7   1.949662                  url\n",
       "8   2.366811   geolocation_source\n",
       "9   4.282639  generation_gwh_2014\n",
       "10  4.176058  generation_gwh_2015\n",
       "11  3.676352  generation_gwh_2017"
      ]
     },
     "execution_count": 49,
     "metadata": {},
     "output_type": "execute_result"
    }
   ],
   "source": [
    "vif=pd.DataFrame()\n",
    "vif['vif']=[variance_inflation_factor(x_new,i)for i in range(x_new.shape[1])]\n",
    "vif['features']=x.columns\n",
    "vif"
   ]
  },
  {
   "cell_type": "markdown",
   "id": "69489787",
   "metadata": {},
   "source": [
    "### Finding the best random state"
   ]
  },
  {
   "cell_type": "code",
   "execution_count": 50,
   "id": "36c3dacf",
   "metadata": {},
   "outputs": [
    {
     "name": "stdout",
     "output_type": "stream",
     "text": [
      "Max Accuracy is 0.960352422907489 on Random State  554\n"
     ]
    }
   ],
   "source": [
    "maxAccu=0 #maximum accuracy\n",
    "maxRS=0  # best random state value for which max accuracy is achieved\n",
    "for i in range(1,1000):\n",
    "    x_train,x_test,y_train,y_test=train_test_split(x_new,y,test_size=0.25,random_state=i)\n",
    "    LR=LogisticRegression()\n",
    "    LR.fit(x_train,y_train)\n",
    "    pred=LR.predict(x_test)\n",
    "    acc=accuracy_score(y_test,pred)\n",
    "    if acc>maxAccu:\n",
    "        maxAccu=acc\n",
    "        maxRS=i\n",
    "print('Max Accuracy is',maxAccu,'on Random State ',maxRS)"
   ]
  },
  {
   "cell_type": "markdown",
   "id": "398b159a",
   "metadata": {},
   "source": [
    "### Splitting data Into Training and test data"
   ]
  },
  {
   "cell_type": "code",
   "execution_count": 51,
   "id": "cc973ba3",
   "metadata": {},
   "outputs": [],
   "source": [
    "x_train,x_test,y_train,y_test=train_test_split(x_new,y,test_size=0.25,random_state=554)"
   ]
  },
  {
   "cell_type": "markdown",
   "id": "9bf3d3c2",
   "metadata": {},
   "source": [
    "### Logistic Regression"
   ]
  },
  {
   "cell_type": "code",
   "execution_count": 52,
   "id": "21fd9002",
   "metadata": {},
   "outputs": [
    {
     "name": "stdout",
     "output_type": "stream",
     "text": [
      "96.0352422907489\n",
      "[[ 1  2  0  1  0  1  3  1]\n",
      " [ 3 20  4 19  0  3 11  9]\n",
      " [ 1  5  0  4  0  0  1  2]\n",
      " [ 5 15  1 23  0  1  8  7]\n",
      " [ 0  1  0  1  0  0  1  0]\n",
      " [ 0  1  0  0  0  0  0  0]\n",
      " [ 3  7  2  9  0  1  3  6]\n",
      " [ 2 11  2 16  0  0  8  2]]\n",
      "              precision    recall  f1-score   support\n",
      "\n",
      "           0       0.07      0.11      0.08         9\n",
      "           1       0.32      0.29      0.31        69\n",
      "           2       0.00      0.00      0.00        13\n",
      "           3       0.32      0.38      0.35        60\n",
      "           4       0.00      0.00      0.00         3\n",
      "           5       0.00      0.00      0.00         1\n",
      "           6       0.09      0.10      0.09        31\n",
      "           7       0.07      0.05      0.06        41\n",
      "\n",
      "    accuracy                           0.22       227\n",
      "   macro avg       0.11      0.12      0.11       227\n",
      "weighted avg       0.21      0.22      0.21       227\n",
      "\n"
     ]
    }
   ],
   "source": [
    "LR=LogisticRegression()\n",
    "LR.fit(x_train,y_train)\n",
    "y_pred=LR.predict(x_test)\n",
    "accuracy=accuracy_score(y_test,y_pred)\n",
    "print(accuracy*100)\n",
    "print(confusion_matrix(y_test,pred))\n",
    "print(classification_report(y_test,pred))"
   ]
  },
  {
   "cell_type": "markdown",
   "id": "84e968ee",
   "metadata": {},
   "source": [
    "### Decision Tree Classifier"
   ]
  },
  {
   "cell_type": "code",
   "execution_count": 53,
   "id": "8dd1daab",
   "metadata": {},
   "outputs": [
    {
     "name": "stdout",
     "output_type": "stream",
     "text": [
      "Accuracy  100.0\n",
      "[[ 9  0  0  0  0  0  0  0]\n",
      " [ 0 69  0  0  0  0  0  0]\n",
      " [ 0  0 13  0  0  0  0  0]\n",
      " [ 0  0  0 60  0  0  0  0]\n",
      " [ 0  0  0  0  3  0  0  0]\n",
      " [ 0  0  0  0  0  1  0  0]\n",
      " [ 0  0  0  0  0  0 31  0]\n",
      " [ 0  0  0  0  0  0  0 41]]\n",
      "              precision    recall  f1-score   support\n",
      "\n",
      "           0       1.00      1.00      1.00         9\n",
      "           1       1.00      1.00      1.00        69\n",
      "           2       1.00      1.00      1.00        13\n",
      "           3       1.00      1.00      1.00        60\n",
      "           4       1.00      1.00      1.00         3\n",
      "           5       1.00      1.00      1.00         1\n",
      "           6       1.00      1.00      1.00        31\n",
      "           7       1.00      1.00      1.00        41\n",
      "\n",
      "    accuracy                           1.00       227\n",
      "   macro avg       1.00      1.00      1.00       227\n",
      "weighted avg       1.00      1.00      1.00       227\n",
      "\n"
     ]
    }
   ],
   "source": [
    "from sklearn.tree import DecisionTreeClassifier\n",
    "DT=DecisionTreeClassifier()\n",
    "DT.fit(x_train,y_train)\n",
    "pred=DT.predict(x_test)\n",
    "print('Accuracy ',accuracy_score(y_test,pred)*100)\n",
    "print(confusion_matrix(y_test,pred))\n",
    "print(classification_report(y_test,pred))"
   ]
  },
  {
   "cell_type": "markdown",
   "id": "a1a35503",
   "metadata": {},
   "source": [
    "### Random Forest Classifier"
   ]
  },
  {
   "cell_type": "code",
   "execution_count": 54,
   "id": "eee41d09",
   "metadata": {},
   "outputs": [
    {
     "name": "stdout",
     "output_type": "stream",
     "text": [
      "Accuracy  99.11894273127754\n",
      "[[ 9  0  0  0  0  0  0  0]\n",
      " [ 0 69  0  0  0  0  0  0]\n",
      " [ 0  0 13  0  0  0  0  0]\n",
      " [ 0  0  0 60  0  0  0  0]\n",
      " [ 0  0  0  1  1  1  0  0]\n",
      " [ 0  0  0  0  0  1  0  0]\n",
      " [ 0  0  0  0  0  0 31  0]\n",
      " [ 0  0  0  0  0  0  0 41]]\n",
      "              precision    recall  f1-score   support\n",
      "\n",
      "           0       1.00      1.00      1.00         9\n",
      "           1       1.00      1.00      1.00        69\n",
      "           2       1.00      1.00      1.00        13\n",
      "           3       0.98      1.00      0.99        60\n",
      "           4       1.00      0.33      0.50         3\n",
      "           5       0.50      1.00      0.67         1\n",
      "           6       1.00      1.00      1.00        31\n",
      "           7       1.00      1.00      1.00        41\n",
      "\n",
      "    accuracy                           0.99       227\n",
      "   macro avg       0.94      0.92      0.89       227\n",
      "weighted avg       0.99      0.99      0.99       227\n",
      "\n"
     ]
    }
   ],
   "source": [
    "from sklearn.ensemble import RandomForestClassifier\n",
    "RF=RandomForestClassifier()\n",
    "RF.fit(x_train,y_train)\n",
    "pred=RF.predict(x_test)\n",
    "print('Accuracy ',accuracy_score(y_test,pred)*100)\n",
    "print(confusion_matrix(y_test,pred))\n",
    "print(classification_report(y_test,pred))"
   ]
  },
  {
   "cell_type": "markdown",
   "id": "3960ebe5",
   "metadata": {},
   "source": [
    "### SVC"
   ]
  },
  {
   "cell_type": "code",
   "execution_count": 55,
   "id": "f7cd365c",
   "metadata": {},
   "outputs": [
    {
     "name": "stdout",
     "output_type": "stream",
     "text": [
      "Accuracy  96.47577092511013\n",
      "[[ 9  0  0  0  0  0  0  0]\n",
      " [ 0 69  0  0  0  0  0  0]\n",
      " [ 0  2  9  2  0  0  0  0]\n",
      " [ 0  0  0 60  0  0  0  0]\n",
      " [ 0  0  0  3  0  0  0  0]\n",
      " [ 0  0  0  0  0  1  0  0]\n",
      " [ 0  0  0  0  0  1 30  0]\n",
      " [ 0  0  0  0  0  0  0 41]]\n",
      "              precision    recall  f1-score   support\n",
      "\n",
      "           0       1.00      1.00      1.00         9\n",
      "           1       0.97      1.00      0.99        69\n",
      "           2       1.00      0.69      0.82        13\n",
      "           3       0.92      1.00      0.96        60\n",
      "           4       0.00      0.00      0.00         3\n",
      "           5       0.50      1.00      0.67         1\n",
      "           6       1.00      0.97      0.98        31\n",
      "           7       1.00      1.00      1.00        41\n",
      "\n",
      "    accuracy                           0.96       227\n",
      "   macro avg       0.80      0.83      0.80       227\n",
      "weighted avg       0.96      0.96      0.96       227\n",
      "\n"
     ]
    }
   ],
   "source": [
    "from sklearn.svm import SVC\n",
    "svc=SVC()\n",
    "svc.fit(x_train,y_train)\n",
    "pred=svc.predict(x_test)\n",
    "print('Accuracy ',accuracy_score(y_test,pred)*100)\n",
    "print(confusion_matrix(y_test,pred))\n",
    "print(classification_report(y_test,pred))"
   ]
  },
  {
   "cell_type": "markdown",
   "id": "a2cdabb6",
   "metadata": {},
   "source": [
    "Logistic Regression ,Decision Tree ,Random Forest and SVC are producing good accuracy. Now we will check for cross validation score as well for overfitting"
   ]
  },
  {
   "cell_type": "markdown",
   "id": "fd5fa5c3",
   "metadata": {},
   "source": [
    "### Cross Validation"
   ]
  },
  {
   "cell_type": "code",
   "execution_count": 56,
   "id": "cf4c9f4c",
   "metadata": {},
   "outputs": [],
   "source": [
    "from sklearn.model_selection import cross_val_score"
   ]
  },
  {
   "cell_type": "code",
   "execution_count": 57,
   "id": "f4c0b8a9",
   "metadata": {},
   "outputs": [
    {
     "name": "stdout",
     "output_type": "stream",
     "text": [
      "Cross Validation score for Logistic Regresiion is  0.9151235504826666\n"
     ]
    }
   ],
   "source": [
    "cvs_LR=cross_val_score(LR,x_new,y,cv=5)\n",
    "print(\"Cross Validation score for Logistic Regresiion is \",cvs_LR.mean())"
   ]
  },
  {
   "cell_type": "code",
   "execution_count": 58,
   "id": "f798f13c",
   "metadata": {},
   "outputs": [
    {
     "name": "stdout",
     "output_type": "stream",
     "text": [
      "Cross validation score for Decision tree is  0.9977900552486189\n"
     ]
    }
   ],
   "source": [
    "cvs_DT=cross_val_score(DT,x_new,y,cv=5)\n",
    "print(\"Cross validation score for Decision tree is \",cvs_DT.mean())"
   ]
  },
  {
   "cell_type": "code",
   "execution_count": 59,
   "id": "eefebf7e",
   "metadata": {},
   "outputs": [
    {
     "name": "stdout",
     "output_type": "stream",
     "text": [
      "Cross validation score for Random Forest is  0.9922712646469554\n"
     ]
    }
   ],
   "source": [
    "cvs_RF=cross_val_score(RF,x_new,y,cv=5)\n",
    "print(\"Cross validation score for Random Forest is \",cvs_RF.mean())"
   ]
  },
  {
   "cell_type": "code",
   "execution_count": 60,
   "id": "885f1c96",
   "metadata": {},
   "outputs": [
    {
     "name": "stdout",
     "output_type": "stream",
     "text": [
      "Cross validation score for SVC is  0.9261429178556251\n"
     ]
    }
   ],
   "source": [
    "cvs_SVC=cross_val_score(svc,x_new,y,cv=5)\n",
    "print(\"Cross validation score for SVC is \",cvs_SVC.mean())"
   ]
  },
  {
   "cell_type": "markdown",
   "id": "2a393696",
   "metadata": {},
   "source": [
    "we are not selecting decision tree because it is producing 100% accuracy ,so we choose Random Forest Classifier as our final model and Hyper parameter tuning is not required since it is producing best accuracy"
   ]
  },
  {
   "cell_type": "markdown",
   "id": "9792813f",
   "metadata": {},
   "source": [
    "#### Saving the model"
   ]
  },
  {
   "cell_type": "code",
   "execution_count": 270,
   "id": "144928a6",
   "metadata": {},
   "outputs": [],
   "source": [
    "import pickle\n",
    "filename='Globalpowerplant_classi.pickle'\n",
    "pickle.dump(RF,open(filename,'wb'))"
   ]
  },
  {
   "cell_type": "markdown",
   "id": "03147c2e",
   "metadata": {},
   "source": [
    "# Taking 'capacity_mw' as Target variable"
   ]
  },
  {
   "cell_type": "code",
   "execution_count": 356,
   "id": "44785725",
   "metadata": {},
   "outputs": [
    {
     "data": {
      "text/plain": [
       "country                        NaN\n",
       "country_long                   NaN\n",
       "name                      0.061126\n",
       "gppd_idnr                -0.334953\n",
       "capacity_mw               1.000000\n",
       "latitude                  0.050155\n",
       "longitude                 0.195942\n",
       "primary_fuel             -0.379712\n",
       "commissioning_year       -0.003669\n",
       "source                   -0.240493\n",
       "url                      -0.243277\n",
       "geolocation_source        0.203338\n",
       "year_of_capacity_data          NaN\n",
       "generation_gwh_2014       0.705678\n",
       "generation_gwh_2015       0.716283\n",
       "generation_gwh_2016       0.747363\n",
       "generation_gwh_2017       0.769553\n",
       "generation_gwh_2018       0.789066\n",
       "generation_data_source         NaN\n",
       "Name: capacity_mw, dtype: float64"
      ]
     },
     "execution_count": 356,
     "metadata": {},
     "output_type": "execute_result"
    }
   ],
   "source": [
    "data.corr()['capacity_mw']"
   ]
  },
  {
   "cell_type": "markdown",
   "id": "5675e207",
   "metadata": {},
   "source": [
    "#### Dropping columns which have less relation with target variable"
   ]
  },
  {
   "cell_type": "code",
   "execution_count": 357,
   "id": "83e99a1f",
   "metadata": {},
   "outputs": [],
   "source": [
    "data_new=data.drop(columns=['country','country_long','name','latitude','commissioning_year','year_of_capacity_data','generation_data_source'])"
   ]
  },
  {
   "cell_type": "markdown",
   "id": "6604335e",
   "metadata": {},
   "source": [
    "### Dividing the Dataset into dependent and independent variable"
   ]
  },
  {
   "cell_type": "code",
   "execution_count": 358,
   "id": "cb35383d",
   "metadata": {},
   "outputs": [],
   "source": [
    "x=data_new.drop(columns='capacity_mw')\n",
    "y=data_new['capacity_mw']"
   ]
  },
  {
   "cell_type": "markdown",
   "id": "8befba0e",
   "metadata": {},
   "source": [
    "### Checking Skewness"
   ]
  },
  {
   "cell_type": "code",
   "execution_count": 359,
   "id": "6759b03d",
   "metadata": {},
   "outputs": [
    {
     "data": {
      "text/plain": [
       "geolocation_source    -2.159841\n",
       "gppd_idnr              0.000000\n",
       "primary_fuel           0.472251\n",
       "longitude              1.141881\n",
       "url                    1.510537\n",
       "source                 1.827373\n",
       "generation_gwh_2018    5.109110\n",
       "generation_gwh_2014    5.181256\n",
       "generation_gwh_2016    5.201221\n",
       "generation_gwh_2017    5.262447\n",
       "generation_gwh_2015    5.489306\n",
       "dtype: float64"
      ]
     },
     "execution_count": 359,
     "metadata": {},
     "output_type": "execute_result"
    }
   ],
   "source": [
    "x.skew().sort_values()"
   ]
  },
  {
   "cell_type": "markdown",
   "id": "f9ba046f",
   "metadata": {},
   "source": [
    "### Transform data to remove skewness"
   ]
  },
  {
   "cell_type": "code",
   "execution_count": 360,
   "id": "2effaf52",
   "metadata": {},
   "outputs": [],
   "source": [
    "x_new=power_transform(x)"
   ]
  },
  {
   "cell_type": "markdown",
   "id": "85e100a7",
   "metadata": {},
   "source": [
    "### Scaling the data"
   ]
  },
  {
   "cell_type": "code",
   "execution_count": 361,
   "id": "aa6841e7",
   "metadata": {},
   "outputs": [
    {
     "data": {
      "text/plain": [
       "array([[ 0.79063305, -0.95254455,  1.1713128 , ...,  0.26314496,\n",
       "         0.25464079,  0.25368357],\n",
       "       [ 0.33133539, -0.54497607, -0.99629108, ...,  0.26314496,\n",
       "         0.25464079,  0.25368357],\n",
       "       [ 1.39746613, -2.37986379,  1.4415761 , ...,  0.26314496,\n",
       "         0.25464079,  0.25368357],\n",
       "       ...,\n",
       "       [ 1.51018594, -0.28081923,  1.4415761 , ...,  0.26314496,\n",
       "         0.25464079,  0.25368357],\n",
       "       [ 0.39991495, -0.7963743 , -0.99629108, ...,  0.26314496,\n",
       "         0.25464079,  0.25368357],\n",
       "       [ 1.4658612 ,  0.18088946,  1.4415761 , ...,  0.26314496,\n",
       "         0.25464079,  0.25368357]])"
      ]
     },
     "execution_count": 361,
     "metadata": {},
     "output_type": "execute_result"
    }
   ],
   "source": [
    "sc=StandardScaler()\n",
    "x_new=sc.fit_transform(x_new)\n",
    "x_new"
   ]
  },
  {
   "cell_type": "markdown",
   "id": "d464978e",
   "metadata": {},
   "source": [
    "### Checking Multicolinearity using VIF(variance inflation factor)"
   ]
  },
  {
   "cell_type": "code",
   "execution_count": 362,
   "id": "f6da80bc",
   "metadata": {},
   "outputs": [
    {
     "data": {
      "text/html": [
       "<div>\n",
       "<style scoped>\n",
       "    .dataframe tbody tr th:only-of-type {\n",
       "        vertical-align: middle;\n",
       "    }\n",
       "\n",
       "    .dataframe tbody tr th {\n",
       "        vertical-align: top;\n",
       "    }\n",
       "\n",
       "    .dataframe thead th {\n",
       "        text-align: right;\n",
       "    }\n",
       "</style>\n",
       "<table border=\"1\" class=\"dataframe\">\n",
       "  <thead>\n",
       "    <tr style=\"text-align: right;\">\n",
       "      <th></th>\n",
       "      <th>vif</th>\n",
       "      <th>features</th>\n",
       "    </tr>\n",
       "  </thead>\n",
       "  <tbody>\n",
       "    <tr>\n",
       "      <th>0</th>\n",
       "      <td>1.886825</td>\n",
       "      <td>gppd_idnr</td>\n",
       "    </tr>\n",
       "    <tr>\n",
       "      <th>1</th>\n",
       "      <td>1.279005</td>\n",
       "      <td>longitude</td>\n",
       "    </tr>\n",
       "    <tr>\n",
       "      <th>2</th>\n",
       "      <td>2.389897</td>\n",
       "      <td>primary_fuel</td>\n",
       "    </tr>\n",
       "    <tr>\n",
       "      <th>3</th>\n",
       "      <td>1.577102</td>\n",
       "      <td>source</td>\n",
       "    </tr>\n",
       "    <tr>\n",
       "      <th>4</th>\n",
       "      <td>1.840502</td>\n",
       "      <td>url</td>\n",
       "    </tr>\n",
       "    <tr>\n",
       "      <th>5</th>\n",
       "      <td>2.211370</td>\n",
       "      <td>geolocation_source</td>\n",
       "    </tr>\n",
       "    <tr>\n",
       "      <th>6</th>\n",
       "      <td>4.258028</td>\n",
       "      <td>generation_gwh_2014</td>\n",
       "    </tr>\n",
       "    <tr>\n",
       "      <th>7</th>\n",
       "      <td>5.636425</td>\n",
       "      <td>generation_gwh_2015</td>\n",
       "    </tr>\n",
       "    <tr>\n",
       "      <th>8</th>\n",
       "      <td>8.057540</td>\n",
       "      <td>generation_gwh_2016</td>\n",
       "    </tr>\n",
       "    <tr>\n",
       "      <th>9</th>\n",
       "      <td>14.373788</td>\n",
       "      <td>generation_gwh_2017</td>\n",
       "    </tr>\n",
       "    <tr>\n",
       "      <th>10</th>\n",
       "      <td>13.680278</td>\n",
       "      <td>generation_gwh_2018</td>\n",
       "    </tr>\n",
       "  </tbody>\n",
       "</table>\n",
       "</div>"
      ],
      "text/plain": [
       "          vif             features\n",
       "0    1.886825            gppd_idnr\n",
       "1    1.279005            longitude\n",
       "2    2.389897         primary_fuel\n",
       "3    1.577102               source\n",
       "4    1.840502                  url\n",
       "5    2.211370   geolocation_source\n",
       "6    4.258028  generation_gwh_2014\n",
       "7    5.636425  generation_gwh_2015\n",
       "8    8.057540  generation_gwh_2016\n",
       "9   14.373788  generation_gwh_2017\n",
       "10  13.680278  generation_gwh_2018"
      ]
     },
     "execution_count": 362,
     "metadata": {},
     "output_type": "execute_result"
    }
   ],
   "source": [
    "vif=pd.DataFrame()\n",
    "vif['vif']=[variance_inflation_factor(x_new,i)for i in range(x_new.shape[1])]\n",
    "vif['features']=x.columns\n",
    "vif"
   ]
  },
  {
   "cell_type": "code",
   "execution_count": 363,
   "id": "e289af28",
   "metadata": {},
   "outputs": [],
   "source": [
    "x=data_new.drop(columns=['generation_gwh_2016','generation_gwh_2018'])  # due to multicolinearity exist"
   ]
  },
  {
   "cell_type": "code",
   "execution_count": 364,
   "id": "7a2f6952",
   "metadata": {},
   "outputs": [],
   "source": [
    "x_new=power_transform(x)"
   ]
  },
  {
   "cell_type": "code",
   "execution_count": 365,
   "id": "c27f2b3b",
   "metadata": {},
   "outputs": [
    {
     "data": {
      "text/plain": [
       "array([[ 0.79063305, -1.7077094 , -0.95254455, ...,  0.2402156 ,\n",
       "         0.26404342,  0.25464079],\n",
       "       [ 0.33133539,  0.19227902, -0.54497607, ...,  0.2402156 ,\n",
       "         0.26404342,  0.25464079],\n",
       "       [ 1.39746613, -0.29536195, -2.37986379, ...,  0.2402156 ,\n",
       "         0.26404342,  0.25464079],\n",
       "       ...,\n",
       "       [ 1.51018594, -0.5268342 , -0.28081923, ...,  0.2402156 ,\n",
       "         0.26404342,  0.25464079],\n",
       "       [ 0.39991495,  0.0852143 , -0.7963743 , ...,  0.2402156 ,\n",
       "         0.26404342,  0.25464079],\n",
       "       [ 1.4658612 , -0.76117393,  0.18088946, ...,  0.2402156 ,\n",
       "         0.26404342,  0.25464079]])"
      ]
     },
     "execution_count": 365,
     "metadata": {},
     "output_type": "execute_result"
    }
   ],
   "source": [
    "sc=StandardScaler()\n",
    "x_new=sc.fit_transform(x_new)\n",
    "x_new"
   ]
  },
  {
   "cell_type": "code",
   "execution_count": 366,
   "id": "ddd637cf",
   "metadata": {},
   "outputs": [
    {
     "data": {
      "text/html": [
       "<div>\n",
       "<style scoped>\n",
       "    .dataframe tbody tr th:only-of-type {\n",
       "        vertical-align: middle;\n",
       "    }\n",
       "\n",
       "    .dataframe tbody tr th {\n",
       "        vertical-align: top;\n",
       "    }\n",
       "\n",
       "    .dataframe thead th {\n",
       "        text-align: right;\n",
       "    }\n",
       "</style>\n",
       "<table border=\"1\" class=\"dataframe\">\n",
       "  <thead>\n",
       "    <tr style=\"text-align: right;\">\n",
       "      <th></th>\n",
       "      <th>vif</th>\n",
       "      <th>features</th>\n",
       "    </tr>\n",
       "  </thead>\n",
       "  <tbody>\n",
       "    <tr>\n",
       "      <th>0</th>\n",
       "      <td>2.133193</td>\n",
       "      <td>gppd_idnr</td>\n",
       "    </tr>\n",
       "    <tr>\n",
       "      <th>1</th>\n",
       "      <td>1.884516</td>\n",
       "      <td>capacity_mw</td>\n",
       "    </tr>\n",
       "    <tr>\n",
       "      <th>2</th>\n",
       "      <td>1.272356</td>\n",
       "      <td>longitude</td>\n",
       "    </tr>\n",
       "    <tr>\n",
       "      <th>3</th>\n",
       "      <td>2.481622</td>\n",
       "      <td>primary_fuel</td>\n",
       "    </tr>\n",
       "    <tr>\n",
       "      <th>4</th>\n",
       "      <td>1.631796</td>\n",
       "      <td>source</td>\n",
       "    </tr>\n",
       "    <tr>\n",
       "      <th>5</th>\n",
       "      <td>1.840207</td>\n",
       "      <td>url</td>\n",
       "    </tr>\n",
       "    <tr>\n",
       "      <th>6</th>\n",
       "      <td>2.245623</td>\n",
       "      <td>geolocation_source</td>\n",
       "    </tr>\n",
       "    <tr>\n",
       "      <th>7</th>\n",
       "      <td>4.268856</td>\n",
       "      <td>generation_gwh_2014</td>\n",
       "    </tr>\n",
       "    <tr>\n",
       "      <th>8</th>\n",
       "      <td>4.140672</td>\n",
       "      <td>generation_gwh_2015</td>\n",
       "    </tr>\n",
       "    <tr>\n",
       "      <th>9</th>\n",
       "      <td>3.638151</td>\n",
       "      <td>generation_gwh_2017</td>\n",
       "    </tr>\n",
       "  </tbody>\n",
       "</table>\n",
       "</div>"
      ],
      "text/plain": [
       "        vif             features\n",
       "0  2.133193            gppd_idnr\n",
       "1  1.884516          capacity_mw\n",
       "2  1.272356            longitude\n",
       "3  2.481622         primary_fuel\n",
       "4  1.631796               source\n",
       "5  1.840207                  url\n",
       "6  2.245623   geolocation_source\n",
       "7  4.268856  generation_gwh_2014\n",
       "8  4.140672  generation_gwh_2015\n",
       "9  3.638151  generation_gwh_2017"
      ]
     },
     "execution_count": 366,
     "metadata": {},
     "output_type": "execute_result"
    }
   ],
   "source": [
    "vif=pd.DataFrame()\n",
    "vif['vif']=[variance_inflation_factor(x_new,i)for i in range(x_new.shape[1])]\n",
    "vif['features']=x.columns\n",
    "vif"
   ]
  },
  {
   "cell_type": "markdown",
   "id": "2282ad4b",
   "metadata": {},
   "source": [
    "### Finding the best random state"
   ]
  },
  {
   "cell_type": "code",
   "execution_count": 367,
   "id": "99d3fb4b",
   "metadata": {},
   "outputs": [],
   "source": [
    "from sklearn.linear_model import LinearRegression\n",
    "from sklearn.metrics import r2_score\n",
    "Lr=LinearRegression()"
   ]
  },
  {
   "cell_type": "code",
   "execution_count": 368,
   "id": "d127fb61",
   "metadata": {},
   "outputs": [
    {
     "name": "stdout",
     "output_type": "stream",
     "text": [
      "Max accuracy is  0.8267639598393989 on random state 273\n"
     ]
    }
   ],
   "source": [
    "maxAccu=0\n",
    "maxRS=0\n",
    "for i in range(0,1000):\n",
    "    x_train,x_test,y_train,y_test=train_test_split(x_new,y,test_size=0.25,random_state=i)\n",
    "    Lr.fit(x_train,y_train)\n",
    "    y_pred=Lr.predict(x_test)\n",
    "    accu=r2_score(y_test,y_pred)\n",
    "    if accu>maxAccu:\n",
    "        maxAccu=accu\n",
    "        maxRs=i\n",
    "print('Max accuracy is ',maxAccu,'on random state',maxRs)\n",
    "    "
   ]
  },
  {
   "cell_type": "markdown",
   "id": "b0f9e9e9",
   "metadata": {},
   "source": [
    "### Splitting data Into Training and test data"
   ]
  },
  {
   "cell_type": "code",
   "execution_count": 369,
   "id": "d953e1ab",
   "metadata": {},
   "outputs": [],
   "source": [
    "x_train,x_test,y_train,y_test=train_test_split(x_new,y,test_size=0.25,random_state=273)"
   ]
  },
  {
   "cell_type": "code",
   "execution_count": 370,
   "id": "698b451a",
   "metadata": {},
   "outputs": [
    {
     "name": "stdout",
     "output_type": "stream",
     "text": [
      "0.8267639598393989\n"
     ]
    }
   ],
   "source": [
    "Lr.fit(x_train,y_train)\n",
    "y_pred=Lr.predict(x_test)\n",
    "print(r2_score(y_test,y_pred))"
   ]
  },
  {
   "cell_type": "code",
   "execution_count": 371,
   "id": "42da6681",
   "metadata": {},
   "outputs": [
    {
     "name": "stdout",
     "output_type": "stream",
     "text": [
      "0.7316941574874497\n"
     ]
    }
   ],
   "source": [
    "cv_score=cross_val_score(Lr,x_new,y,cv=4)\n",
    "print(cv_score.mean())"
   ]
  },
  {
   "cell_type": "code",
   "execution_count": 372,
   "id": "6308fbf5",
   "metadata": {},
   "outputs": [
    {
     "data": {
      "image/png": "[encoded data removed]",
      "text/plain": [
       "<Figure size 576x432 with 1 Axes>"
      ]
     },
     "metadata": {
      "needs_background": "light"
     },
     "output_type": "display_data"
    }
   ],
   "source": [
    "plt.figure(figsize=(8,6))\n",
    "plt.scatter(x=y_test,y=y_pred,color='r')\n",
    "plt.plot(y_test,y_test,color='b')\n",
    "plt.xlabel('Actual Wins',fontsize=14)\n",
    "plt.ylabel('Predicted Wins',fontsize=14)\n",
    "plt.title('Linear Regression',fontsize=18)\n",
    "plt.show()"
   ]
  },
  {
   "cell_type": "markdown",
   "id": "50f832bb",
   "metadata": {},
   "source": [
    "# Regularization"
   ]
  },
  {
   "cell_type": "markdown",
   "id": "0bff3d66",
   "metadata": {},
   "source": [
    "### Lasso Regression"
   ]
  },
  {
   "cell_type": "code",
   "execution_count": 373,
   "id": "6c1ef752",
   "metadata": {},
   "outputs": [
    {
     "name": "stdout",
     "output_type": "stream",
     "text": [
      "{'alpha': 0.1, 'max_iter': 100, 'normalize': True, 'random_state': 0}\n"
     ]
    }
   ],
   "source": [
    "from sklearn.model_selection import GridSearchCV\n",
    "from sklearn.linear_model import Lasso,Ridge\n",
    "parameters={'alpha':[.0001,.001,.01,.1,1,10],'random_state':list(range(0,10)),'max_iter':[100,200,500,1000],'normalize':[True,False]}\n",
    "ls=Lasso()\n",
    "clf=GridSearchCV(ls,parameters)\n",
    "clf.fit(x_train,y_train)\n",
    "print(clf.best_params_)"
   ]
  },
  {
   "cell_type": "code",
   "execution_count": 374,
   "id": "0f503d9c",
   "metadata": {},
   "outputs": [
    {
     "data": {
      "text/plain": [
       "Lasso(alpha=0.1, max_iter=100, normalize=True, random_state=0)"
      ]
     },
     "execution_count": 374,
     "metadata": {},
     "output_type": "execute_result"
    }
   ],
   "source": [
    "ls=Lasso(alpha=0.1,random_state=0,max_iter=100,normalize=True)\n",
    "ls.fit(x_train,y_train)"
   ]
  },
  {
   "cell_type": "code",
   "execution_count": 375,
   "id": "0f52780a",
   "metadata": {},
   "outputs": [
    {
     "data": {
      "text/plain": [
       "0.8277549162749536"
      ]
     },
     "execution_count": 375,
     "metadata": {},
     "output_type": "execute_result"
    }
   ],
   "source": [
    "ls_pred=ls.predict(x_test)\n",
    "lss=r2_score(y_test,ls_pred)\n",
    "lss"
   ]
  },
  {
   "cell_type": "code",
   "execution_count": 376,
   "id": "2892c394",
   "metadata": {},
   "outputs": [
    {
     "name": "stdout",
     "output_type": "stream",
     "text": [
      "0.7335445245046776\n"
     ]
    }
   ],
   "source": [
    "cv_score_Lasso=cross_val_score(ls,x_new,y,cv=4)\n",
    "print(cv_score_Lasso.mean())"
   ]
  },
  {
   "cell_type": "markdown",
   "id": "4171a5ea",
   "metadata": {},
   "source": [
    "### Ridge Regression"
   ]
  },
  {
   "cell_type": "code",
   "execution_count": 377,
   "id": "70ae6d9c",
   "metadata": {},
   "outputs": [
    {
     "name": "stdout",
     "output_type": "stream",
     "text": [
      "{'alpha': 10, 'max_iter': 100, 'normalize': False, 'random_state': 0}\n"
     ]
    }
   ],
   "source": [
    "parameters={'alpha':[.0001,.001,.01,.1,1,10],'random_state':list(range(0,10)),'max_iter':[100,200,500,1000],'normalize':[True,False]}\n",
    "Rg=Ridge()\n",
    "clf=GridSearchCV(Rg,parameters)\n",
    "clf.fit(x_train,y_train)\n",
    "print(clf.best_params_)"
   ]
  },
  {
   "cell_type": "code",
   "execution_count": 378,
   "id": "71486870",
   "metadata": {},
   "outputs": [
    {
     "data": {
      "text/plain": [
       "Ridge(alpha=10, max_iter=100, random_state=0)"
      ]
     },
     "execution_count": 378,
     "metadata": {},
     "output_type": "execute_result"
    }
   ],
   "source": [
    "Rgg=Ridge(alpha=10,random_state=0,max_iter=100,normalize=False)\n",
    "Rgg.fit(x_train,y_train)"
   ]
  },
  {
   "cell_type": "code",
   "execution_count": 379,
   "id": "2abd65b8",
   "metadata": {},
   "outputs": [
    {
     "data": {
      "text/plain": [
       "0.8286555917193408"
      ]
     },
     "execution_count": 379,
     "metadata": {},
     "output_type": "execute_result"
    }
   ],
   "source": [
    "Rg_pred=Rgg.predict(x_test)\n",
    "Rgs=r2_score(y_test,Rg_pred)\n",
    "Rgs"
   ]
  },
  {
   "cell_type": "code",
   "execution_count": 380,
   "id": "5bce2e69",
   "metadata": {},
   "outputs": [
    {
     "name": "stdout",
     "output_type": "stream",
     "text": [
      "0.7321274913321962\n"
     ]
    }
   ],
   "source": [
    "cv_score_ridge=cross_val_score(Rgg,x_new,y,cv=4)\n",
    "print(cv_score_ridge.mean())"
   ]
  },
  {
   "cell_type": "markdown",
   "id": "c8e08e5b",
   "metadata": {},
   "source": [
    "### Ensemble Technique"
   ]
  },
  {
   "cell_type": "code",
   "execution_count": 383,
   "id": "eb11396e",
   "metadata": {},
   "outputs": [
    {
     "data": {
      "text/plain": [
       "GridSearchCV(estimator=RandomForestRegressor(),\n",
       "             param_grid={'criterion': ['mse', 'mae'],\n",
       "                         'max_features': ['auto', 'sqrt', 'log2']})"
      ]
     },
     "execution_count": 383,
     "metadata": {},
     "output_type": "execute_result"
    }
   ],
   "source": [
    "from sklearn.ensemble import RandomForestRegressor\n",
    "parameters={'criterion':['mse','mae'],'max_features':['auto','sqrt','log2']}\n",
    "rf=RandomForestRegressor()\n",
    "clf=GridSearchCV(rf,parameters)\n",
    "clf.fit(x_train,y_train)"
   ]
  },
  {
   "cell_type": "code",
   "execution_count": 384,
   "id": "f85f30f8",
   "metadata": {},
   "outputs": [
    {
     "name": "stdout",
     "output_type": "stream",
     "text": [
      "{'criterion': 'mae', 'max_features': 'auto'}\n"
     ]
    }
   ],
   "source": [
    "print(clf.best_params_)"
   ]
  },
  {
   "cell_type": "code",
   "execution_count": 385,
   "id": "e90c4464",
   "metadata": {},
   "outputs": [
    {
     "data": {
      "text/plain": [
       "RandomForestRegressor(criterion='mae')"
      ]
     },
     "execution_count": 385,
     "metadata": {},
     "output_type": "execute_result"
    }
   ],
   "source": [
    "rf=RandomForestRegressor(criterion='mae',max_features='auto')\n",
    "rf.fit(x_train,y_train)\n"
   ]
  },
  {
   "cell_type": "code",
   "execution_count": 386,
   "id": "7e6f2019",
   "metadata": {},
   "outputs": [
    {
     "data": {
      "text/plain": [
       "0.9975471139245566"
      ]
     },
     "execution_count": 386,
     "metadata": {},
     "output_type": "execute_result"
    }
   ],
   "source": [
    "rf_pred=rf.predict(x_test)\n",
    "rfs=r2_score(y_test,rf_pred)\n",
    "rfs"
   ]
  },
  {
   "cell_type": "markdown",
   "id": "986b9b4a",
   "metadata": {},
   "source": [
    "So the best accuracy is given by Random forest regressor so we choose it our final model"
   ]
  },
  {
   "cell_type": "markdown",
   "id": "29ab001c",
   "metadata": {},
   "source": [
    "### Saving the model in pickel"
   ]
  },
  {
   "cell_type": "code",
   "execution_count": 387,
   "id": "a7adfdba",
   "metadata": {},
   "outputs": [],
   "source": [
    "import pickle\n",
    "filename='Globalpowerplant_regress.pickle'\n",
    "pickle.dump(rf,open(filename,'wb'))"
   ]
  },
  {
   "cell_type": "markdown",
   "id": "6e294816",
   "metadata": {},
   "source": [
    "# Documentation"
   ]
  },
  {
   "cell_type": "code",
   "execution_count": null,
   "id": "74406c39",
   "metadata": {},
   "outputs": [],
   "source": [
    "Import the csv file then seen the data we found lost's of nulland 0 values in the columns so we delt with that.\n",
    "We have removed columns which have almost no data available ['other_fuel1','other_fuel2','other_fuel3','wepp_id','generation_gwh_2013','generation_gwh_2019','estimated_generation_gwh','owner']\n",
    "After that we delt with 0 values and null values in the dataset.\n",
    "Then the vizualization of the categorical and continuous data is done and seen lots of skewness in the continuous data that was removed with the power transform function.\n",
    "Then encoding is done with the help of label encoder.\n",
    "Then correlation is checked with the target variable and the columns ['country','country_long','year_of_capacity_data','generation_data_source','latitude'] has been removed since they have very less relationship with the target variable.\n",
    "Then we checked for outliers and we did not remove them as they are the possible outcomes.\n",
    "After scaling the data we checked for multicollinearity and it is found so we removed ['generation_gwh_2016','generation_gwh_2018'] columns.\n",
    "After that we trained the model with several algorithms and found Random forest classifier as the best algo for classification problem.\n",
    "All the same above steps are done for regression problem and found Random forest regressor as the best algo for the regression problem.\n",
    "The ROC AUC curve is not made since the classification is not binary, there were several classes.\n",
    "In the last we saved the model."
   ]
  }
 ],
 "metadata": {
  "kernelspec": {
   "display_name": "Python 3",
   "language": "python",
   "name": "python3"
  },
  "language_info": {
   "codemirror_mode": {
    "name": "ipython",
    "version": 3
   },
   "file_extension": ".py",
   "mimetype": "text/x-python",
   "name": "python",
   "nbconvert_exporter": "python",
   "pygments_lexer": "ipython3",
   "version": "3.8.8"
  }
 },
 "nbformat": 4,
 "nbformat_minor": 5
}
