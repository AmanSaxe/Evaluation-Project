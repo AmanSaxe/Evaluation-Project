{
 "cells": [
  {
   "cell_type": "code",
   "execution_count": 1,
   "id": "92242072",
   "metadata": {},
   "outputs": [],
   "source": [
    "import pandas as pd\n",
    "import numpy as np\n",
    "from sklearn.tree import DecisionTreeClassifier\n",
    "from sklearn.linear_model import LogisticRegression\n",
    "from sklearn.model_selection import train_test_split,GridSearchCV\n",
    "from statsmodels.stats.outliers_influence import variance_inflation_factor\n",
    "from sklearn.preprocessing import StandardScaler\n",
    "from sklearn.metrics import accuracy_score,confusion_matrix,roc_curve,roc_auc_score,classification_report\n",
    "import matplotlib.pyplot as plt\n",
    "import seaborn as sns\n",
    "import warnings\n",
    "warnings.filterwarnings('ignore')"
   ]
  },
  {
   "cell_type": "code",
   "execution_count": 2,
   "id": "5b031ba7",
   "metadata": {},
   "outputs": [
    {
     "data": {
      "text/html": [
       "<div>\n",
       "<style scoped>\n",
       "    .dataframe tbody tr th:only-of-type {\n",
       "        vertical-align: middle;\n",
       "    }\n",
       "\n",
       "    .dataframe tbody tr th {\n",
       "        vertical-align: top;\n",
       "    }\n",
       "\n",
       "    .dataframe thead th {\n",
       "        text-align: right;\n",
       "    }\n",
       "</style>\n",
       "<table border=\"1\" class=\"dataframe\">\n",
       "  <thead>\n",
       "    <tr style=\"text-align: right;\">\n",
       "      <th></th>\n",
       "      <th>Unnamed: 0</th>\n",
       "      <th>Date</th>\n",
       "      <th>AveragePrice</th>\n",
       "      <th>Total Volume</th>\n",
       "      <th>4046</th>\n",
       "      <th>4225</th>\n",
       "      <th>4770</th>\n",
       "      <th>Total Bags</th>\n",
       "      <th>Small Bags</th>\n",
       "      <th>Large Bags</th>\n",
       "      <th>XLarge Bags</th>\n",
       "      <th>type</th>\n",
       "      <th>year</th>\n",
       "      <th>region</th>\n",
       "    </tr>\n",
       "  </thead>\n",
       "  <tbody>\n",
       "    <tr>\n",
       "      <th>0</th>\n",
       "      <td>0</td>\n",
       "      <td>2015-12-27</td>\n",
       "      <td>1.33</td>\n",
       "      <td>64236.62</td>\n",
       "      <td>1036.74</td>\n",
       "      <td>54454.85</td>\n",
       "      <td>48.16</td>\n",
       "      <td>8696.87</td>\n",
       "      <td>8603.62</td>\n",
       "      <td>93.25</td>\n",
       "      <td>0.0</td>\n",
       "      <td>conventional</td>\n",
       "      <td>2015</td>\n",
       "      <td>Albany</td>\n",
       "    </tr>\n",
       "    <tr>\n",
       "      <th>1</th>\n",
       "      <td>1</td>\n",
       "      <td>2015-12-20</td>\n",
       "      <td>1.35</td>\n",
       "      <td>54876.98</td>\n",
       "      <td>674.28</td>\n",
       "      <td>44638.81</td>\n",
       "      <td>58.33</td>\n",
       "      <td>9505.56</td>\n",
       "      <td>9408.07</td>\n",
       "      <td>97.49</td>\n",
       "      <td>0.0</td>\n",
       "      <td>conventional</td>\n",
       "      <td>2015</td>\n",
       "      <td>Albany</td>\n",
       "    </tr>\n",
       "    <tr>\n",
       "      <th>2</th>\n",
       "      <td>2</td>\n",
       "      <td>2015-12-13</td>\n",
       "      <td>0.93</td>\n",
       "      <td>118220.22</td>\n",
       "      <td>794.70</td>\n",
       "      <td>109149.67</td>\n",
       "      <td>130.50</td>\n",
       "      <td>8145.35</td>\n",
       "      <td>8042.21</td>\n",
       "      <td>103.14</td>\n",
       "      <td>0.0</td>\n",
       "      <td>conventional</td>\n",
       "      <td>2015</td>\n",
       "      <td>Albany</td>\n",
       "    </tr>\n",
       "    <tr>\n",
       "      <th>3</th>\n",
       "      <td>3</td>\n",
       "      <td>2015-12-06</td>\n",
       "      <td>1.08</td>\n",
       "      <td>78992.15</td>\n",
       "      <td>1132.00</td>\n",
       "      <td>71976.41</td>\n",
       "      <td>72.58</td>\n",
       "      <td>5811.16</td>\n",
       "      <td>5677.40</td>\n",
       "      <td>133.76</td>\n",
       "      <td>0.0</td>\n",
       "      <td>conventional</td>\n",
       "      <td>2015</td>\n",
       "      <td>Albany</td>\n",
       "    </tr>\n",
       "    <tr>\n",
       "      <th>4</th>\n",
       "      <td>4</td>\n",
       "      <td>2015-11-29</td>\n",
       "      <td>1.28</td>\n",
       "      <td>51039.60</td>\n",
       "      <td>941.48</td>\n",
       "      <td>43838.39</td>\n",
       "      <td>75.78</td>\n",
       "      <td>6183.95</td>\n",
       "      <td>5986.26</td>\n",
       "      <td>197.69</td>\n",
       "      <td>0.0</td>\n",
       "      <td>conventional</td>\n",
       "      <td>2015</td>\n",
       "      <td>Albany</td>\n",
       "    </tr>\n",
       "    <tr>\n",
       "      <th>...</th>\n",
       "      <td>...</td>\n",
       "      <td>...</td>\n",
       "      <td>...</td>\n",
       "      <td>...</td>\n",
       "      <td>...</td>\n",
       "      <td>...</td>\n",
       "      <td>...</td>\n",
       "      <td>...</td>\n",
       "      <td>...</td>\n",
       "      <td>...</td>\n",
       "      <td>...</td>\n",
       "      <td>...</td>\n",
       "      <td>...</td>\n",
       "      <td>...</td>\n",
       "    </tr>\n",
       "    <tr>\n",
       "      <th>18244</th>\n",
       "      <td>7</td>\n",
       "      <td>2018-02-04</td>\n",
       "      <td>1.63</td>\n",
       "      <td>17074.83</td>\n",
       "      <td>2046.96</td>\n",
       "      <td>1529.20</td>\n",
       "      <td>0.00</td>\n",
       "      <td>13498.67</td>\n",
       "      <td>13066.82</td>\n",
       "      <td>431.85</td>\n",
       "      <td>0.0</td>\n",
       "      <td>organic</td>\n",
       "      <td>2018</td>\n",
       "      <td>WestTexNewMexico</td>\n",
       "    </tr>\n",
       "    <tr>\n",
       "      <th>18245</th>\n",
       "      <td>8</td>\n",
       "      <td>2018-01-28</td>\n",
       "      <td>1.71</td>\n",
       "      <td>13888.04</td>\n",
       "      <td>1191.70</td>\n",
       "      <td>3431.50</td>\n",
       "      <td>0.00</td>\n",
       "      <td>9264.84</td>\n",
       "      <td>8940.04</td>\n",
       "      <td>324.80</td>\n",
       "      <td>0.0</td>\n",
       "      <td>organic</td>\n",
       "      <td>2018</td>\n",
       "      <td>WestTexNewMexico</td>\n",
       "    </tr>\n",
       "    <tr>\n",
       "      <th>18246</th>\n",
       "      <td>9</td>\n",
       "      <td>2018-01-21</td>\n",
       "      <td>1.87</td>\n",
       "      <td>13766.76</td>\n",
       "      <td>1191.92</td>\n",
       "      <td>2452.79</td>\n",
       "      <td>727.94</td>\n",
       "      <td>9394.11</td>\n",
       "      <td>9351.80</td>\n",
       "      <td>42.31</td>\n",
       "      <td>0.0</td>\n",
       "      <td>organic</td>\n",
       "      <td>2018</td>\n",
       "      <td>WestTexNewMexico</td>\n",
       "    </tr>\n",
       "    <tr>\n",
       "      <th>18247</th>\n",
       "      <td>10</td>\n",
       "      <td>2018-01-14</td>\n",
       "      <td>1.93</td>\n",
       "      <td>16205.22</td>\n",
       "      <td>1527.63</td>\n",
       "      <td>2981.04</td>\n",
       "      <td>727.01</td>\n",
       "      <td>10969.54</td>\n",
       "      <td>10919.54</td>\n",
       "      <td>50.00</td>\n",
       "      <td>0.0</td>\n",
       "      <td>organic</td>\n",
       "      <td>2018</td>\n",
       "      <td>WestTexNewMexico</td>\n",
       "    </tr>\n",
       "    <tr>\n",
       "      <th>18248</th>\n",
       "      <td>11</td>\n",
       "      <td>2018-01-07</td>\n",
       "      <td>1.62</td>\n",
       "      <td>17489.58</td>\n",
       "      <td>2894.77</td>\n",
       "      <td>2356.13</td>\n",
       "      <td>224.53</td>\n",
       "      <td>12014.15</td>\n",
       "      <td>11988.14</td>\n",
       "      <td>26.01</td>\n",
       "      <td>0.0</td>\n",
       "      <td>organic</td>\n",
       "      <td>2018</td>\n",
       "      <td>WestTexNewMexico</td>\n",
       "    </tr>\n",
       "  </tbody>\n",
       "</table>\n",
       "<p>18249 rows × 14 columns</p>\n",
       "</div>"
      ],
      "text/plain": [
       "       Unnamed: 0        Date  AveragePrice  Total Volume     4046       4225  \\\n",
       "0               0  2015-12-27          1.33      64236.62  1036.74   54454.85   \n",
       "1               1  2015-12-20          1.35      54876.98   674.28   44638.81   \n",
       "2               2  2015-12-13          0.93     118220.22   794.70  109149.67   \n",
       "3               3  2015-12-06          1.08      78992.15  1132.00   71976.41   \n",
       "4               4  2015-11-29          1.28      51039.60   941.48   43838.39   \n",
       "...           ...         ...           ...           ...      ...        ...   \n",
       "18244           7  2018-02-04          1.63      17074.83  2046.96    1529.20   \n",
       "18245           8  2018-01-28          1.71      13888.04  1191.70    3431.50   \n",
       "18246           9  2018-01-21          1.87      13766.76  1191.92    2452.79   \n",
       "18247          10  2018-01-14          1.93      16205.22  1527.63    2981.04   \n",
       "18248          11  2018-01-07          1.62      17489.58  2894.77    2356.13   \n",
       "\n",
       "         4770  Total Bags  Small Bags  Large Bags  XLarge Bags          type  \\\n",
       "0       48.16     8696.87     8603.62       93.25          0.0  conventional   \n",
       "1       58.33     9505.56     9408.07       97.49          0.0  conventional   \n",
       "2      130.50     8145.35     8042.21      103.14          0.0  conventional   \n",
       "3       72.58     5811.16     5677.40      133.76          0.0  conventional   \n",
       "4       75.78     6183.95     5986.26      197.69          0.0  conventional   \n",
       "...       ...         ...         ...         ...          ...           ...   \n",
       "18244    0.00    13498.67    13066.82      431.85          0.0       organic   \n",
       "18245    0.00     9264.84     8940.04      324.80          0.0       organic   \n",
       "18246  727.94     9394.11     9351.80       42.31          0.0       organic   \n",
       "18247  727.01    10969.54    10919.54       50.00          0.0       organic   \n",
       "18248  224.53    12014.15    11988.14       26.01          0.0       organic   \n",
       "\n",
       "       year            region  \n",
       "0      2015            Albany  \n",
       "1      2015            Albany  \n",
       "2      2015            Albany  \n",
       "3      2015            Albany  \n",
       "4      2015            Albany  \n",
       "...     ...               ...  \n",
       "18244  2018  WestTexNewMexico  \n",
       "18245  2018  WestTexNewMexico  \n",
       "18246  2018  WestTexNewMexico  \n",
       "18247  2018  WestTexNewMexico  \n",
       "18248  2018  WestTexNewMexico  \n",
       "\n",
       "[18249 rows x 14 columns]"
      ]
     },
     "execution_count": 2,
     "metadata": {},
     "output_type": "execute_result"
    }
   ],
   "source": [
    "data=pd.read_csv('avocado.csv')\n",
    "data"
   ]
  },
  {
   "cell_type": "code",
   "execution_count": 3,
   "id": "dae958f3",
   "metadata": {},
   "outputs": [
    {
     "data": {
      "text/plain": [
       "(18249, 14)"
      ]
     },
     "execution_count": 3,
     "metadata": {},
     "output_type": "execute_result"
    }
   ],
   "source": [
    "data.shape"
   ]
  },
  {
   "cell_type": "code",
   "execution_count": 4,
   "id": "e425c11c",
   "metadata": {},
   "outputs": [
    {
     "data": {
      "text/html": [
       "<div>\n",
       "<style scoped>\n",
       "    .dataframe tbody tr th:only-of-type {\n",
       "        vertical-align: middle;\n",
       "    }\n",
       "\n",
       "    .dataframe tbody tr th {\n",
       "        vertical-align: top;\n",
       "    }\n",
       "\n",
       "    .dataframe thead th {\n",
       "        text-align: right;\n",
       "    }\n",
       "</style>\n",
       "<table border=\"1\" class=\"dataframe\">\n",
       "  <thead>\n",
       "    <tr style=\"text-align: right;\">\n",
       "      <th></th>\n",
       "      <th>Unnamed: 0</th>\n",
       "      <th>AveragePrice</th>\n",
       "      <th>Total Volume</th>\n",
       "      <th>4046</th>\n",
       "      <th>4225</th>\n",
       "      <th>4770</th>\n",
       "      <th>Total Bags</th>\n",
       "      <th>Small Bags</th>\n",
       "      <th>Large Bags</th>\n",
       "      <th>XLarge Bags</th>\n",
       "      <th>year</th>\n",
       "    </tr>\n",
       "  </thead>\n",
       "  <tbody>\n",
       "    <tr>\n",
       "      <th>count</th>\n",
       "      <td>18249.000000</td>\n",
       "      <td>18249.000000</td>\n",
       "      <td>1.824900e+04</td>\n",
       "      <td>1.824900e+04</td>\n",
       "      <td>1.824900e+04</td>\n",
       "      <td>1.824900e+04</td>\n",
       "      <td>1.824900e+04</td>\n",
       "      <td>1.824900e+04</td>\n",
       "      <td>1.824900e+04</td>\n",
       "      <td>18249.000000</td>\n",
       "      <td>18249.000000</td>\n",
       "    </tr>\n",
       "    <tr>\n",
       "      <th>mean</th>\n",
       "      <td>24.232232</td>\n",
       "      <td>1.405978</td>\n",
       "      <td>8.506440e+05</td>\n",
       "      <td>2.930084e+05</td>\n",
       "      <td>2.951546e+05</td>\n",
       "      <td>2.283974e+04</td>\n",
       "      <td>2.396392e+05</td>\n",
       "      <td>1.821947e+05</td>\n",
       "      <td>5.433809e+04</td>\n",
       "      <td>3106.426507</td>\n",
       "      <td>2016.147899</td>\n",
       "    </tr>\n",
       "    <tr>\n",
       "      <th>std</th>\n",
       "      <td>15.481045</td>\n",
       "      <td>0.402677</td>\n",
       "      <td>3.453545e+06</td>\n",
       "      <td>1.264989e+06</td>\n",
       "      <td>1.204120e+06</td>\n",
       "      <td>1.074641e+05</td>\n",
       "      <td>9.862424e+05</td>\n",
       "      <td>7.461785e+05</td>\n",
       "      <td>2.439660e+05</td>\n",
       "      <td>17692.894652</td>\n",
       "      <td>0.939938</td>\n",
       "    </tr>\n",
       "    <tr>\n",
       "      <th>min</th>\n",
       "      <td>0.000000</td>\n",
       "      <td>0.440000</td>\n",
       "      <td>8.456000e+01</td>\n",
       "      <td>0.000000e+00</td>\n",
       "      <td>0.000000e+00</td>\n",
       "      <td>0.000000e+00</td>\n",
       "      <td>0.000000e+00</td>\n",
       "      <td>0.000000e+00</td>\n",
       "      <td>0.000000e+00</td>\n",
       "      <td>0.000000</td>\n",
       "      <td>2015.000000</td>\n",
       "    </tr>\n",
       "    <tr>\n",
       "      <th>25%</th>\n",
       "      <td>10.000000</td>\n",
       "      <td>1.100000</td>\n",
       "      <td>1.083858e+04</td>\n",
       "      <td>8.540700e+02</td>\n",
       "      <td>3.008780e+03</td>\n",
       "      <td>0.000000e+00</td>\n",
       "      <td>5.088640e+03</td>\n",
       "      <td>2.849420e+03</td>\n",
       "      <td>1.274700e+02</td>\n",
       "      <td>0.000000</td>\n",
       "      <td>2015.000000</td>\n",
       "    </tr>\n",
       "    <tr>\n",
       "      <th>50%</th>\n",
       "      <td>24.000000</td>\n",
       "      <td>1.370000</td>\n",
       "      <td>1.073768e+05</td>\n",
       "      <td>8.645300e+03</td>\n",
       "      <td>2.906102e+04</td>\n",
       "      <td>1.849900e+02</td>\n",
       "      <td>3.974383e+04</td>\n",
       "      <td>2.636282e+04</td>\n",
       "      <td>2.647710e+03</td>\n",
       "      <td>0.000000</td>\n",
       "      <td>2016.000000</td>\n",
       "    </tr>\n",
       "    <tr>\n",
       "      <th>75%</th>\n",
       "      <td>38.000000</td>\n",
       "      <td>1.660000</td>\n",
       "      <td>4.329623e+05</td>\n",
       "      <td>1.110202e+05</td>\n",
       "      <td>1.502069e+05</td>\n",
       "      <td>6.243420e+03</td>\n",
       "      <td>1.107834e+05</td>\n",
       "      <td>8.333767e+04</td>\n",
       "      <td>2.202925e+04</td>\n",
       "      <td>132.500000</td>\n",
       "      <td>2017.000000</td>\n",
       "    </tr>\n",
       "    <tr>\n",
       "      <th>max</th>\n",
       "      <td>52.000000</td>\n",
       "      <td>3.250000</td>\n",
       "      <td>6.250565e+07</td>\n",
       "      <td>2.274362e+07</td>\n",
       "      <td>2.047057e+07</td>\n",
       "      <td>2.546439e+06</td>\n",
       "      <td>1.937313e+07</td>\n",
       "      <td>1.338459e+07</td>\n",
       "      <td>5.719097e+06</td>\n",
       "      <td>551693.650000</td>\n",
       "      <td>2018.000000</td>\n",
       "    </tr>\n",
       "  </tbody>\n",
       "</table>\n",
       "</div>"
      ],
      "text/plain": [
       "         Unnamed: 0  AveragePrice  Total Volume          4046          4225  \\\n",
       "count  18249.000000  18249.000000  1.824900e+04  1.824900e+04  1.824900e+04   \n",
       "mean      24.232232      1.405978  8.506440e+05  2.930084e+05  2.951546e+05   \n",
       "std       15.481045      0.402677  3.453545e+06  1.264989e+06  1.204120e+06   \n",
       "min        0.000000      0.440000  8.456000e+01  0.000000e+00  0.000000e+00   \n",
       "25%       10.000000      1.100000  1.083858e+04  8.540700e+02  3.008780e+03   \n",
       "50%       24.000000      1.370000  1.073768e+05  8.645300e+03  2.906102e+04   \n",
       "75%       38.000000      1.660000  4.329623e+05  1.110202e+05  1.502069e+05   \n",
       "max       52.000000      3.250000  6.250565e+07  2.274362e+07  2.047057e+07   \n",
       "\n",
       "               4770    Total Bags    Small Bags    Large Bags    XLarge Bags  \\\n",
       "count  1.824900e+04  1.824900e+04  1.824900e+04  1.824900e+04   18249.000000   \n",
       "mean   2.283974e+04  2.396392e+05  1.821947e+05  5.433809e+04    3106.426507   \n",
       "std    1.074641e+05  9.862424e+05  7.461785e+05  2.439660e+05   17692.894652   \n",
       "min    0.000000e+00  0.000000e+00  0.000000e+00  0.000000e+00       0.000000   \n",
       "25%    0.000000e+00  5.088640e+03  2.849420e+03  1.274700e+02       0.000000   \n",
       "50%    1.849900e+02  3.974383e+04  2.636282e+04  2.647710e+03       0.000000   \n",
       "75%    6.243420e+03  1.107834e+05  8.333767e+04  2.202925e+04     132.500000   \n",
       "max    2.546439e+06  1.937313e+07  1.338459e+07  5.719097e+06  551693.650000   \n",
       "\n",
       "               year  \n",
       "count  18249.000000  \n",
       "mean    2016.147899  \n",
       "std        0.939938  \n",
       "min     2015.000000  \n",
       "25%     2015.000000  \n",
       "50%     2016.000000  \n",
       "75%     2017.000000  \n",
       "max     2018.000000  "
      ]
     },
     "execution_count": 4,
     "metadata": {},
     "output_type": "execute_result"
    }
   ],
   "source": [
    "data.describe()"
   ]
  },
  {
   "cell_type": "markdown",
   "id": "95abc4af",
   "metadata": {},
   "source": [
    "### Let's check for null values"
   ]
  },
  {
   "cell_type": "code",
   "execution_count": 5,
   "id": "ed856f9d",
   "metadata": {},
   "outputs": [
    {
     "data": {
      "text/plain": [
       "Unnamed: 0      0\n",
       "Date            0\n",
       "AveragePrice    0\n",
       "Total Volume    0\n",
       "4046            0\n",
       "4225            0\n",
       "4770            0\n",
       "Total Bags      0\n",
       "Small Bags      0\n",
       "Large Bags      0\n",
       "XLarge Bags     0\n",
       "type            0\n",
       "year            0\n",
       "region          0\n",
       "dtype: int64"
      ]
     },
     "execution_count": 5,
     "metadata": {},
     "output_type": "execute_result"
    }
   ],
   "source": [
    "data.isna().sum()"
   ]
  },
  {
   "cell_type": "markdown",
   "id": "e48ed6d6",
   "metadata": {},
   "source": [
    "#### Checking for values which has 0 values"
   ]
  },
  {
   "cell_type": "code",
   "execution_count": 6,
   "id": "0e3c83d0",
   "metadata": {},
   "outputs": [
    {
     "name": "stdout",
     "output_type": "stream",
     "text": [
      "Count of zeros in column  Unnamed: 0  is :  432\n",
      "Count of zeros in column  Date  is :  0\n",
      "Count of zeros in column  AveragePrice  is :  0\n",
      "Count of zeros in column  Total Volume  is :  0\n",
      "Count of zeros in column  4046  is :  242\n",
      "Count of zeros in column  4225  is :  61\n",
      "Count of zeros in column  4770  is :  5497\n",
      "Count of zeros in column  Total Bags  is :  15\n",
      "Count of zeros in column  Small Bags  is :  159\n",
      "Count of zeros in column  Large Bags  is :  2370\n",
      "Count of zeros in column  XLarge Bags  is :  12048\n",
      "Count of zeros in column  type  is :  0\n",
      "Count of zeros in column  year  is :  0\n",
      "Count of zeros in column  region  is :  0\n"
     ]
    }
   ],
   "source": [
    "for column_name in data.columns:\n",
    "    column = data[column_name]\n",
    "    # Get the count of Zeros in column \n",
    "    count = (column == 0).sum()\n",
    "    print('Count of zeros in column ', column_name, ' is : ', count)"
   ]
  },
  {
   "cell_type": "markdown",
   "id": "2717fa67",
   "metadata": {},
   "source": [
    "#### Checking the datatypes of columns"
   ]
  },
  {
   "cell_type": "code",
   "execution_count": 7,
   "id": "cfb50944",
   "metadata": {},
   "outputs": [
    {
     "data": {
      "text/plain": [
       "Unnamed: 0        int64\n",
       "Date             object\n",
       "AveragePrice    float64\n",
       "Total Volume    float64\n",
       "4046            float64\n",
       "4225            float64\n",
       "4770            float64\n",
       "Total Bags      float64\n",
       "Small Bags      float64\n",
       "Large Bags      float64\n",
       "XLarge Bags     float64\n",
       "type             object\n",
       "year              int64\n",
       "region           object\n",
       "dtype: object"
      ]
     },
     "execution_count": 7,
     "metadata": {},
     "output_type": "execute_result"
    }
   ],
   "source": [
    "data.dtypes"
   ]
  },
  {
   "cell_type": "markdown",
   "id": "0e77cc8b",
   "metadata": {},
   "source": [
    "### Dropping the unnamed column"
   ]
  },
  {
   "cell_type": "code",
   "execution_count": 8,
   "id": "77d1fd01",
   "metadata": {},
   "outputs": [],
   "source": [
    "data=data.drop(columns=['Unnamed: 0'])"
   ]
  },
  {
   "cell_type": "markdown",
   "id": "86a257b4",
   "metadata": {},
   "source": [
    "### let's deal with the columns which have 0 values"
   ]
  },
  {
   "cell_type": "code",
   "execution_count": 9,
   "id": "7fbf8767",
   "metadata": {},
   "outputs": [],
   "source": [
    "data['Total Bags']=data['Total Bags'].replace(0.0,data['Total Bags'].mean())"
   ]
  },
  {
   "cell_type": "code",
   "execution_count": 10,
   "id": "e199e92f",
   "metadata": {},
   "outputs": [],
   "source": [
    "data['Small Bags']=data['Small Bags'].replace(0.0,data['Small Bags'].mean())\n"
   ]
  },
  {
   "cell_type": "code",
   "execution_count": 11,
   "id": "01695616",
   "metadata": {},
   "outputs": [],
   "source": [
    "data['Large Bags']=data['Large Bags'].replace(0.0,data['Large Bags'].mean())"
   ]
  },
  {
   "cell_type": "code",
   "execution_count": 12,
   "id": "76843cea",
   "metadata": {},
   "outputs": [],
   "source": [
    "data['4046']=data['4046'].replace(0.0,data['4046'].mean())"
   ]
  },
  {
   "cell_type": "code",
   "execution_count": 13,
   "id": "09938526",
   "metadata": {},
   "outputs": [],
   "source": [
    "data['4225']=data['4225'].replace(0.0,data['4225'].mean())"
   ]
  },
  {
   "cell_type": "code",
   "execution_count": 14,
   "id": "d64ce5c0",
   "metadata": {},
   "outputs": [],
   "source": [
    "data['4770']=data['4770'].replace(0.0,data['4770'].mean())"
   ]
  },
  {
   "cell_type": "markdown",
   "id": "ebc95274",
   "metadata": {},
   "source": [
    " Xlarge bags has 70 % of data 0 so we are not replacing it"
   ]
  },
  {
   "cell_type": "markdown",
   "id": "dfebf645",
   "metadata": {},
   "source": [
    "### Visualization of the Categorical columns"
   ]
  },
  {
   "cell_type": "code",
   "execution_count": 15,
   "id": "23cd9c31",
   "metadata": {},
   "outputs": [
    {
     "name": "stdout",
     "output_type": "stream",
     "text": [
      "conventional    9126\n",
      "organic         9123\n",
      "Name: type, dtype: int64\n"
     ]
    },
    {
     "data": {
      "image/png": "[encoded data removed]",
      "text/plain": [
       "<Figure size 432x288 with 1 Axes>"
      ]
     },
     "metadata": {
      "needs_background": "light"
     },
     "output_type": "display_data"
    }
   ],
   "source": [
    "ax=sns.countplot(x='type',data=data)\n",
    "print(data['type'].value_counts())"
   ]
  },
  {
   "cell_type": "code",
   "execution_count": 16,
   "id": "94ca146e",
   "metadata": {},
   "outputs": [
    {
     "name": "stdout",
     "output_type": "stream",
     "text": [
      "HartfordSpringfield    338\n",
      "Plains                 338\n",
      "Columbus               338\n",
      "SouthCarolina          338\n",
      "GreatLakes             338\n",
      "Denver                 338\n",
      "RaleighGreensboro      338\n",
      "Jacksonville           338\n",
      "Northeast              338\n",
      "Midsouth               338\n",
      "West                   338\n",
      "PhoenixTucson          338\n",
      "Roanoke                338\n",
      "Sacramento             338\n",
      "NorthernNewEngland     338\n",
      "LosAngeles             338\n",
      "SanDiego               338\n",
      "Orlando                338\n",
      "Southeast              338\n",
      "Charlotte              338\n",
      "CincinnatiDayton       338\n",
      "NewYork                338\n",
      "BaltimoreWashington    338\n",
      "Seattle                338\n",
      "Nashville              338\n",
      "Albany                 338\n",
      "California             338\n",
      "HarrisburgScranton     338\n",
      "Tampa                  338\n",
      "GrandRapids            338\n",
      "DallasFtWorth          338\n",
      "LasVegas               338\n",
      "BuffaloRochester       338\n",
      "RichmondNorfolk        338\n",
      "Pittsburgh             338\n",
      "TotalUS                338\n",
      "Indianapolis           338\n",
      "Portland               338\n",
      "NewOrleansMobile       338\n",
      "Detroit                338\n",
      "Houston                338\n",
      "Boston                 338\n",
      "SanFrancisco           338\n",
      "Louisville             338\n",
      "Philadelphia           338\n",
      "Atlanta                338\n",
      "Boise                  338\n",
      "Syracuse               338\n",
      "MiamiFtLauderdale      338\n",
      "Spokane                338\n",
      "Chicago                338\n",
      "StLouis                338\n",
      "SouthCentral           338\n",
      "WestTexNewMexico       335\n",
      "Name: region, dtype: int64\n"
     ]
    },
    {
     "data": {
      "image/png": "[encoded data removed]",
      "text/plain": [
       "<Figure size 432x288 with 1 Axes>"
      ]
     },
     "metadata": {
      "needs_background": "light"
     },
     "output_type": "display_data"
    }
   ],
   "source": [
    "ax=sns.countplot(x='region',data=data)\n",
    "print(data['region'].value_counts())"
   ]
  },
  {
   "cell_type": "markdown",
   "id": "a936ccb5",
   "metadata": {},
   "source": [
    "#### Checking the Distribution of the Continuous data"
   ]
  },
  {
   "cell_type": "code",
   "execution_count": 17,
   "id": "e65b603d",
   "metadata": {},
   "outputs": [],
   "source": [
    "df_continuous=data.drop(columns=['type','region','Date'])"
   ]
  },
  {
   "cell_type": "code",
   "execution_count": 18,
   "id": "450adf54",
   "metadata": {},
   "outputs": [
    {
     "data": {
      "image/png": "[encoded data removed]",
      "text/plain": [
       "<Figure size 1440x1440 with 10 Axes>"
      ]
     },
     "metadata": {
      "needs_background": "light"
     },
     "output_type": "display_data"
    }
   ],
   "source": [
    "plt.figure(figsize=(20,20))\n",
    "plotnumber=1\n",
    "for column in df_continuous:\n",
    "    if plotnumber<=25:\n",
    "        ax=plt.subplot(4,3,plotnumber)\n",
    "        sns.distplot(df_continuous[column])\n",
    "        plt.xlabel(column,fontsize=20)\n",
    "    plotnumber+=1\n",
    "plt.show()"
   ]
  },
  {
   "cell_type": "markdown",
   "id": "5fbc2cde",
   "metadata": {},
   "source": [
    "### Encoding of the Dataset"
   ]
  },
  {
   "cell_type": "code",
   "execution_count": 19,
   "id": "bf4b6a02",
   "metadata": {},
   "outputs": [],
   "source": [
    "from sklearn.preprocessing import LabelEncoder\n",
    "enc=LabelEncoder()\n",
    "for i in data.columns:\n",
    "    if data[i].dtypes==\"object\":\n",
    "        data[i]=enc.fit_transform(data[i].values.reshape(-1,1))"
   ]
  },
  {
   "cell_type": "code",
   "execution_count": 20,
   "id": "a34b01a6",
   "metadata": {},
   "outputs": [
    {
     "data": {
      "text/html": [
       "<div>\n",
       "<style scoped>\n",
       "    .dataframe tbody tr th:only-of-type {\n",
       "        vertical-align: middle;\n",
       "    }\n",
       "\n",
       "    .dataframe tbody tr th {\n",
       "        vertical-align: top;\n",
       "    }\n",
       "\n",
       "    .dataframe thead th {\n",
       "        text-align: right;\n",
       "    }\n",
       "</style>\n",
       "<table border=\"1\" class=\"dataframe\">\n",
       "  <thead>\n",
       "    <tr style=\"text-align: right;\">\n",
       "      <th></th>\n",
       "      <th>Date</th>\n",
       "      <th>AveragePrice</th>\n",
       "      <th>Total Volume</th>\n",
       "      <th>4046</th>\n",
       "      <th>4225</th>\n",
       "      <th>4770</th>\n",
       "      <th>Total Bags</th>\n",
       "      <th>Small Bags</th>\n",
       "      <th>Large Bags</th>\n",
       "      <th>XLarge Bags</th>\n",
       "      <th>type</th>\n",
       "      <th>year</th>\n",
       "      <th>region</th>\n",
       "    </tr>\n",
       "  </thead>\n",
       "  <tbody>\n",
       "    <tr>\n",
       "      <th>0</th>\n",
       "      <td>51</td>\n",
       "      <td>1.33</td>\n",
       "      <td>64236.62</td>\n",
       "      <td>1036.74</td>\n",
       "      <td>54454.85</td>\n",
       "      <td>48.160000</td>\n",
       "      <td>8696.87</td>\n",
       "      <td>8603.62</td>\n",
       "      <td>93.25</td>\n",
       "      <td>0.0</td>\n",
       "      <td>0</td>\n",
       "      <td>2015</td>\n",
       "      <td>0</td>\n",
       "    </tr>\n",
       "    <tr>\n",
       "      <th>1</th>\n",
       "      <td>50</td>\n",
       "      <td>1.35</td>\n",
       "      <td>54876.98</td>\n",
       "      <td>674.28</td>\n",
       "      <td>44638.81</td>\n",
       "      <td>58.330000</td>\n",
       "      <td>9505.56</td>\n",
       "      <td>9408.07</td>\n",
       "      <td>97.49</td>\n",
       "      <td>0.0</td>\n",
       "      <td>0</td>\n",
       "      <td>2015</td>\n",
       "      <td>0</td>\n",
       "    </tr>\n",
       "    <tr>\n",
       "      <th>2</th>\n",
       "      <td>49</td>\n",
       "      <td>0.93</td>\n",
       "      <td>118220.22</td>\n",
       "      <td>794.70</td>\n",
       "      <td>109149.67</td>\n",
       "      <td>130.500000</td>\n",
       "      <td>8145.35</td>\n",
       "      <td>8042.21</td>\n",
       "      <td>103.14</td>\n",
       "      <td>0.0</td>\n",
       "      <td>0</td>\n",
       "      <td>2015</td>\n",
       "      <td>0</td>\n",
       "    </tr>\n",
       "    <tr>\n",
       "      <th>3</th>\n",
       "      <td>48</td>\n",
       "      <td>1.08</td>\n",
       "      <td>78992.15</td>\n",
       "      <td>1132.00</td>\n",
       "      <td>71976.41</td>\n",
       "      <td>72.580000</td>\n",
       "      <td>5811.16</td>\n",
       "      <td>5677.40</td>\n",
       "      <td>133.76</td>\n",
       "      <td>0.0</td>\n",
       "      <td>0</td>\n",
       "      <td>2015</td>\n",
       "      <td>0</td>\n",
       "    </tr>\n",
       "    <tr>\n",
       "      <th>4</th>\n",
       "      <td>47</td>\n",
       "      <td>1.28</td>\n",
       "      <td>51039.60</td>\n",
       "      <td>941.48</td>\n",
       "      <td>43838.39</td>\n",
       "      <td>75.780000</td>\n",
       "      <td>6183.95</td>\n",
       "      <td>5986.26</td>\n",
       "      <td>197.69</td>\n",
       "      <td>0.0</td>\n",
       "      <td>0</td>\n",
       "      <td>2015</td>\n",
       "      <td>0</td>\n",
       "    </tr>\n",
       "    <tr>\n",
       "      <th>...</th>\n",
       "      <td>...</td>\n",
       "      <td>...</td>\n",
       "      <td>...</td>\n",
       "      <td>...</td>\n",
       "      <td>...</td>\n",
       "      <td>...</td>\n",
       "      <td>...</td>\n",
       "      <td>...</td>\n",
       "      <td>...</td>\n",
       "      <td>...</td>\n",
       "      <td>...</td>\n",
       "      <td>...</td>\n",
       "      <td>...</td>\n",
       "    </tr>\n",
       "    <tr>\n",
       "      <th>18244</th>\n",
       "      <td>161</td>\n",
       "      <td>1.63</td>\n",
       "      <td>17074.83</td>\n",
       "      <td>2046.96</td>\n",
       "      <td>1529.20</td>\n",
       "      <td>22839.735993</td>\n",
       "      <td>13498.67</td>\n",
       "      <td>13066.82</td>\n",
       "      <td>431.85</td>\n",
       "      <td>0.0</td>\n",
       "      <td>1</td>\n",
       "      <td>2018</td>\n",
       "      <td>53</td>\n",
       "    </tr>\n",
       "    <tr>\n",
       "      <th>18245</th>\n",
       "      <td>160</td>\n",
       "      <td>1.71</td>\n",
       "      <td>13888.04</td>\n",
       "      <td>1191.70</td>\n",
       "      <td>3431.50</td>\n",
       "      <td>22839.735993</td>\n",
       "      <td>9264.84</td>\n",
       "      <td>8940.04</td>\n",
       "      <td>324.80</td>\n",
       "      <td>0.0</td>\n",
       "      <td>1</td>\n",
       "      <td>2018</td>\n",
       "      <td>53</td>\n",
       "    </tr>\n",
       "    <tr>\n",
       "      <th>18246</th>\n",
       "      <td>159</td>\n",
       "      <td>1.87</td>\n",
       "      <td>13766.76</td>\n",
       "      <td>1191.92</td>\n",
       "      <td>2452.79</td>\n",
       "      <td>727.940000</td>\n",
       "      <td>9394.11</td>\n",
       "      <td>9351.80</td>\n",
       "      <td>42.31</td>\n",
       "      <td>0.0</td>\n",
       "      <td>1</td>\n",
       "      <td>2018</td>\n",
       "      <td>53</td>\n",
       "    </tr>\n",
       "    <tr>\n",
       "      <th>18247</th>\n",
       "      <td>158</td>\n",
       "      <td>1.93</td>\n",
       "      <td>16205.22</td>\n",
       "      <td>1527.63</td>\n",
       "      <td>2981.04</td>\n",
       "      <td>727.010000</td>\n",
       "      <td>10969.54</td>\n",
       "      <td>10919.54</td>\n",
       "      <td>50.00</td>\n",
       "      <td>0.0</td>\n",
       "      <td>1</td>\n",
       "      <td>2018</td>\n",
       "      <td>53</td>\n",
       "    </tr>\n",
       "    <tr>\n",
       "      <th>18248</th>\n",
       "      <td>157</td>\n",
       "      <td>1.62</td>\n",
       "      <td>17489.58</td>\n",
       "      <td>2894.77</td>\n",
       "      <td>2356.13</td>\n",
       "      <td>224.530000</td>\n",
       "      <td>12014.15</td>\n",
       "      <td>11988.14</td>\n",
       "      <td>26.01</td>\n",
       "      <td>0.0</td>\n",
       "      <td>1</td>\n",
       "      <td>2018</td>\n",
       "      <td>53</td>\n",
       "    </tr>\n",
       "  </tbody>\n",
       "</table>\n",
       "<p>18249 rows × 13 columns</p>\n",
       "</div>"
      ],
      "text/plain": [
       "       Date  AveragePrice  Total Volume     4046       4225          4770  \\\n",
       "0        51          1.33      64236.62  1036.74   54454.85     48.160000   \n",
       "1        50          1.35      54876.98   674.28   44638.81     58.330000   \n",
       "2        49          0.93     118220.22   794.70  109149.67    130.500000   \n",
       "3        48          1.08      78992.15  1132.00   71976.41     72.580000   \n",
       "4        47          1.28      51039.60   941.48   43838.39     75.780000   \n",
       "...     ...           ...           ...      ...        ...           ...   \n",
       "18244   161          1.63      17074.83  2046.96    1529.20  22839.735993   \n",
       "18245   160          1.71      13888.04  1191.70    3431.50  22839.735993   \n",
       "18246   159          1.87      13766.76  1191.92    2452.79    727.940000   \n",
       "18247   158          1.93      16205.22  1527.63    2981.04    727.010000   \n",
       "18248   157          1.62      17489.58  2894.77    2356.13    224.530000   \n",
       "\n",
       "       Total Bags  Small Bags  Large Bags  XLarge Bags  type  year  region  \n",
       "0         8696.87     8603.62       93.25          0.0     0  2015       0  \n",
       "1         9505.56     9408.07       97.49          0.0     0  2015       0  \n",
       "2         8145.35     8042.21      103.14          0.0     0  2015       0  \n",
       "3         5811.16     5677.40      133.76          0.0     0  2015       0  \n",
       "4         6183.95     5986.26      197.69          0.0     0  2015       0  \n",
       "...           ...         ...         ...          ...   ...   ...     ...  \n",
       "18244    13498.67    13066.82      431.85          0.0     1  2018      53  \n",
       "18245     9264.84     8940.04      324.80          0.0     1  2018      53  \n",
       "18246     9394.11     9351.80       42.31          0.0     1  2018      53  \n",
       "18247    10969.54    10919.54       50.00          0.0     1  2018      53  \n",
       "18248    12014.15    11988.14       26.01          0.0     1  2018      53  \n",
       "\n",
       "[18249 rows x 13 columns]"
      ]
     },
     "execution_count": 20,
     "metadata": {},
     "output_type": "execute_result"
    }
   ],
   "source": [
    "data"
   ]
  },
  {
   "cell_type": "markdown",
   "id": "e3536d5a",
   "metadata": {},
   "source": [
    "### Checking the correlation"
   ]
  },
  {
   "cell_type": "code",
   "execution_count": 21,
   "id": "681c81cd",
   "metadata": {},
   "outputs": [
    {
     "data": {
      "text/plain": [
       "Date           -0.000101\n",
       "AveragePrice   -0.011716\n",
       "Total Volume    0.174176\n",
       "4046            0.192410\n",
       "4225            0.145953\n",
       "4770            0.085718\n",
       "Total Bags      0.175447\n",
       "Small Bags      0.165930\n",
       "Large Bags      0.196301\n",
       "XLarge Bags     0.082281\n",
       "type           -0.000280\n",
       "year           -0.000055\n",
       "region          1.000000\n",
       "Name: region, dtype: float64"
      ]
     },
     "execution_count": 21,
     "metadata": {},
     "output_type": "execute_result"
    }
   ],
   "source": [
    "data.corr()['region']"
   ]
  },
  {
   "cell_type": "code",
   "execution_count": 22,
   "id": "f7dc27bb",
   "metadata": {},
   "outputs": [
    {
     "data": {
      "image/png": "[encoded data removed]",
      "text/plain": [
       "<Figure size 1440x1440 with 2 Axes>"
      ]
     },
     "metadata": {
      "needs_background": "light"
     },
     "output_type": "display_data"
    }
   ],
   "source": [
    "plt.figure(figsize=(20,20))\n",
    "sns.heatmap(data.corr(),annot=True)\n",
    "plt.show()"
   ]
  },
  {
   "cell_type": "markdown",
   "id": "97f7418a",
   "metadata": {},
   "source": [
    "#### Dropping the columns which has less relationship with target variables"
   ]
  },
  {
   "cell_type": "code",
   "execution_count": 23,
   "id": "4cbb84e8",
   "metadata": {},
   "outputs": [],
   "source": [
    "data_new=data.drop(columns=['Date','AveragePrice','type','year'])"
   ]
  },
  {
   "cell_type": "code",
   "execution_count": 24,
   "id": "2996e94a",
   "metadata": {},
   "outputs": [
    {
     "data": {
      "text/html": [
       "<div>\n",
       "<style scoped>\n",
       "    .dataframe tbody tr th:only-of-type {\n",
       "        vertical-align: middle;\n",
       "    }\n",
       "\n",
       "    .dataframe tbody tr th {\n",
       "        vertical-align: top;\n",
       "    }\n",
       "\n",
       "    .dataframe thead th {\n",
       "        text-align: right;\n",
       "    }\n",
       "</style>\n",
       "<table border=\"1\" class=\"dataframe\">\n",
       "  <thead>\n",
       "    <tr style=\"text-align: right;\">\n",
       "      <th></th>\n",
       "      <th>Total Volume</th>\n",
       "      <th>4046</th>\n",
       "      <th>4225</th>\n",
       "      <th>4770</th>\n",
       "      <th>Total Bags</th>\n",
       "      <th>Small Bags</th>\n",
       "      <th>Large Bags</th>\n",
       "      <th>XLarge Bags</th>\n",
       "      <th>region</th>\n",
       "    </tr>\n",
       "  </thead>\n",
       "  <tbody>\n",
       "    <tr>\n",
       "      <th>0</th>\n",
       "      <td>64236.62</td>\n",
       "      <td>1036.74</td>\n",
       "      <td>54454.85</td>\n",
       "      <td>48.160000</td>\n",
       "      <td>8696.87</td>\n",
       "      <td>8603.62</td>\n",
       "      <td>93.25</td>\n",
       "      <td>0.0</td>\n",
       "      <td>0</td>\n",
       "    </tr>\n",
       "    <tr>\n",
       "      <th>1</th>\n",
       "      <td>54876.98</td>\n",
       "      <td>674.28</td>\n",
       "      <td>44638.81</td>\n",
       "      <td>58.330000</td>\n",
       "      <td>9505.56</td>\n",
       "      <td>9408.07</td>\n",
       "      <td>97.49</td>\n",
       "      <td>0.0</td>\n",
       "      <td>0</td>\n",
       "    </tr>\n",
       "    <tr>\n",
       "      <th>2</th>\n",
       "      <td>118220.22</td>\n",
       "      <td>794.70</td>\n",
       "      <td>109149.67</td>\n",
       "      <td>130.500000</td>\n",
       "      <td>8145.35</td>\n",
       "      <td>8042.21</td>\n",
       "      <td>103.14</td>\n",
       "      <td>0.0</td>\n",
       "      <td>0</td>\n",
       "    </tr>\n",
       "    <tr>\n",
       "      <th>3</th>\n",
       "      <td>78992.15</td>\n",
       "      <td>1132.00</td>\n",
       "      <td>71976.41</td>\n",
       "      <td>72.580000</td>\n",
       "      <td>5811.16</td>\n",
       "      <td>5677.40</td>\n",
       "      <td>133.76</td>\n",
       "      <td>0.0</td>\n",
       "      <td>0</td>\n",
       "    </tr>\n",
       "    <tr>\n",
       "      <th>4</th>\n",
       "      <td>51039.60</td>\n",
       "      <td>941.48</td>\n",
       "      <td>43838.39</td>\n",
       "      <td>75.780000</td>\n",
       "      <td>6183.95</td>\n",
       "      <td>5986.26</td>\n",
       "      <td>197.69</td>\n",
       "      <td>0.0</td>\n",
       "      <td>0</td>\n",
       "    </tr>\n",
       "    <tr>\n",
       "      <th>...</th>\n",
       "      <td>...</td>\n",
       "      <td>...</td>\n",
       "      <td>...</td>\n",
       "      <td>...</td>\n",
       "      <td>...</td>\n",
       "      <td>...</td>\n",
       "      <td>...</td>\n",
       "      <td>...</td>\n",
       "      <td>...</td>\n",
       "    </tr>\n",
       "    <tr>\n",
       "      <th>18244</th>\n",
       "      <td>17074.83</td>\n",
       "      <td>2046.96</td>\n",
       "      <td>1529.20</td>\n",
       "      <td>22839.735993</td>\n",
       "      <td>13498.67</td>\n",
       "      <td>13066.82</td>\n",
       "      <td>431.85</td>\n",
       "      <td>0.0</td>\n",
       "      <td>53</td>\n",
       "    </tr>\n",
       "    <tr>\n",
       "      <th>18245</th>\n",
       "      <td>13888.04</td>\n",
       "      <td>1191.70</td>\n",
       "      <td>3431.50</td>\n",
       "      <td>22839.735993</td>\n",
       "      <td>9264.84</td>\n",
       "      <td>8940.04</td>\n",
       "      <td>324.80</td>\n",
       "      <td>0.0</td>\n",
       "      <td>53</td>\n",
       "    </tr>\n",
       "    <tr>\n",
       "      <th>18246</th>\n",
       "      <td>13766.76</td>\n",
       "      <td>1191.92</td>\n",
       "      <td>2452.79</td>\n",
       "      <td>727.940000</td>\n",
       "      <td>9394.11</td>\n",
       "      <td>9351.80</td>\n",
       "      <td>42.31</td>\n",
       "      <td>0.0</td>\n",
       "      <td>53</td>\n",
       "    </tr>\n",
       "    <tr>\n",
       "      <th>18247</th>\n",
       "      <td>16205.22</td>\n",
       "      <td>1527.63</td>\n",
       "      <td>2981.04</td>\n",
       "      <td>727.010000</td>\n",
       "      <td>10969.54</td>\n",
       "      <td>10919.54</td>\n",
       "      <td>50.00</td>\n",
       "      <td>0.0</td>\n",
       "      <td>53</td>\n",
       "    </tr>\n",
       "    <tr>\n",
       "      <th>18248</th>\n",
       "      <td>17489.58</td>\n",
       "      <td>2894.77</td>\n",
       "      <td>2356.13</td>\n",
       "      <td>224.530000</td>\n",
       "      <td>12014.15</td>\n",
       "      <td>11988.14</td>\n",
       "      <td>26.01</td>\n",
       "      <td>0.0</td>\n",
       "      <td>53</td>\n",
       "    </tr>\n",
       "  </tbody>\n",
       "</table>\n",
       "<p>18249 rows × 9 columns</p>\n",
       "</div>"
      ],
      "text/plain": [
       "       Total Volume     4046       4225          4770  Total Bags  Small Bags  \\\n",
       "0          64236.62  1036.74   54454.85     48.160000     8696.87     8603.62   \n",
       "1          54876.98   674.28   44638.81     58.330000     9505.56     9408.07   \n",
       "2         118220.22   794.70  109149.67    130.500000     8145.35     8042.21   \n",
       "3          78992.15  1132.00   71976.41     72.580000     5811.16     5677.40   \n",
       "4          51039.60   941.48   43838.39     75.780000     6183.95     5986.26   \n",
       "...             ...      ...        ...           ...         ...         ...   \n",
       "18244      17074.83  2046.96    1529.20  22839.735993    13498.67    13066.82   \n",
       "18245      13888.04  1191.70    3431.50  22839.735993     9264.84     8940.04   \n",
       "18246      13766.76  1191.92    2452.79    727.940000     9394.11     9351.80   \n",
       "18247      16205.22  1527.63    2981.04    727.010000    10969.54    10919.54   \n",
       "18248      17489.58  2894.77    2356.13    224.530000    12014.15    11988.14   \n",
       "\n",
       "       Large Bags  XLarge Bags  region  \n",
       "0           93.25          0.0       0  \n",
       "1           97.49          0.0       0  \n",
       "2          103.14          0.0       0  \n",
       "3          133.76          0.0       0  \n",
       "4          197.69          0.0       0  \n",
       "...           ...          ...     ...  \n",
       "18244      431.85          0.0      53  \n",
       "18245      324.80          0.0      53  \n",
       "18246       42.31          0.0      53  \n",
       "18247       50.00          0.0      53  \n",
       "18248       26.01          0.0      53  \n",
       "\n",
       "[18249 rows x 9 columns]"
      ]
     },
     "execution_count": 24,
     "metadata": {},
     "output_type": "execute_result"
    }
   ],
   "source": [
    "data_new"
   ]
  },
  {
   "cell_type": "markdown",
   "id": "28188a58",
   "metadata": {},
   "source": [
    "### Checking for outliers using boxplot"
   ]
  },
  {
   "cell_type": "code",
   "execution_count": 25,
   "id": "1ce91411",
   "metadata": {},
   "outputs": [
    {
     "data": {
      "image/png": "[encoded data removed]",
      "text/plain": [
       "<Figure size 1440x1440 with 9 Axes>"
      ]
     },
     "metadata": {
      "needs_background": "light"
     },
     "output_type": "display_data"
    }
   ],
   "source": [
    "plt.figure(figsize=(20,20))\n",
    "plotnumber=1\n",
    "for column in data_new:\n",
    "    if plotnumber<=20:\n",
    "        ax=plt.subplot(3,3,plotnumber)\n",
    "        sns.boxplot(data=data_new[column],orient='v')\n",
    "        plt.xlabel(column,fontsize=20)\n",
    "    plotnumber+=1\n",
    "plt.show()"
   ]
  },
  {
   "cell_type": "markdown",
   "id": "cfcfe417",
   "metadata": {},
   "source": [
    "# Taking 'region' as Target variable"
   ]
  },
  {
   "cell_type": "markdown",
   "id": "05ca3301",
   "metadata": {},
   "source": [
    "### Dividing the Dataset into dependent and independent variable"
   ]
  },
  {
   "cell_type": "code",
   "execution_count": 26,
   "id": "e38797b7",
   "metadata": {},
   "outputs": [],
   "source": [
    "x=data_new.drop(columns='region')\n",
    "y=data_new['region']"
   ]
  },
  {
   "cell_type": "markdown",
   "id": "a8749846",
   "metadata": {},
   "source": [
    "### Checking Skewness"
   ]
  },
  {
   "cell_type": "code",
   "execution_count": 27,
   "id": "a52d96f5",
   "metadata": {},
   "outputs": [
    {
     "data": {
      "text/plain": [
       "4046             8.648526\n",
       "4225             8.942760\n",
       "Total Volume     9.007687\n",
       "Small Bags       9.541906\n",
       "Total Bags       9.756195\n",
       "Large Bags       9.818731\n",
       "4770            10.244212\n",
       "XLarge Bags     13.139751\n",
       "dtype: float64"
      ]
     },
     "execution_count": 27,
     "metadata": {},
     "output_type": "execute_result"
    }
   ],
   "source": [
    "x.skew().sort_values()"
   ]
  },
  {
   "cell_type": "markdown",
   "id": "e6efa036",
   "metadata": {},
   "source": [
    "### Transform data to remove skewness"
   ]
  },
  {
   "cell_type": "code",
   "execution_count": 28,
   "id": "43f823fb",
   "metadata": {},
   "outputs": [],
   "source": [
    "from sklearn.preprocessing import power_transform\n",
    "x_new=power_transform(x)"
   ]
  },
  {
   "cell_type": "markdown",
   "id": "c2b5bd22",
   "metadata": {},
   "source": [
    "### Scaling the data"
   ]
  },
  {
   "cell_type": "code",
   "execution_count": 29,
   "id": "7cecbc8c",
   "metadata": {},
   "outputs": [
    {
     "data": {
      "text/plain": [
       "array([[-0.08660524, -0.71815646,  0.30467555, ..., -0.36198099,\n",
       "        -1.35782954, -0.69984934],\n",
       "       [-0.15574567, -0.84291942,  0.22855162, ..., -0.32592033,\n",
       "        -1.34654313, -0.69984934],\n",
       "       [ 0.17932662, -0.79546331,  0.57784205, ..., -0.38910317,\n",
       "        -1.33217115, -0.69984934],\n",
       "       ...,\n",
       "       [-0.77150535, -0.67734111, -0.79005391, ..., -0.3283453 ,\n",
       "        -1.55000378, -0.69984934],\n",
       "       [-0.69807719, -0.60428883, -0.72672687, ..., -0.26547405,\n",
       "        -1.51072759, -0.69984934],\n",
       "       [-0.66380937, -0.41352391, -0.80302029, ..., -0.22737653,\n",
       "        -1.66025156, -0.69984934]])"
      ]
     },
     "execution_count": 29,
     "metadata": {},
     "output_type": "execute_result"
    }
   ],
   "source": [
    "sc=StandardScaler()\n",
    "x_new=sc.fit_transform(x_new)\n",
    "x_new"
   ]
  },
  {
   "cell_type": "markdown",
   "id": "4fa8f558",
   "metadata": {},
   "source": [
    "### Checking Multicolinearity using VIF(variance inflation factor)"
   ]
  },
  {
   "cell_type": "code",
   "execution_count": 30,
   "id": "36d311a3",
   "metadata": {},
   "outputs": [
    {
     "data": {
      "text/html": [
       "<div>\n",
       "<style scoped>\n",
       "    .dataframe tbody tr th:only-of-type {\n",
       "        vertical-align: middle;\n",
       "    }\n",
       "\n",
       "    .dataframe tbody tr th {\n",
       "        vertical-align: top;\n",
       "    }\n",
       "\n",
       "    .dataframe thead th {\n",
       "        text-align: right;\n",
       "    }\n",
       "</style>\n",
       "<table border=\"1\" class=\"dataframe\">\n",
       "  <thead>\n",
       "    <tr style=\"text-align: right;\">\n",
       "      <th></th>\n",
       "      <th>vif</th>\n",
       "      <th>features</th>\n",
       "    </tr>\n",
       "  </thead>\n",
       "  <tbody>\n",
       "    <tr>\n",
       "      <th>0</th>\n",
       "      <td>30.459159</td>\n",
       "      <td>Total Volume</td>\n",
       "    </tr>\n",
       "    <tr>\n",
       "      <th>1</th>\n",
       "      <td>4.239880</td>\n",
       "      <td>4046</td>\n",
       "    </tr>\n",
       "    <tr>\n",
       "      <th>2</th>\n",
       "      <td>7.768531</td>\n",
       "      <td>4225</td>\n",
       "    </tr>\n",
       "    <tr>\n",
       "      <th>3</th>\n",
       "      <td>1.098427</td>\n",
       "      <td>4770</td>\n",
       "    </tr>\n",
       "    <tr>\n",
       "      <th>4</th>\n",
       "      <td>15.139365</td>\n",
       "      <td>Total Bags</td>\n",
       "    </tr>\n",
       "    <tr>\n",
       "      <th>5</th>\n",
       "      <td>7.873993</td>\n",
       "      <td>Small Bags</td>\n",
       "    </tr>\n",
       "    <tr>\n",
       "      <th>6</th>\n",
       "      <td>1.419649</td>\n",
       "      <td>Large Bags</td>\n",
       "    </tr>\n",
       "    <tr>\n",
       "      <th>7</th>\n",
       "      <td>1.832450</td>\n",
       "      <td>XLarge Bags</td>\n",
       "    </tr>\n",
       "  </tbody>\n",
       "</table>\n",
       "</div>"
      ],
      "text/plain": [
       "         vif      features\n",
       "0  30.459159  Total Volume\n",
       "1   4.239880          4046\n",
       "2   7.768531          4225\n",
       "3   1.098427          4770\n",
       "4  15.139365    Total Bags\n",
       "5   7.873993    Small Bags\n",
       "6   1.419649    Large Bags\n",
       "7   1.832450   XLarge Bags"
      ]
     },
     "execution_count": 30,
     "metadata": {},
     "output_type": "execute_result"
    }
   ],
   "source": [
    "vif=pd.DataFrame()\n",
    "vif['vif']=[variance_inflation_factor(x_new,i)for i in range(x_new.shape[1])]\n",
    "vif['features']=x.columns\n",
    "vif"
   ]
  },
  {
   "cell_type": "code",
   "execution_count": 31,
   "id": "37a93e7f",
   "metadata": {},
   "outputs": [],
   "source": [
    "x=data_new.drop(columns=['Total Bags','Small Bags'])  # due to multicolinearity exist"
   ]
  },
  {
   "cell_type": "code",
   "execution_count": 32,
   "id": "5e0b5b8f",
   "metadata": {},
   "outputs": [],
   "source": [
    "from sklearn.preprocessing import power_transform\n",
    "x_new=power_transform(x)"
   ]
  },
  {
   "cell_type": "code",
   "execution_count": 33,
   "id": "a68e1b9a",
   "metadata": {},
   "outputs": [
    {
     "data": {
      "text/plain": [
       "array([[-0.08660524, -0.71815646,  0.30467555, ..., -1.35782954,\n",
       "        -0.69984934, -2.01155231],\n",
       "       [-0.15574567, -0.84291942,  0.22855162, ..., -1.34654313,\n",
       "        -0.69984934, -2.01155231],\n",
       "       [ 0.17932662, -0.79546331,  0.57784205, ..., -1.33217115,\n",
       "        -0.69984934, -2.01155231],\n",
       "       ...,\n",
       "       [-0.77150535, -0.67734111, -0.79005391, ..., -1.55000378,\n",
       "        -0.69984934,  1.54383806],\n",
       "       [-0.69807719, -0.60428883, -0.72672687, ..., -1.51072759,\n",
       "        -0.69984934,  1.54383806],\n",
       "       [-0.66380937, -0.41352391, -0.80302029, ..., -1.66025156,\n",
       "        -0.69984934,  1.54383806]])"
      ]
     },
     "execution_count": 33,
     "metadata": {},
     "output_type": "execute_result"
    }
   ],
   "source": [
    "sc=StandardScaler()\n",
    "x_new=sc.fit_transform(x_new)\n",
    "x_new"
   ]
  },
  {
   "cell_type": "code",
   "execution_count": 34,
   "id": "cd9c4ad9",
   "metadata": {},
   "outputs": [
    {
     "data": {
      "text/html": [
       "<div>\n",
       "<style scoped>\n",
       "    .dataframe tbody tr th:only-of-type {\n",
       "        vertical-align: middle;\n",
       "    }\n",
       "\n",
       "    .dataframe tbody tr th {\n",
       "        vertical-align: top;\n",
       "    }\n",
       "\n",
       "    .dataframe thead th {\n",
       "        text-align: right;\n",
       "    }\n",
       "</style>\n",
       "<table border=\"1\" class=\"dataframe\">\n",
       "  <thead>\n",
       "    <tr style=\"text-align: right;\">\n",
       "      <th></th>\n",
       "      <th>vif</th>\n",
       "      <th>features</th>\n",
       "    </tr>\n",
       "  </thead>\n",
       "  <tbody>\n",
       "    <tr>\n",
       "      <th>0</th>\n",
       "      <td>12.215651</td>\n",
       "      <td>Total Volume</td>\n",
       "    </tr>\n",
       "    <tr>\n",
       "      <th>1</th>\n",
       "      <td>4.219430</td>\n",
       "      <td>4046</td>\n",
       "    </tr>\n",
       "    <tr>\n",
       "      <th>2</th>\n",
       "      <td>6.738821</td>\n",
       "      <td>4225</td>\n",
       "    </tr>\n",
       "    <tr>\n",
       "      <th>3</th>\n",
       "      <td>1.097627</td>\n",
       "      <td>4770</td>\n",
       "    </tr>\n",
       "    <tr>\n",
       "      <th>4</th>\n",
       "      <td>1.344878</td>\n",
       "      <td>Large Bags</td>\n",
       "    </tr>\n",
       "    <tr>\n",
       "      <th>5</th>\n",
       "      <td>1.817912</td>\n",
       "      <td>XLarge Bags</td>\n",
       "    </tr>\n",
       "    <tr>\n",
       "      <th>6</th>\n",
       "      <td>1.086072</td>\n",
       "      <td>region</td>\n",
       "    </tr>\n",
       "  </tbody>\n",
       "</table>\n",
       "</div>"
      ],
      "text/plain": [
       "         vif      features\n",
       "0  12.215651  Total Volume\n",
       "1   4.219430          4046\n",
       "2   6.738821          4225\n",
       "3   1.097627          4770\n",
       "4   1.344878    Large Bags\n",
       "5   1.817912   XLarge Bags\n",
       "6   1.086072        region"
      ]
     },
     "execution_count": 34,
     "metadata": {},
     "output_type": "execute_result"
    }
   ],
   "source": [
    "vif=pd.DataFrame()\n",
    "vif['vif']=[variance_inflation_factor(x_new,i)for i in range(x_new.shape[1])]\n",
    "vif['features']=x.columns\n",
    "vif"
   ]
  },
  {
   "cell_type": "markdown",
   "id": "434a2d9f",
   "metadata": {},
   "source": [
    "### Finding the best random state"
   ]
  },
  {
   "cell_type": "code",
   "execution_count": null,
   "id": "c72233a6",
   "metadata": {},
   "outputs": [],
   "source": [
    "maxAccu=0 #maximum accuracy\n",
    "maxRS=0  # best random state value for which max accuracy is achieved\n",
    "for i in range(1,100):\n",
    "    x_train,x_test,y_train,y_test=train_test_split(x_new,y,test_size=0.25,random_state=i)\n",
    "    LR=LogisticRegression()\n",
    "    LR.fit(x_train,y_train)\n",
    "    pred=LR.predict(x_test)\n",
    "    acc=accuracy_score(y_test,pred)\n",
    "    if acc>maxAccu:\n",
    "        maxAccu=acc\n",
    "        maxRS=i\n",
    "print('Max Accuracy is',maxAccu,'on Random State ',maxRS)"
   ]
  },
  {
   "cell_type": "markdown",
   "id": "f0bfc411",
   "metadata": {},
   "source": [
    "### Splitting data Into Training and test data"
   ]
  },
  {
   "cell_type": "code",
   "execution_count": 36,
   "id": "ca350f83",
   "metadata": {},
   "outputs": [],
   "source": [
    "x_train,x_test,y_train,y_test=train_test_split(x_new,y,test_size=0.25,random_state=36)"
   ]
  },
  {
   "cell_type": "markdown",
   "id": "ac86183e",
   "metadata": {},
   "source": [
    "### Logistic Regression"
   ]
  },
  {
   "cell_type": "code",
   "execution_count": 37,
   "id": "9d3ebeaf",
   "metadata": {},
   "outputs": [
    {
     "name": "stdout",
     "output_type": "stream",
     "text": [
      "58.09774271312733\n",
      "[[1 1 2 ... 1 3 0]\n",
      " [3 3 0 ... 3 2 0]\n",
      " [0 2 1 ... 0 2 3]\n",
      " ...\n",
      " [2 3 0 ... 1 2 1]\n",
      " [0 2 2 ... 1 0 0]\n",
      " [2 2 1 ... 2 3 1]]\n",
      "              precision    recall  f1-score   support\n",
      "\n",
      "           0       0.01      0.01      0.01        76\n",
      "           1       0.03      0.03      0.03        91\n",
      "           2       0.01      0.01      0.01        87\n",
      "           3       0.04      0.03      0.04        86\n",
      "           4       0.02      0.03      0.02        78\n",
      "           5       0.05      0.03      0.04        87\n",
      "           6       0.00      0.00      0.00        68\n",
      "           7       0.02      0.01      0.01        86\n",
      "           8       0.03      0.03      0.03        93\n",
      "           9       0.01      0.01      0.01        84\n",
      "          10       0.03      0.03      0.03        91\n",
      "          11       0.03      0.02      0.02        86\n",
      "          12       0.01      0.01      0.01        85\n",
      "          13       0.01      0.01      0.01        91\n",
      "          14       0.00      0.00      0.00        90\n",
      "          15       0.00      0.00      0.00        89\n",
      "          16       0.01      0.01      0.01        90\n",
      "          17       0.01      0.01      0.01        92\n",
      "          18       0.02      0.03      0.02        77\n",
      "          19       0.00      0.00      0.00        80\n",
      "          20       0.01      0.01      0.01        94\n",
      "          21       0.07      0.07      0.07        92\n",
      "          22       0.01      0.01      0.01        89\n",
      "          23       0.00      0.00      0.00        77\n",
      "          24       0.02      0.01      0.01        94\n",
      "          25       0.02      0.02      0.02        81\n",
      "          26       0.03      0.01      0.02        72\n",
      "          27       0.00      0.00      0.00        89\n",
      "          28       0.01      0.01      0.01        79\n",
      "          29       0.02      0.02      0.02        90\n",
      "          30       0.01      0.01      0.01        77\n",
      "          31       0.06      0.06      0.06        77\n",
      "          32       0.01      0.03      0.02        71\n",
      "          33       0.01      0.01      0.01        93\n",
      "          34       0.00      0.00      0.00        78\n",
      "          35       0.03      0.02      0.03        87\n",
      "          36       0.02      0.01      0.01        87\n",
      "          37       0.02      0.02      0.02        86\n",
      "          38       0.05      0.03      0.04        93\n",
      "          39       0.05      0.05      0.05        87\n",
      "          40       0.00      0.00      0.00        82\n",
      "          41       0.03      0.02      0.02        94\n",
      "          42       0.02      0.04      0.03        71\n",
      "          43       0.02      0.03      0.02        74\n",
      "          44       0.00      0.00      0.00        89\n",
      "          45       0.01      0.01      0.01        75\n",
      "          46       0.00      0.00      0.00        84\n",
      "          47       0.01      0.01      0.01        90\n",
      "          48       0.00      0.00      0.00        74\n",
      "          49       0.03      0.02      0.02        98\n",
      "          50       0.01      0.01      0.01        76\n",
      "          51       0.01      0.01      0.01        81\n",
      "          52       0.00      0.00      0.00        83\n",
      "          53       0.01      0.01      0.01        92\n",
      "\n",
      "    accuracy                           0.02      4563\n",
      "   macro avg       0.02      0.02      0.02      4563\n",
      "weighted avg       0.02      0.02      0.02      4563\n",
      "\n"
     ]
    }
   ],
   "source": [
    "LR=LogisticRegression()\n",
    "LR.fit(x_train,y_train)\n",
    "y_pred=LR.predict(x_test)\n",
    "accuracy=accuracy_score(y_test,y_pred)\n",
    "print(accuracy*100)\n",
    "print(confusion_matrix(y_test,pred))\n",
    "print(classification_report(y_test,pred))"
   ]
  },
  {
   "cell_type": "markdown",
   "id": "40c8952f",
   "metadata": {},
   "source": [
    "### Decision Tree Classifier"
   ]
  },
  {
   "cell_type": "code",
   "execution_count": 38,
   "id": "ba97f4f9",
   "metadata": {},
   "outputs": [
    {
     "name": "stdout",
     "output_type": "stream",
     "text": [
      "Accuracy  100.0\n",
      "[[76  0  0 ...  0  0  0]\n",
      " [ 0 91  0 ...  0  0  0]\n",
      " [ 0  0 87 ...  0  0  0]\n",
      " ...\n",
      " [ 0  0  0 ... 81  0  0]\n",
      " [ 0  0  0 ...  0 83  0]\n",
      " [ 0  0  0 ...  0  0 92]]\n",
      "              precision    recall  f1-score   support\n",
      "\n",
      "           0       1.00      1.00      1.00        76\n",
      "           1       1.00      1.00      1.00        91\n",
      "           2       1.00      1.00      1.00        87\n",
      "           3       1.00      1.00      1.00        86\n",
      "           4       1.00      1.00      1.00        78\n",
      "           5       1.00      1.00      1.00        87\n",
      "           6       1.00      1.00      1.00        68\n",
      "           7       1.00      1.00      1.00        86\n",
      "           8       1.00      1.00      1.00        93\n",
      "           9       1.00      1.00      1.00        84\n",
      "          10       1.00      1.00      1.00        91\n",
      "          11       1.00      1.00      1.00        86\n",
      "          12       1.00      1.00      1.00        85\n",
      "          13       1.00      1.00      1.00        91\n",
      "          14       1.00      1.00      1.00        90\n",
      "          15       1.00      1.00      1.00        89\n",
      "          16       1.00      1.00      1.00        90\n",
      "          17       1.00      1.00      1.00        92\n",
      "          18       1.00      1.00      1.00        77\n",
      "          19       1.00      1.00      1.00        80\n",
      "          20       1.00      1.00      1.00        94\n",
      "          21       1.00      1.00      1.00        92\n",
      "          22       1.00      1.00      1.00        89\n",
      "          23       1.00      1.00      1.00        77\n",
      "          24       1.00      1.00      1.00        94\n",
      "          25       1.00      1.00      1.00        81\n",
      "          26       1.00      1.00      1.00        72\n",
      "          27       1.00      1.00      1.00        89\n",
      "          28       1.00      1.00      1.00        79\n",
      "          29       1.00      1.00      1.00        90\n",
      "          30       1.00      1.00      1.00        77\n",
      "          31       1.00      1.00      1.00        77\n",
      "          32       1.00      1.00      1.00        71\n",
      "          33       1.00      1.00      1.00        93\n",
      "          34       1.00      1.00      1.00        78\n",
      "          35       1.00      1.00      1.00        87\n",
      "          36       1.00      1.00      1.00        87\n",
      "          37       1.00      1.00      1.00        86\n",
      "          38       1.00      1.00      1.00        93\n",
      "          39       1.00      1.00      1.00        87\n",
      "          40       1.00      1.00      1.00        82\n",
      "          41       1.00      1.00      1.00        94\n",
      "          42       1.00      1.00      1.00        71\n",
      "          43       1.00      1.00      1.00        74\n",
      "          44       1.00      1.00      1.00        89\n",
      "          45       1.00      1.00      1.00        75\n",
      "          46       1.00      1.00      1.00        84\n",
      "          47       1.00      1.00      1.00        90\n",
      "          48       1.00      1.00      1.00        74\n",
      "          49       1.00      1.00      1.00        98\n",
      "          50       1.00      1.00      1.00        76\n",
      "          51       1.00      1.00      1.00        81\n",
      "          52       1.00      1.00      1.00        83\n",
      "          53       1.00      1.00      1.00        92\n",
      "\n",
      "    accuracy                           1.00      4563\n",
      "   macro avg       1.00      1.00      1.00      4563\n",
      "weighted avg       1.00      1.00      1.00      4563\n",
      "\n"
     ]
    }
   ],
   "source": [
    "from sklearn.tree import DecisionTreeClassifier\n",
    "DT=DecisionTreeClassifier()\n",
    "DT.fit(x_train,y_train)\n",
    "pred=DT.predict(x_test)\n",
    "print('Accuracy ',accuracy_score(y_test,pred)*100)\n",
    "print(confusion_matrix(y_test,pred))\n",
    "print(classification_report(y_test,pred))"
   ]
  },
  {
   "cell_type": "markdown",
   "id": "9aa878e9",
   "metadata": {},
   "source": [
    "### Random Forest Classifier"
   ]
  },
  {
   "cell_type": "code",
   "execution_count": 39,
   "id": "64d5abd0",
   "metadata": {},
   "outputs": [
    {
     "name": "stdout",
     "output_type": "stream",
     "text": [
      "Accuracy  99.47403024326101\n",
      "[[76  0  0 ...  0  0  0]\n",
      " [ 0 91  0 ...  0  0  0]\n",
      " [ 0  0 87 ...  0  0  0]\n",
      " ...\n",
      " [ 0  0  0 ... 81  0  0]\n",
      " [ 0  0  0 ...  0 83  0]\n",
      " [ 0  0  0 ...  0  0 92]]\n",
      "              precision    recall  f1-score   support\n",
      "\n",
      "           0       1.00      1.00      1.00        76\n",
      "           1       1.00      1.00      1.00        91\n",
      "           2       1.00      1.00      1.00        87\n",
      "           3       1.00      1.00      1.00        86\n",
      "           4       1.00      1.00      1.00        78\n",
      "           5       1.00      1.00      1.00        87\n",
      "           6       1.00      1.00      1.00        68\n",
      "           7       1.00      1.00      1.00        86\n",
      "           8       1.00      1.00      1.00        93\n",
      "           9       1.00      1.00      1.00        84\n",
      "          10       0.99      1.00      0.99        91\n",
      "          11       1.00      0.99      0.99        86\n",
      "          12       0.96      1.00      0.98        85\n",
      "          13       1.00      0.98      0.99        91\n",
      "          14       1.00      1.00      1.00        90\n",
      "          15       1.00      1.00      1.00        89\n",
      "          16       1.00      0.98      0.99        90\n",
      "          17       1.00      1.00      1.00        92\n",
      "          18       1.00      1.00      1.00        77\n",
      "          19       0.99      0.95      0.97        80\n",
      "          20       0.96      0.98      0.97        94\n",
      "          21       0.99      1.00      0.99        92\n",
      "          22       0.99      1.00      0.99        89\n",
      "          23       1.00      1.00      1.00        77\n",
      "          24       0.99      1.00      0.99        94\n",
      "          25       1.00      1.00      1.00        81\n",
      "          26       1.00      0.99      0.99        72\n",
      "          27       1.00      1.00      1.00        89\n",
      "          28       1.00      0.97      0.99        79\n",
      "          29       0.99      1.00      0.99        90\n",
      "          30       1.00      0.97      0.99        77\n",
      "          31       0.96      1.00      0.98        77\n",
      "          32       0.99      0.99      0.99        71\n",
      "          33       1.00      0.98      0.99        93\n",
      "          34       1.00      1.00      1.00        78\n",
      "          35       0.99      1.00      0.99        87\n",
      "          36       0.98      1.00      0.99        87\n",
      "          37       1.00      0.98      0.99        86\n",
      "          38       1.00      1.00      1.00        93\n",
      "          39       0.99      1.00      0.99        87\n",
      "          40       1.00      1.00      1.00        82\n",
      "          41       1.00      0.99      0.99        94\n",
      "          42       0.97      1.00      0.99        71\n",
      "          43       1.00      0.99      0.99        74\n",
      "          44       1.00      1.00      1.00        89\n",
      "          45       1.00      1.00      1.00        75\n",
      "          46       1.00      1.00      1.00        84\n",
      "          47       1.00      1.00      1.00        90\n",
      "          48       1.00      0.99      0.99        74\n",
      "          49       1.00      1.00      1.00        98\n",
      "          50       1.00      1.00      1.00        76\n",
      "          51       1.00      1.00      1.00        81\n",
      "          52       1.00      1.00      1.00        83\n",
      "          53       1.00      1.00      1.00        92\n",
      "\n",
      "    accuracy                           0.99      4563\n",
      "   macro avg       0.99      0.99      0.99      4563\n",
      "weighted avg       0.99      0.99      0.99      4563\n",
      "\n"
     ]
    }
   ],
   "source": [
    "from sklearn.ensemble import RandomForestClassifier\n",
    "RF=RandomForestClassifier()\n",
    "RF.fit(x_train,y_train)\n",
    "pred=RF.predict(x_test)\n",
    "print('Accuracy ',accuracy_score(y_test,pred)*100)\n",
    "print(confusion_matrix(y_test,pred))\n",
    "print(classification_report(y_test,pred))"
   ]
  },
  {
   "cell_type": "markdown",
   "id": "b081b30f",
   "metadata": {},
   "source": [
    "### SVC"
   ]
  },
  {
   "cell_type": "code",
   "execution_count": 41,
   "id": "b071732b",
   "metadata": {},
   "outputs": [
    {
     "name": "stdout",
     "output_type": "stream",
     "text": [
      "Accuracy  92.85557747096209\n",
      "[[76  0  0 ...  0  0  0]\n",
      " [ 0 91  0 ...  0  0  0]\n",
      " [ 0  0 87 ...  0  0  0]\n",
      " ...\n",
      " [ 0  0  0 ... 81  0  0]\n",
      " [ 0  0  0 ...  1 82  0]\n",
      " [ 0  0  0 ...  3  0 84]]\n",
      "              precision    recall  f1-score   support\n",
      "\n",
      "           0       1.00      1.00      1.00        76\n",
      "           1       1.00      1.00      1.00        91\n",
      "           2       0.99      1.00      0.99        87\n",
      "           3       0.98      1.00      0.99        86\n",
      "           4       0.97      0.99      0.98        78\n",
      "           5       1.00      0.90      0.95        87\n",
      "           6       0.97      0.93      0.95        68\n",
      "           7       0.93      1.00      0.97        86\n",
      "           8       0.99      0.99      0.99        93\n",
      "           9       0.95      0.95      0.95        84\n",
      "          10       0.97      0.98      0.97        91\n",
      "          11       0.99      0.99      0.99        86\n",
      "          12       0.98      0.99      0.98        85\n",
      "          13       1.00      0.97      0.98        91\n",
      "          14       0.91      0.99      0.95        90\n",
      "          15       0.99      1.00      0.99        89\n",
      "          16       0.94      0.93      0.94        90\n",
      "          17       0.92      0.87      0.89        92\n",
      "          18       0.96      1.00      0.98        77\n",
      "          19       0.94      0.94      0.94        80\n",
      "          20       0.86      0.87      0.87        94\n",
      "          21       0.99      0.93      0.96        92\n",
      "          22       0.99      0.97      0.98        89\n",
      "          23       1.00      0.95      0.97        77\n",
      "          24       0.73      0.90      0.81        94\n",
      "          25       0.94      1.00      0.97        81\n",
      "          26       0.85      0.92      0.88        72\n",
      "          27       0.85      0.64      0.73        89\n",
      "          28       0.87      0.90      0.88        79\n",
      "          29       0.94      0.89      0.91        90\n",
      "          30       0.99      0.91      0.95        77\n",
      "          31       0.93      0.96      0.94        77\n",
      "          32       0.90      0.93      0.92        71\n",
      "          33       0.96      0.99      0.97        93\n",
      "          34       0.97      0.92      0.95        78\n",
      "          35       0.95      0.94      0.95        87\n",
      "          36       0.83      0.92      0.87        87\n",
      "          37       0.77      0.80      0.78        86\n",
      "          38       0.84      0.68      0.75        93\n",
      "          39       0.99      0.98      0.98        87\n",
      "          40       0.71      0.94      0.81        82\n",
      "          41       0.90      0.69      0.78        94\n",
      "          42       0.87      0.94      0.91        71\n",
      "          43       0.92      0.93      0.93        74\n",
      "          44       0.99      0.99      0.99        89\n",
      "          45       0.97      0.89      0.93        75\n",
      "          46       0.93      0.98      0.95        84\n",
      "          47       0.89      0.96      0.92        90\n",
      "          48       0.87      0.84      0.86        74\n",
      "          49       0.97      0.89      0.93        98\n",
      "          50       0.81      0.84      0.83        76\n",
      "          51       0.95      1.00      0.98        81\n",
      "          52       0.96      0.99      0.98        83\n",
      "          53       0.99      0.91      0.95        92\n",
      "\n",
      "    accuracy                           0.93      4563\n",
      "   macro avg       0.93      0.93      0.93      4563\n",
      "weighted avg       0.93      0.93      0.93      4563\n",
      "\n"
     ]
    }
   ],
   "source": [
    "from sklearn.svm import SVC\n",
    "svc=SVC()\n",
    "svc.fit(x_train,y_train)\n",
    "pred=svc.predict(x_test)\n",
    "print('Accuracy ',accuracy_score(y_test,pred)*100)\n",
    "print(confusion_matrix(y_test,pred))\n",
    "print(classification_report(y_test,pred))"
   ]
  },
  {
   "cell_type": "markdown",
   "id": "f0537826",
   "metadata": {},
   "source": [
    "Decision tree ,Random Forest and SVC are producing good accuracy. Now we will check for cross validation score as well for overfitting"
   ]
  },
  {
   "cell_type": "markdown",
   "id": "0b45c849",
   "metadata": {},
   "source": [
    "### Cross Validation"
   ]
  },
  {
   "cell_type": "code",
   "execution_count": 42,
   "id": "55448d84",
   "metadata": {},
   "outputs": [],
   "source": [
    "from sklearn.model_selection import cross_val_score"
   ]
  },
  {
   "cell_type": "code",
   "execution_count": 44,
   "id": "2ee30a5c",
   "metadata": {},
   "outputs": [
    {
     "name": "stdout",
     "output_type": "stream",
     "text": [
      "Cross Validation score for Logistic Regresiion is  0.43930831866114567\n"
     ]
    }
   ],
   "source": [
    "cvs_LR=cross_val_score(LR,x_new,y,cv=5)\n",
    "print(\"Cross Validation score for Logistic Regresiion is \",cvs_LR.mean())"
   ]
  },
  {
   "cell_type": "code",
   "execution_count": 45,
   "id": "4bb99990",
   "metadata": {},
   "outputs": [
    {
     "name": "stdout",
     "output_type": "stream",
     "text": [
      "Cross validation score for Decision tree is  1.0\n"
     ]
    }
   ],
   "source": [
    "cvs_DT=cross_val_score(DT,x_new,y,cv=5)\n",
    "print(\"Cross validation score for Decision tree is \",cvs_DT.mean())"
   ]
  },
  {
   "cell_type": "code",
   "execution_count": 46,
   "id": "ec80c8b4",
   "metadata": {},
   "outputs": [
    {
     "name": "stdout",
     "output_type": "stream",
     "text": [
      "Cross validation score for Random Forest is  0.9659124023470496\n"
     ]
    }
   ],
   "source": [
    "cvs_RF=cross_val_score(RF,x_new,y,cv=5)\n",
    "print(\"Cross validation score for Random Forest is \",cvs_RF.mean())"
   ]
  },
  {
   "cell_type": "code",
   "execution_count": 47,
   "id": "ee951fb8",
   "metadata": {},
   "outputs": [
    {
     "name": "stdout",
     "output_type": "stream",
     "text": [
      "Cross validation score for SVC is  0.8261779057501212\n"
     ]
    }
   ],
   "source": [
    "cvs_SVC=cross_val_score(svc,x_new,y,cv=5)\n",
    "print(\"Cross validation score for SVC is \",cvs_SVC.mean())"
   ]
  },
  {
   "cell_type": "markdown",
   "id": "f02ac95f",
   "metadata": {},
   "source": [
    "Random Forest is Performing better among all so we will choose  Random forest classifier as our final model"
   ]
  },
  {
   "cell_type": "markdown",
   "id": "76a214b6",
   "metadata": {},
   "source": [
    "#### Saving the model"
   ]
  },
  {
   "cell_type": "code",
   "execution_count": 50,
   "id": "fc7faf7c",
   "metadata": {},
   "outputs": [],
   "source": [
    "import pickle\n",
    "filename='Avocado_classi.pickle'\n",
    "pickle.dump(RF,open(filename,'wb'))"
   ]
  },
  {
   "cell_type": "markdown",
   "id": "85ba331e",
   "metadata": {},
   "source": [
    "# Taking 'Average price' as Target variable"
   ]
  },
  {
   "cell_type": "markdown",
   "id": "74971251",
   "metadata": {},
   "source": [
    "### Checking the correlation"
   ]
  },
  {
   "cell_type": "code",
   "execution_count": 51,
   "id": "4c5a237e",
   "metadata": {},
   "outputs": [
    {
     "data": {
      "text/plain": [
       "Date            0.145514\n",
       "AveragePrice    1.000000\n",
       "Total Volume   -0.192752\n",
       "4046           -0.206687\n",
       "4225           -0.172693\n",
       "4770           -0.146752\n",
       "Total Bags     -0.176847\n",
       "Small Bags     -0.173151\n",
       "Large Bags     -0.154010\n",
       "XLarge Bags    -0.117592\n",
       "type            0.615845\n",
       "year            0.093197\n",
       "region         -0.011716\n",
       "Name: AveragePrice, dtype: float64"
      ]
     },
     "execution_count": 51,
     "metadata": {},
     "output_type": "execute_result"
    }
   ],
   "source": [
    "data.corr()['AveragePrice']"
   ]
  },
  {
   "cell_type": "markdown",
   "id": "0fdfd66c",
   "metadata": {},
   "source": [
    "Dropping columns which have less relation with target variable"
   ]
  },
  {
   "cell_type": "code",
   "execution_count": 52,
   "id": "39fbd215",
   "metadata": {},
   "outputs": [],
   "source": [
    "data_new=data.drop(columns=['year','region'])"
   ]
  },
  {
   "cell_type": "markdown",
   "id": "37f5fe16",
   "metadata": {},
   "source": [
    "### Dividing the Dataset into dependent and independent variable"
   ]
  },
  {
   "cell_type": "code",
   "execution_count": 53,
   "id": "36a4eff5",
   "metadata": {},
   "outputs": [],
   "source": [
    "x=data_new.drop(columns='AveragePrice')\n",
    "y=data_new['AveragePrice']"
   ]
  },
  {
   "cell_type": "markdown",
   "id": "30cf7c96",
   "metadata": {},
   "source": [
    "### Checking Skewness"
   ]
  },
  {
   "cell_type": "code",
   "execution_count": 54,
   "id": "37d174d4",
   "metadata": {},
   "outputs": [
    {
     "data": {
      "text/plain": [
       "Date             0.000117\n",
       "type             0.000329\n",
       "4046             8.648526\n",
       "4225             8.942760\n",
       "Total Volume     9.007687\n",
       "Small Bags       9.541906\n",
       "Total Bags       9.756195\n",
       "Large Bags       9.818731\n",
       "4770            10.244212\n",
       "XLarge Bags     13.139751\n",
       "dtype: float64"
      ]
     },
     "execution_count": 54,
     "metadata": {},
     "output_type": "execute_result"
    }
   ],
   "source": [
    "x.skew().sort_values()"
   ]
  },
  {
   "cell_type": "markdown",
   "id": "8a863c5b",
   "metadata": {},
   "source": [
    "### Transform data to remove skewness"
   ]
  },
  {
   "cell_type": "code",
   "execution_count": 55,
   "id": "d74d99be",
   "metadata": {},
   "outputs": [],
   "source": [
    "x_new=power_transform(x)"
   ]
  },
  {
   "cell_type": "markdown",
   "id": "1d1cc96b",
   "metadata": {},
   "source": [
    "### Scaling the data"
   ]
  },
  {
   "cell_type": "code",
   "execution_count": 56,
   "id": "46ad3b9c",
   "metadata": {},
   "outputs": [
    {
     "data": {
      "text/plain": [
       "array([[-0.58305373, -0.08660524, -0.71815646, ..., -1.35782954,\n",
       "        -0.69984934, -0.99983562],\n",
       "       [-0.60532524, -0.15574567, -0.84291942, ..., -1.34654313,\n",
       "        -0.69984934, -0.99983562],\n",
       "       [-0.62772182,  0.17932662, -0.79546331, ..., -1.33217115,\n",
       "        -0.69984934, -0.99983562],\n",
       "       ...,\n",
       "       [ 1.40879579, -0.77150535, -0.67734111, ..., -1.55000378,\n",
       "        -0.69984934,  1.00016441],\n",
       "       [ 1.39266926, -0.69807719, -0.60428883, ..., -1.51072759,\n",
       "        -0.69984934,  1.00016441],\n",
       "       [ 1.37651374, -0.66380937, -0.41352391, ..., -1.66025156,\n",
       "        -0.69984934,  1.00016441]])"
      ]
     },
     "execution_count": 56,
     "metadata": {},
     "output_type": "execute_result"
    }
   ],
   "source": [
    "sc=StandardScaler()\n",
    "x_new=sc.fit_transform(x_new)\n",
    "x_new"
   ]
  },
  {
   "cell_type": "markdown",
   "id": "f91c7652",
   "metadata": {},
   "source": [
    "### Checking Multicolinearity using VIF(variance inflation factor)"
   ]
  },
  {
   "cell_type": "code",
   "execution_count": 57,
   "id": "98a119d1",
   "metadata": {},
   "outputs": [
    {
     "data": {
      "text/html": [
       "<div>\n",
       "<style scoped>\n",
       "    .dataframe tbody tr th:only-of-type {\n",
       "        vertical-align: middle;\n",
       "    }\n",
       "\n",
       "    .dataframe tbody tr th {\n",
       "        vertical-align: top;\n",
       "    }\n",
       "\n",
       "    .dataframe thead th {\n",
       "        text-align: right;\n",
       "    }\n",
       "</style>\n",
       "<table border=\"1\" class=\"dataframe\">\n",
       "  <thead>\n",
       "    <tr style=\"text-align: right;\">\n",
       "      <th></th>\n",
       "      <th>vif</th>\n",
       "      <th>features</th>\n",
       "    </tr>\n",
       "  </thead>\n",
       "  <tbody>\n",
       "    <tr>\n",
       "      <th>0</th>\n",
       "      <td>1.301155</td>\n",
       "      <td>Date</td>\n",
       "    </tr>\n",
       "    <tr>\n",
       "      <th>1</th>\n",
       "      <td>33.219372</td>\n",
       "      <td>Total Volume</td>\n",
       "    </tr>\n",
       "    <tr>\n",
       "      <th>2</th>\n",
       "      <td>4.284886</td>\n",
       "      <td>4046</td>\n",
       "    </tr>\n",
       "    <tr>\n",
       "      <th>3</th>\n",
       "      <td>7.839084</td>\n",
       "      <td>4225</td>\n",
       "    </tr>\n",
       "    <tr>\n",
       "      <th>4</th>\n",
       "      <td>1.149378</td>\n",
       "      <td>4770</td>\n",
       "    </tr>\n",
       "    <tr>\n",
       "      <th>5</th>\n",
       "      <td>16.985726</td>\n",
       "      <td>Total Bags</td>\n",
       "    </tr>\n",
       "    <tr>\n",
       "      <th>6</th>\n",
       "      <td>7.895673</td>\n",
       "      <td>Small Bags</td>\n",
       "    </tr>\n",
       "    <tr>\n",
       "      <th>7</th>\n",
       "      <td>1.440955</td>\n",
       "      <td>Large Bags</td>\n",
       "    </tr>\n",
       "    <tr>\n",
       "      <th>8</th>\n",
       "      <td>2.222009</td>\n",
       "      <td>XLarge Bags</td>\n",
       "    </tr>\n",
       "    <tr>\n",
       "      <th>9</th>\n",
       "      <td>3.398676</td>\n",
       "      <td>type</td>\n",
       "    </tr>\n",
       "  </tbody>\n",
       "</table>\n",
       "</div>"
      ],
      "text/plain": [
       "         vif      features\n",
       "0   1.301155          Date\n",
       "1  33.219372  Total Volume\n",
       "2   4.284886          4046\n",
       "3   7.839084          4225\n",
       "4   1.149378          4770\n",
       "5  16.985726    Total Bags\n",
       "6   7.895673    Small Bags\n",
       "7   1.440955    Large Bags\n",
       "8   2.222009   XLarge Bags\n",
       "9   3.398676          type"
      ]
     },
     "execution_count": 57,
     "metadata": {},
     "output_type": "execute_result"
    }
   ],
   "source": [
    "vif=pd.DataFrame()\n",
    "vif['vif']=[variance_inflation_factor(x_new,i)for i in range(x_new.shape[1])]\n",
    "vif['features']=x.columns\n",
    "vif"
   ]
  },
  {
   "cell_type": "code",
   "execution_count": 58,
   "id": "f204b200",
   "metadata": {},
   "outputs": [],
   "source": [
    "x=data_new.drop(columns=['Total Bags'])  # due to multicolinearity exist"
   ]
  },
  {
   "cell_type": "code",
   "execution_count": 59,
   "id": "d4b69cea",
   "metadata": {},
   "outputs": [],
   "source": [
    "x_new=power_transform(x)"
   ]
  },
  {
   "cell_type": "code",
   "execution_count": 60,
   "id": "1009af29",
   "metadata": {},
   "outputs": [
    {
     "data": {
      "text/plain": [
       "array([[-0.58305373, -0.08624822, -0.08660524, ..., -1.35782954,\n",
       "        -0.69984934, -0.99983562],\n",
       "       [-0.60532524, -0.03402196, -0.15574567, ..., -1.34654313,\n",
       "        -0.69984934, -0.99983562],\n",
       "       [-0.62772182, -1.27393796,  0.17932662, ..., -1.33217115,\n",
       "        -0.69984934, -0.99983562],\n",
       "       ...,\n",
       "       [ 1.40879579,  1.14779044, -0.77150535, ..., -1.55000378,\n",
       "        -0.69984934,  1.00016441],\n",
       "       [ 1.39266926,  1.2658763 , -0.69807719, ..., -1.51072759,\n",
       "        -0.69984934,  1.00016441],\n",
       "       [ 1.37651374,  0.61828746, -0.66380937, ..., -1.66025156,\n",
       "        -0.69984934,  1.00016441]])"
      ]
     },
     "execution_count": 60,
     "metadata": {},
     "output_type": "execute_result"
    }
   ],
   "source": [
    "sc=StandardScaler()\n",
    "x_new=sc.fit_transform(x_new)\n",
    "x_new"
   ]
  },
  {
   "cell_type": "code",
   "execution_count": 61,
   "id": "6aa24081",
   "metadata": {},
   "outputs": [
    {
     "data": {
      "text/html": [
       "<div>\n",
       "<style scoped>\n",
       "    .dataframe tbody tr th:only-of-type {\n",
       "        vertical-align: middle;\n",
       "    }\n",
       "\n",
       "    .dataframe tbody tr th {\n",
       "        vertical-align: top;\n",
       "    }\n",
       "\n",
       "    .dataframe thead th {\n",
       "        text-align: right;\n",
       "    }\n",
       "</style>\n",
       "<table border=\"1\" class=\"dataframe\">\n",
       "  <thead>\n",
       "    <tr style=\"text-align: right;\">\n",
       "      <th></th>\n",
       "      <th>vif</th>\n",
       "      <th>features</th>\n",
       "    </tr>\n",
       "  </thead>\n",
       "  <tbody>\n",
       "    <tr>\n",
       "      <th>0</th>\n",
       "      <td>1.242819</td>\n",
       "      <td>Date</td>\n",
       "    </tr>\n",
       "    <tr>\n",
       "      <th>1</th>\n",
       "      <td>2.047734</td>\n",
       "      <td>AveragePrice</td>\n",
       "    </tr>\n",
       "    <tr>\n",
       "      <th>2</th>\n",
       "      <td>23.792451</td>\n",
       "      <td>Total Volume</td>\n",
       "    </tr>\n",
       "    <tr>\n",
       "      <th>3</th>\n",
       "      <td>4.170980</td>\n",
       "      <td>4046</td>\n",
       "    </tr>\n",
       "    <tr>\n",
       "      <th>4</th>\n",
       "      <td>8.186755</td>\n",
       "      <td>4225</td>\n",
       "    </tr>\n",
       "    <tr>\n",
       "      <th>5</th>\n",
       "      <td>1.179186</td>\n",
       "      <td>4770</td>\n",
       "    </tr>\n",
       "    <tr>\n",
       "      <th>6</th>\n",
       "      <td>5.823441</td>\n",
       "      <td>Small Bags</td>\n",
       "    </tr>\n",
       "    <tr>\n",
       "      <th>7</th>\n",
       "      <td>1.364139</td>\n",
       "      <td>Large Bags</td>\n",
       "    </tr>\n",
       "    <tr>\n",
       "      <th>8</th>\n",
       "      <td>2.221142</td>\n",
       "      <td>XLarge Bags</td>\n",
       "    </tr>\n",
       "    <tr>\n",
       "      <th>9</th>\n",
       "      <td>3.747404</td>\n",
       "      <td>type</td>\n",
       "    </tr>\n",
       "  </tbody>\n",
       "</table>\n",
       "</div>"
      ],
      "text/plain": [
       "         vif      features\n",
       "0   1.242819          Date\n",
       "1   2.047734  AveragePrice\n",
       "2  23.792451  Total Volume\n",
       "3   4.170980          4046\n",
       "4   8.186755          4225\n",
       "5   1.179186          4770\n",
       "6   5.823441    Small Bags\n",
       "7   1.364139    Large Bags\n",
       "8   2.221142   XLarge Bags\n",
       "9   3.747404          type"
      ]
     },
     "execution_count": 61,
     "metadata": {},
     "output_type": "execute_result"
    }
   ],
   "source": [
    "vif=pd.DataFrame()\n",
    "vif['vif']=[variance_inflation_factor(x_new,i)for i in range(x_new.shape[1])]\n",
    "vif['features']=x.columns\n",
    "vif"
   ]
  },
  {
   "cell_type": "markdown",
   "id": "5c2ea209",
   "metadata": {},
   "source": [
    "### Finding the best random state"
   ]
  },
  {
   "cell_type": "code",
   "execution_count": 64,
   "id": "9e54490b",
   "metadata": {},
   "outputs": [],
   "source": [
    "from sklearn.linear_model import LinearRegression\n",
    "from sklearn.metrics import r2_score\n",
    "Lr=LinearRegression()"
   ]
  },
  {
   "cell_type": "code",
   "execution_count": 71,
   "id": "73d28e34",
   "metadata": {},
   "outputs": [
    {
     "name": "stdout",
     "output_type": "stream",
     "text": [
      "Max accuracy is  0.9818892754192721 on random state 120\n"
     ]
    }
   ],
   "source": [
    "maxAccu=0\n",
    "maxRS=0\n",
    "for i in range(0,1000):\n",
    "    x_train,x_test,y_train,y_test=train_test_split(x_new,y,test_size=0.25,random_state=i)\n",
    "    Lr.fit(x_train,y_train)\n",
    "    y_pred=Lr.predict(x_test)\n",
    "    accu=r2_score(y_test,y_pred)\n",
    "    if accu>maxAccu:\n",
    "        maxAccu=accu\n",
    "        maxRs=i\n",
    "print('Max accuracy is ',maxAccu,'on random state',maxRs)\n",
    "    "
   ]
  },
  {
   "cell_type": "markdown",
   "id": "b9af196a",
   "metadata": {},
   "source": [
    "### Splitting data Into Training and test data"
   ]
  },
  {
   "cell_type": "code",
   "execution_count": 74,
   "id": "67191522",
   "metadata": {},
   "outputs": [],
   "source": [
    "x_train,x_test,y_train,y_test=train_test_split(x_new,y,test_size=0.25,random_state=120)"
   ]
  },
  {
   "cell_type": "code",
   "execution_count": 75,
   "id": "597fc0b4",
   "metadata": {},
   "outputs": [
    {
     "name": "stdout",
     "output_type": "stream",
     "text": [
      "0.9818892754192721\n"
     ]
    }
   ],
   "source": [
    "Lr.fit(x_train,y_train)\n",
    "y_pred=Lr.predict(x_test)\n",
    "print(r2_score(y_test,y_pred))"
   ]
  },
  {
   "cell_type": "markdown",
   "id": "dc43dc00",
   "metadata": {},
   "source": [
    "### Cross Validation"
   ]
  },
  {
   "cell_type": "code",
   "execution_count": 76,
   "id": "55ca0921",
   "metadata": {},
   "outputs": [
    {
     "name": "stdout",
     "output_type": "stream",
     "text": [
      "0.9425494596501909\n"
     ]
    }
   ],
   "source": [
    "cv_score=cross_val_score(Lr,x_new,y,cv=4)\n",
    "print(cv_score.mean())"
   ]
  },
  {
   "cell_type": "code",
   "execution_count": 77,
   "id": "3e7b7f33",
   "metadata": {},
   "outputs": [
    {
     "data": {
      "image/png": "[encoded data removed]",
      "text/plain": [
       "<Figure size 576x432 with 1 Axes>"
      ]
     },
     "metadata": {
      "needs_background": "light"
     },
     "output_type": "display_data"
    }
   ],
   "source": [
    "plt.figure(figsize=(8,6))\n",
    "plt.scatter(x=y_test,y=y_pred,color='r')\n",
    "plt.plot(y_test,y_test,color='b')\n",
    "plt.xlabel('Actual Wins',fontsize=14)\n",
    "plt.ylabel('Predicted Wins',fontsize=14)\n",
    "plt.title('Linear Regression',fontsize=18)\n",
    "plt.show()"
   ]
  },
  {
   "cell_type": "markdown",
   "id": "de805268",
   "metadata": {},
   "source": [
    "# Regularization"
   ]
  },
  {
   "cell_type": "markdown",
   "id": "bd6d5b5c",
   "metadata": {},
   "source": [
    "### Lasso Regression"
   ]
  },
  {
   "cell_type": "code",
   "execution_count": 78,
   "id": "21e02878",
   "metadata": {},
   "outputs": [
    {
     "name": "stdout",
     "output_type": "stream",
     "text": [
      "{'alpha': 0.0001, 'max_iter': 100, 'normalize': False, 'random_state': 0}\n"
     ]
    }
   ],
   "source": [
    "from sklearn.model_selection import GridSearchCV\n",
    "from sklearn.linear_model import Lasso,Ridge\n",
    "parameters={'alpha':[.0001,.001,.01,.1,1,10],'random_state':list(range(0,10)),'max_iter':[100,200,500,1000],'normalize':[True,False]}\n",
    "ls=Lasso()\n",
    "clf=GridSearchCV(ls,parameters)\n",
    "clf.fit(x_train,y_train)\n",
    "print(clf.best_params_)"
   ]
  },
  {
   "cell_type": "code",
   "execution_count": 79,
   "id": "13409c57",
   "metadata": {},
   "outputs": [
    {
     "data": {
      "text/plain": [
       "Lasso(alpha=0.0001, max_iter=100, random_state=0)"
      ]
     },
     "execution_count": 79,
     "metadata": {},
     "output_type": "execute_result"
    }
   ],
   "source": [
    "ls=Lasso(alpha=0.0001,random_state=0,max_iter=100,normalize=False)\n",
    "ls.fit(x_train,y_train)"
   ]
  },
  {
   "cell_type": "code",
   "execution_count": 80,
   "id": "7f8983ac",
   "metadata": {},
   "outputs": [
    {
     "data": {
      "text/plain": [
       "0.9818987794826682"
      ]
     },
     "execution_count": 80,
     "metadata": {},
     "output_type": "execute_result"
    }
   ],
   "source": [
    "ls_pred=ls.predict(x_test)\n",
    "lss=r2_score(y_test,ls_pred)\n",
    "lss"
   ]
  },
  {
   "cell_type": "code",
   "execution_count": 81,
   "id": "e524d9cc",
   "metadata": {},
   "outputs": [
    {
     "name": "stdout",
     "output_type": "stream",
     "text": [
      "0.943161674311943\n"
     ]
    }
   ],
   "source": [
    "cv_score_Lasso=cross_val_score(ls,x_new,y,cv=4)\n",
    "print(cv_score_Lasso.mean())"
   ]
  },
  {
   "cell_type": "markdown",
   "id": "9e8114d8",
   "metadata": {},
   "source": [
    "### Ridge Regression"
   ]
  },
  {
   "cell_type": "code",
   "execution_count": 82,
   "id": "2a2157fa",
   "metadata": {},
   "outputs": [
    {
     "name": "stdout",
     "output_type": "stream",
     "text": [
      "{'alpha': 1, 'max_iter': 100, 'normalize': False, 'random_state': 0}\n"
     ]
    }
   ],
   "source": [
    "parameters={'alpha':[.0001,.001,.01,.1,1,10],'random_state':list(range(0,10)),'max_iter':[100,200,500,1000],'normalize':[True,False]}\n",
    "Rg=Ridge()\n",
    "clf=GridSearchCV(Rg,parameters)\n",
    "clf.fit(x_train,y_train)\n",
    "print(clf.best_params_)"
   ]
  },
  {
   "cell_type": "code",
   "execution_count": 83,
   "id": "6c9e0f1a",
   "metadata": {},
   "outputs": [
    {
     "data": {
      "text/plain": [
       "Ridge(alpha=1, max_iter=100, random_state=0)"
      ]
     },
     "execution_count": 83,
     "metadata": {},
     "output_type": "execute_result"
    }
   ],
   "source": [
    "Rgg=Ridge(alpha=1,random_state=0,max_iter=100,normalize=False)\n",
    "Rgg.fit(x_train,y_train)"
   ]
  },
  {
   "cell_type": "code",
   "execution_count": 84,
   "id": "c19a7885",
   "metadata": {},
   "outputs": [
    {
     "data": {
      "text/plain": [
       "0.9818907752582774"
      ]
     },
     "execution_count": 84,
     "metadata": {},
     "output_type": "execute_result"
    }
   ],
   "source": [
    "Rg_pred=Rgg.predict(x_test)\n",
    "Rgs=r2_score(y_test,Rg_pred)\n",
    "Rgs"
   ]
  },
  {
   "cell_type": "code",
   "execution_count": 85,
   "id": "b81a9adb",
   "metadata": {},
   "outputs": [
    {
     "name": "stdout",
     "output_type": "stream",
     "text": [
      "0.9425748637946575\n"
     ]
    }
   ],
   "source": [
    "cv_score_ridge=cross_val_score(Rgg,x_new,y,cv=4)\n",
    "print(cv_score_ridge.mean())"
   ]
  },
  {
   "cell_type": "markdown",
   "id": "90f9baee",
   "metadata": {},
   "source": [
    "### Ensemble Technique"
   ]
  },
  {
   "cell_type": "code",
   "execution_count": 86,
   "id": "4c6a6f08",
   "metadata": {},
   "outputs": [
    {
     "data": {
      "text/plain": [
       "GridSearchCV(estimator=RandomForestRegressor(),\n",
       "             param_grid={'criterion': ['mse', 'mae'],\n",
       "                         'max_features': ['auto', 'sqrt', 'log2']})"
      ]
     },
     "execution_count": 86,
     "metadata": {},
     "output_type": "execute_result"
    }
   ],
   "source": [
    "from sklearn.ensemble import RandomForestRegressor\n",
    "parameters={'criterion':['mse','mae'],'max_features':['auto','sqrt','log2']}\n",
    "rf=RandomForestRegressor()\n",
    "clf=GridSearchCV(rf,parameters)\n",
    "clf.fit(x_train,y_train)"
   ]
  },
  {
   "cell_type": "code",
   "execution_count": 87,
   "id": "92f9bdcc",
   "metadata": {},
   "outputs": [
    {
     "name": "stdout",
     "output_type": "stream",
     "text": [
      "{'criterion': 'mse', 'max_features': 'auto'}\n"
     ]
    }
   ],
   "source": [
    "print(clf.best_params_)"
   ]
  },
  {
   "cell_type": "code",
   "execution_count": 89,
   "id": "c5f36287",
   "metadata": {},
   "outputs": [
    {
     "data": {
      "text/plain": [
       "RandomForestRegressor()"
      ]
     },
     "execution_count": 89,
     "metadata": {},
     "output_type": "execute_result"
    }
   ],
   "source": [
    "rf=RandomForestRegressor(criterion='mse',max_features='auto')\n",
    "rf.fit(x_train,y_train)\n"
   ]
  },
  {
   "cell_type": "code",
   "execution_count": 90,
   "id": "858bfbf7",
   "metadata": {},
   "outputs": [
    {
     "data": {
      "text/plain": [
       "0.9999990590710508"
      ]
     },
     "execution_count": 90,
     "metadata": {},
     "output_type": "execute_result"
    }
   ],
   "source": [
    "rf_pred=rf.predict(x_test)\n",
    "rfs=r2_score(y_test,rf_pred)\n",
    "rfs"
   ]
  },
  {
   "cell_type": "code",
   "execution_count": 91,
   "id": "59cb6b2a",
   "metadata": {},
   "outputs": [
    {
     "name": "stdout",
     "output_type": "stream",
     "text": [
      "0.9998531864940735\n"
     ]
    }
   ],
   "source": [
    "cv_score_RF=cross_val_score(rf,x_new,y,cv=4)\n",
    "print(cv_score_RF.mean())"
   ]
  },
  {
   "cell_type": "markdown",
   "id": "e52c9ea0",
   "metadata": {},
   "source": [
    "So the best accuracy is given by Random forest regressor so we choose it our final model"
   ]
  },
  {
   "cell_type": "markdown",
   "id": "2b453484",
   "metadata": {},
   "source": [
    "### Saving the model in pickel"
   ]
  },
  {
   "cell_type": "code",
   "execution_count": 93,
   "id": "c8d42861",
   "metadata": {},
   "outputs": [],
   "source": [
    "import pickle\n",
    "filename='Avocado_regress.pickle'\n",
    "pickle.dump(rf,open(filename,'wb'))"
   ]
  },
  {
   "cell_type": "markdown",
   "id": "9fcedcca",
   "metadata": {},
   "source": [
    "# Documentation"
   ]
  },
  {
   "cell_type": "code",
   "execution_count": null,
   "id": "8997c98c",
   "metadata": {},
   "outputs": [],
   "source": [
    "Import the csv file then seen the data we found lost's of 0 values in the columns so we delt with that.\n",
    "we did not replace 0 values in large bags column since it has more than 70% of 0 values.\n",
    "After that we have seen the column 'Unnamed: 0' which is unnecessary so we removed it from the data set.\n",
    "Then the vizualization of the categorical and continuous data is done and seen lots of skewness in the continuous data that was removed with the power transform function.\n",
    "Then encoding is done with the help of label encoder.\n",
    "Then correlation is checked with the target variable and the columns ['Date','AveragePrice','type','year'] has been removed since they have very less relationship with the target variable.\n",
    "Then we checked for outliers and found that lots of data are the outliers so we didn't remove them as lots of data will be deleted if we remove outliers.\n",
    "After scaling the data we checked for multicollinearity and it is found so we removed ['Total Bags','Small Bags'] columns.\n",
    "After that we trained the model with several algorithms and found Random forest classifier as the best algo for classification problem.\n",
    "All the same above steps are done for regression problem and found Random forest regressor as the best algo for the regression problem.\n",
    "The ROC AUC curve is not made since the classification is not binary, there were several classes.\n",
    "In the last we saved the model."
   ]
  },
  {
   "cell_type": "code",
   "execution_count": null,
   "id": "26516d72",
   "metadata": {},
   "outputs": [],
   "source": []
  }
 ],
 "metadata": {
  "kernelspec": {
   "display_name": "Python 3",
   "language": "python",
   "name": "python3"
  },
  "language_info": {
   "codemirror_mode": {
    "name": "ipython",
    "version": 3
   },
   "file_extension": ".py",
   "mimetype": "text/x-python",
   "name": "python",
   "nbconvert_exporter": "python",
   "pygments_lexer": "ipython3",
   "version": "3.8.8"
  }
 },
 "nbformat": 4,
 "nbformat_minor": 5
}
