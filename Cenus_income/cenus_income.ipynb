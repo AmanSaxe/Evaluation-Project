{
 "cells": [
  {
   "cell_type": "code",
   "execution_count": 1,
   "id": "c78bb5cc",
   "metadata": {},
   "outputs": [],
   "source": [
    "import pandas as pd\n",
    "import numpy as np\n",
    "from sklearn.tree import DecisionTreeClassifier\n",
    "from sklearn.linear_model import LogisticRegression\n",
    "from sklearn.model_selection import train_test_split,GridSearchCV\n",
    "from statsmodels.stats.outliers_influence import variance_inflation_factor\n",
    "from sklearn.preprocessing import StandardScaler\n",
    "from sklearn.metrics import accuracy_score,confusion_matrix,roc_curve,roc_auc_score,classification_report\n",
    "import matplotlib.pyplot as plt\n",
    "import seaborn as sns\n",
    "import warnings\n",
    "warnings.filterwarnings('ignore')"
   ]
  },
  {
   "cell_type": "code",
   "execution_count": 28,
   "id": "3b7701c7",
   "metadata": {},
   "outputs": [
    {
     "data": {
      "text/html": [
       "<div>\n",
       "<style scoped>\n",
       "    .dataframe tbody tr th:only-of-type {\n",
       "        vertical-align: middle;\n",
       "    }\n",
       "\n",
       "    .dataframe tbody tr th {\n",
       "        vertical-align: top;\n",
       "    }\n",
       "\n",
       "    .dataframe thead th {\n",
       "        text-align: right;\n",
       "    }\n",
       "</style>\n",
       "<table border=\"1\" class=\"dataframe\">\n",
       "  <thead>\n",
       "    <tr style=\"text-align: right;\">\n",
       "      <th></th>\n",
       "      <th>Age</th>\n",
       "      <th>Workclass</th>\n",
       "      <th>Fnlwgt</th>\n",
       "      <th>Education</th>\n",
       "      <th>Education_num</th>\n",
       "      <th>Marital_status</th>\n",
       "      <th>Occupation</th>\n",
       "      <th>Relationship</th>\n",
       "      <th>Race</th>\n",
       "      <th>Sex</th>\n",
       "      <th>Capital_gain</th>\n",
       "      <th>Capital_loss</th>\n",
       "      <th>Hours_per_week</th>\n",
       "      <th>Native_country</th>\n",
       "      <th>Income</th>\n",
       "    </tr>\n",
       "  </thead>\n",
       "  <tbody>\n",
       "    <tr>\n",
       "      <th>0</th>\n",
       "      <td>50</td>\n",
       "      <td>Self-emp-not-inc</td>\n",
       "      <td>83311</td>\n",
       "      <td>Bachelors</td>\n",
       "      <td>13</td>\n",
       "      <td>Married-civ-spouse</td>\n",
       "      <td>Exec-managerial</td>\n",
       "      <td>Husband</td>\n",
       "      <td>White</td>\n",
       "      <td>Male</td>\n",
       "      <td>0</td>\n",
       "      <td>0</td>\n",
       "      <td>13</td>\n",
       "      <td>United-States</td>\n",
       "      <td>&lt;=50K</td>\n",
       "    </tr>\n",
       "    <tr>\n",
       "      <th>1</th>\n",
       "      <td>38</td>\n",
       "      <td>Private</td>\n",
       "      <td>215646</td>\n",
       "      <td>HS-grad</td>\n",
       "      <td>9</td>\n",
       "      <td>Divorced</td>\n",
       "      <td>Handlers-cleaners</td>\n",
       "      <td>Not-in-family</td>\n",
       "      <td>White</td>\n",
       "      <td>Male</td>\n",
       "      <td>0</td>\n",
       "      <td>0</td>\n",
       "      <td>40</td>\n",
       "      <td>United-States</td>\n",
       "      <td>&lt;=50K</td>\n",
       "    </tr>\n",
       "    <tr>\n",
       "      <th>2</th>\n",
       "      <td>53</td>\n",
       "      <td>Private</td>\n",
       "      <td>234721</td>\n",
       "      <td>11th</td>\n",
       "      <td>7</td>\n",
       "      <td>Married-civ-spouse</td>\n",
       "      <td>Handlers-cleaners</td>\n",
       "      <td>Husband</td>\n",
       "      <td>Black</td>\n",
       "      <td>Male</td>\n",
       "      <td>0</td>\n",
       "      <td>0</td>\n",
       "      <td>40</td>\n",
       "      <td>United-States</td>\n",
       "      <td>&lt;=50K</td>\n",
       "    </tr>\n",
       "    <tr>\n",
       "      <th>3</th>\n",
       "      <td>28</td>\n",
       "      <td>Private</td>\n",
       "      <td>338409</td>\n",
       "      <td>Bachelors</td>\n",
       "      <td>13</td>\n",
       "      <td>Married-civ-spouse</td>\n",
       "      <td>Prof-specialty</td>\n",
       "      <td>Wife</td>\n",
       "      <td>Black</td>\n",
       "      <td>Female</td>\n",
       "      <td>0</td>\n",
       "      <td>0</td>\n",
       "      <td>40</td>\n",
       "      <td>Cuba</td>\n",
       "      <td>&lt;=50K</td>\n",
       "    </tr>\n",
       "    <tr>\n",
       "      <th>4</th>\n",
       "      <td>37</td>\n",
       "      <td>Private</td>\n",
       "      <td>284582</td>\n",
       "      <td>Masters</td>\n",
       "      <td>14</td>\n",
       "      <td>Married-civ-spouse</td>\n",
       "      <td>Exec-managerial</td>\n",
       "      <td>Wife</td>\n",
       "      <td>White</td>\n",
       "      <td>Female</td>\n",
       "      <td>0</td>\n",
       "      <td>0</td>\n",
       "      <td>40</td>\n",
       "      <td>United-States</td>\n",
       "      <td>&lt;=50K</td>\n",
       "    </tr>\n",
       "    <tr>\n",
       "      <th>...</th>\n",
       "      <td>...</td>\n",
       "      <td>...</td>\n",
       "      <td>...</td>\n",
       "      <td>...</td>\n",
       "      <td>...</td>\n",
       "      <td>...</td>\n",
       "      <td>...</td>\n",
       "      <td>...</td>\n",
       "      <td>...</td>\n",
       "      <td>...</td>\n",
       "      <td>...</td>\n",
       "      <td>...</td>\n",
       "      <td>...</td>\n",
       "      <td>...</td>\n",
       "      <td>...</td>\n",
       "    </tr>\n",
       "    <tr>\n",
       "      <th>32555</th>\n",
       "      <td>27</td>\n",
       "      <td>Private</td>\n",
       "      <td>257302</td>\n",
       "      <td>Assoc-acdm</td>\n",
       "      <td>12</td>\n",
       "      <td>Married-civ-spouse</td>\n",
       "      <td>Tech-support</td>\n",
       "      <td>Wife</td>\n",
       "      <td>White</td>\n",
       "      <td>Female</td>\n",
       "      <td>0</td>\n",
       "      <td>0</td>\n",
       "      <td>38</td>\n",
       "      <td>United-States</td>\n",
       "      <td>&lt;=50K</td>\n",
       "    </tr>\n",
       "    <tr>\n",
       "      <th>32556</th>\n",
       "      <td>40</td>\n",
       "      <td>Private</td>\n",
       "      <td>154374</td>\n",
       "      <td>HS-grad</td>\n",
       "      <td>9</td>\n",
       "      <td>Married-civ-spouse</td>\n",
       "      <td>Machine-op-inspct</td>\n",
       "      <td>Husband</td>\n",
       "      <td>White</td>\n",
       "      <td>Male</td>\n",
       "      <td>0</td>\n",
       "      <td>0</td>\n",
       "      <td>40</td>\n",
       "      <td>United-States</td>\n",
       "      <td>&gt;50K</td>\n",
       "    </tr>\n",
       "    <tr>\n",
       "      <th>32557</th>\n",
       "      <td>58</td>\n",
       "      <td>Private</td>\n",
       "      <td>151910</td>\n",
       "      <td>HS-grad</td>\n",
       "      <td>9</td>\n",
       "      <td>Widowed</td>\n",
       "      <td>Adm-clerical</td>\n",
       "      <td>Unmarried</td>\n",
       "      <td>White</td>\n",
       "      <td>Female</td>\n",
       "      <td>0</td>\n",
       "      <td>0</td>\n",
       "      <td>40</td>\n",
       "      <td>United-States</td>\n",
       "      <td>&lt;=50K</td>\n",
       "    </tr>\n",
       "    <tr>\n",
       "      <th>32558</th>\n",
       "      <td>22</td>\n",
       "      <td>Private</td>\n",
       "      <td>201490</td>\n",
       "      <td>HS-grad</td>\n",
       "      <td>9</td>\n",
       "      <td>Never-married</td>\n",
       "      <td>Adm-clerical</td>\n",
       "      <td>Own-child</td>\n",
       "      <td>White</td>\n",
       "      <td>Male</td>\n",
       "      <td>0</td>\n",
       "      <td>0</td>\n",
       "      <td>20</td>\n",
       "      <td>United-States</td>\n",
       "      <td>&lt;=50K</td>\n",
       "    </tr>\n",
       "    <tr>\n",
       "      <th>32559</th>\n",
       "      <td>52</td>\n",
       "      <td>Self-emp-inc</td>\n",
       "      <td>287927</td>\n",
       "      <td>HS-grad</td>\n",
       "      <td>9</td>\n",
       "      <td>Married-civ-spouse</td>\n",
       "      <td>Exec-managerial</td>\n",
       "      <td>Wife</td>\n",
       "      <td>White</td>\n",
       "      <td>Female</td>\n",
       "      <td>15024</td>\n",
       "      <td>0</td>\n",
       "      <td>40</td>\n",
       "      <td>United-States</td>\n",
       "      <td>&gt;50K</td>\n",
       "    </tr>\n",
       "  </tbody>\n",
       "</table>\n",
       "<p>32560 rows × 15 columns</p>\n",
       "</div>"
      ],
      "text/plain": [
       "       Age          Workclass  Fnlwgt    Education  Education_num  \\\n",
       "0       50   Self-emp-not-inc   83311    Bachelors             13   \n",
       "1       38            Private  215646      HS-grad              9   \n",
       "2       53            Private  234721         11th              7   \n",
       "3       28            Private  338409    Bachelors             13   \n",
       "4       37            Private  284582      Masters             14   \n",
       "...    ...                ...     ...          ...            ...   \n",
       "32555   27            Private  257302   Assoc-acdm             12   \n",
       "32556   40            Private  154374      HS-grad              9   \n",
       "32557   58            Private  151910      HS-grad              9   \n",
       "32558   22            Private  201490      HS-grad              9   \n",
       "32559   52       Self-emp-inc  287927      HS-grad              9   \n",
       "\n",
       "            Marital_status          Occupation    Relationship    Race  \\\n",
       "0       Married-civ-spouse     Exec-managerial         Husband   White   \n",
       "1                 Divorced   Handlers-cleaners   Not-in-family   White   \n",
       "2       Married-civ-spouse   Handlers-cleaners         Husband   Black   \n",
       "3       Married-civ-spouse      Prof-specialty            Wife   Black   \n",
       "4       Married-civ-spouse     Exec-managerial            Wife   White   \n",
       "...                    ...                 ...             ...     ...   \n",
       "32555   Married-civ-spouse        Tech-support            Wife   White   \n",
       "32556   Married-civ-spouse   Machine-op-inspct         Husband   White   \n",
       "32557              Widowed        Adm-clerical       Unmarried   White   \n",
       "32558        Never-married        Adm-clerical       Own-child   White   \n",
       "32559   Married-civ-spouse     Exec-managerial            Wife   White   \n",
       "\n",
       "           Sex  Capital_gain  Capital_loss  Hours_per_week  Native_country  \\\n",
       "0         Male             0             0              13   United-States   \n",
       "1         Male             0             0              40   United-States   \n",
       "2         Male             0             0              40   United-States   \n",
       "3       Female             0             0              40            Cuba   \n",
       "4       Female             0             0              40   United-States   \n",
       "...        ...           ...           ...             ...             ...   \n",
       "32555   Female             0             0              38   United-States   \n",
       "32556     Male             0             0              40   United-States   \n",
       "32557   Female             0             0              40   United-States   \n",
       "32558     Male             0             0              20   United-States   \n",
       "32559   Female         15024             0              40   United-States   \n",
       "\n",
       "       Income  \n",
       "0       <=50K  \n",
       "1       <=50K  \n",
       "2       <=50K  \n",
       "3       <=50K  \n",
       "4       <=50K  \n",
       "...       ...  \n",
       "32555   <=50K  \n",
       "32556    >50K  \n",
       "32557   <=50K  \n",
       "32558   <=50K  \n",
       "32559    >50K  \n",
       "\n",
       "[32560 rows x 15 columns]"
      ]
     },
     "execution_count": 28,
     "metadata": {},
     "output_type": "execute_result"
    }
   ],
   "source": [
    "data=pd.read_csv('census_income.csv')\n",
    "data"
   ]
  },
  {
   "cell_type": "code",
   "execution_count": 29,
   "id": "c8712881",
   "metadata": {},
   "outputs": [
    {
     "data": {
      "text/plain": [
       "(32560, 15)"
      ]
     },
     "execution_count": 29,
     "metadata": {},
     "output_type": "execute_result"
    }
   ],
   "source": [
    "data.shape"
   ]
  },
  {
   "cell_type": "code",
   "execution_count": 30,
   "id": "f0328fff",
   "metadata": {},
   "outputs": [
    {
     "data": {
      "text/plain": [
       "Age                int64\n",
       "Workclass         object\n",
       "Fnlwgt             int64\n",
       "Education         object\n",
       "Education_num      int64\n",
       "Marital_status    object\n",
       "Occupation        object\n",
       "Relationship      object\n",
       "Race              object\n",
       "Sex               object\n",
       "Capital_gain       int64\n",
       "Capital_loss       int64\n",
       "Hours_per_week     int64\n",
       "Native_country    object\n",
       "Income            object\n",
       "dtype: object"
      ]
     },
     "execution_count": 30,
     "metadata": {},
     "output_type": "execute_result"
    }
   ],
   "source": [
    "data.dtypes"
   ]
  },
  {
   "cell_type": "code",
   "execution_count": 31,
   "id": "cc2dd28a",
   "metadata": {},
   "outputs": [
    {
     "data": {
      "text/html": [
       "<div>\n",
       "<style scoped>\n",
       "    .dataframe tbody tr th:only-of-type {\n",
       "        vertical-align: middle;\n",
       "    }\n",
       "\n",
       "    .dataframe tbody tr th {\n",
       "        vertical-align: top;\n",
       "    }\n",
       "\n",
       "    .dataframe thead th {\n",
       "        text-align: right;\n",
       "    }\n",
       "</style>\n",
       "<table border=\"1\" class=\"dataframe\">\n",
       "  <thead>\n",
       "    <tr style=\"text-align: right;\">\n",
       "      <th></th>\n",
       "      <th>Age</th>\n",
       "      <th>Fnlwgt</th>\n",
       "      <th>Education_num</th>\n",
       "      <th>Capital_gain</th>\n",
       "      <th>Capital_loss</th>\n",
       "      <th>Hours_per_week</th>\n",
       "    </tr>\n",
       "  </thead>\n",
       "  <tbody>\n",
       "    <tr>\n",
       "      <th>count</th>\n",
       "      <td>32560.000000</td>\n",
       "      <td>3.256000e+04</td>\n",
       "      <td>32560.000000</td>\n",
       "      <td>32560.000000</td>\n",
       "      <td>32560.000000</td>\n",
       "      <td>32560.000000</td>\n",
       "    </tr>\n",
       "    <tr>\n",
       "      <th>mean</th>\n",
       "      <td>38.581634</td>\n",
       "      <td>1.897818e+05</td>\n",
       "      <td>10.080590</td>\n",
       "      <td>1077.615172</td>\n",
       "      <td>87.306511</td>\n",
       "      <td>40.437469</td>\n",
       "    </tr>\n",
       "    <tr>\n",
       "      <th>std</th>\n",
       "      <td>13.640642</td>\n",
       "      <td>1.055498e+05</td>\n",
       "      <td>2.572709</td>\n",
       "      <td>7385.402999</td>\n",
       "      <td>402.966116</td>\n",
       "      <td>12.347618</td>\n",
       "    </tr>\n",
       "    <tr>\n",
       "      <th>min</th>\n",
       "      <td>17.000000</td>\n",
       "      <td>1.228500e+04</td>\n",
       "      <td>1.000000</td>\n",
       "      <td>0.000000</td>\n",
       "      <td>0.000000</td>\n",
       "      <td>1.000000</td>\n",
       "    </tr>\n",
       "    <tr>\n",
       "      <th>25%</th>\n",
       "      <td>28.000000</td>\n",
       "      <td>1.178315e+05</td>\n",
       "      <td>9.000000</td>\n",
       "      <td>0.000000</td>\n",
       "      <td>0.000000</td>\n",
       "      <td>40.000000</td>\n",
       "    </tr>\n",
       "    <tr>\n",
       "      <th>50%</th>\n",
       "      <td>37.000000</td>\n",
       "      <td>1.783630e+05</td>\n",
       "      <td>10.000000</td>\n",
       "      <td>0.000000</td>\n",
       "      <td>0.000000</td>\n",
       "      <td>40.000000</td>\n",
       "    </tr>\n",
       "    <tr>\n",
       "      <th>75%</th>\n",
       "      <td>48.000000</td>\n",
       "      <td>2.370545e+05</td>\n",
       "      <td>12.000000</td>\n",
       "      <td>0.000000</td>\n",
       "      <td>0.000000</td>\n",
       "      <td>45.000000</td>\n",
       "    </tr>\n",
       "    <tr>\n",
       "      <th>max</th>\n",
       "      <td>90.000000</td>\n",
       "      <td>1.484705e+06</td>\n",
       "      <td>16.000000</td>\n",
       "      <td>99999.000000</td>\n",
       "      <td>4356.000000</td>\n",
       "      <td>99.000000</td>\n",
       "    </tr>\n",
       "  </tbody>\n",
       "</table>\n",
       "</div>"
      ],
      "text/plain": [
       "                Age        Fnlwgt  Education_num  Capital_gain  Capital_loss  \\\n",
       "count  32560.000000  3.256000e+04   32560.000000  32560.000000  32560.000000   \n",
       "mean      38.581634  1.897818e+05      10.080590   1077.615172     87.306511   \n",
       "std       13.640642  1.055498e+05       2.572709   7385.402999    402.966116   \n",
       "min       17.000000  1.228500e+04       1.000000      0.000000      0.000000   \n",
       "25%       28.000000  1.178315e+05       9.000000      0.000000      0.000000   \n",
       "50%       37.000000  1.783630e+05      10.000000      0.000000      0.000000   \n",
       "75%       48.000000  2.370545e+05      12.000000      0.000000      0.000000   \n",
       "max       90.000000  1.484705e+06      16.000000  99999.000000   4356.000000   \n",
       "\n",
       "       Hours_per_week  \n",
       "count    32560.000000  \n",
       "mean        40.437469  \n",
       "std         12.347618  \n",
       "min          1.000000  \n",
       "25%         40.000000  \n",
       "50%         40.000000  \n",
       "75%         45.000000  \n",
       "max         99.000000  "
      ]
     },
     "execution_count": 31,
     "metadata": {},
     "output_type": "execute_result"
    }
   ],
   "source": [
    "data.describe()"
   ]
  },
  {
   "cell_type": "markdown",
   "id": "c06dc97b",
   "metadata": {},
   "source": [
    "#### Checking for null values"
   ]
  },
  {
   "cell_type": "code",
   "execution_count": 32,
   "id": "10b15dc3",
   "metadata": {},
   "outputs": [
    {
     "data": {
      "text/plain": [
       "Age               0\n",
       "Workclass         0\n",
       "Fnlwgt            0\n",
       "Education         0\n",
       "Education_num     0\n",
       "Marital_status    0\n",
       "Occupation        0\n",
       "Relationship      0\n",
       "Race              0\n",
       "Sex               0\n",
       "Capital_gain      0\n",
       "Capital_loss      0\n",
       "Hours_per_week    0\n",
       "Native_country    0\n",
       "Income            0\n",
       "dtype: int64"
      ]
     },
     "execution_count": 32,
     "metadata": {},
     "output_type": "execute_result"
    }
   ],
   "source": [
    "data.isna().sum()"
   ]
  },
  {
   "cell_type": "markdown",
   "id": "50f0e379",
   "metadata": {},
   "source": [
    "#### checking for columns which has 0 values"
   ]
  },
  {
   "cell_type": "code",
   "execution_count": 33,
   "id": "b012e7d9",
   "metadata": {},
   "outputs": [
    {
     "name": "stdout",
     "output_type": "stream",
     "text": [
      "Count of zeros in column  Age  is :  0\n",
      "Count of zeros in column  Workclass  is :  0\n",
      "Count of zeros in column  Fnlwgt  is :  0\n",
      "Count of zeros in column  Education  is :  0\n",
      "Count of zeros in column  Education_num  is :  0\n",
      "Count of zeros in column  Marital_status  is :  0\n",
      "Count of zeros in column  Occupation  is :  0\n",
      "Count of zeros in column  Relationship  is :  0\n",
      "Count of zeros in column  Race  is :  0\n",
      "Count of zeros in column  Sex  is :  0\n",
      "Count of zeros in column  Capital_gain  is :  29849\n",
      "Count of zeros in column  Capital_loss  is :  31041\n",
      "Count of zeros in column  Hours_per_week  is :  0\n",
      "Count of zeros in column  Native_country  is :  0\n",
      "Count of zeros in column  Income  is :  0\n"
     ]
    }
   ],
   "source": [
    "for column_name in data.columns:\n",
    "    column = data[column_name]\n",
    "    # Get the count of Zeros in column \n",
    "    count = (column == 0).sum()\n",
    "    print('Count of zeros in column ', column_name, ' is : ', count)"
   ]
  },
  {
   "cell_type": "markdown",
   "id": "8d73efd9",
   "metadata": {},
   "source": [
    "#### Seperate DataFrame for the categorical columns"
   ]
  },
  {
   "cell_type": "code",
   "execution_count": 34,
   "id": "ef65adcc",
   "metadata": {},
   "outputs": [
    {
     "data": {
      "text/html": [
       "<div>\n",
       "<style scoped>\n",
       "    .dataframe tbody tr th:only-of-type {\n",
       "        vertical-align: middle;\n",
       "    }\n",
       "\n",
       "    .dataframe tbody tr th {\n",
       "        vertical-align: top;\n",
       "    }\n",
       "\n",
       "    .dataframe thead th {\n",
       "        text-align: right;\n",
       "    }\n",
       "</style>\n",
       "<table border=\"1\" class=\"dataframe\">\n",
       "  <thead>\n",
       "    <tr style=\"text-align: right;\">\n",
       "      <th></th>\n",
       "      <th>Workclass</th>\n",
       "      <th>Education</th>\n",
       "      <th>Marital_status</th>\n",
       "      <th>Occupation</th>\n",
       "      <th>Relationship</th>\n",
       "      <th>Race</th>\n",
       "      <th>Sex</th>\n",
       "      <th>Native_country</th>\n",
       "      <th>Income</th>\n",
       "    </tr>\n",
       "  </thead>\n",
       "  <tbody>\n",
       "    <tr>\n",
       "      <th>0</th>\n",
       "      <td>Self-emp-not-inc</td>\n",
       "      <td>Bachelors</td>\n",
       "      <td>Married-civ-spouse</td>\n",
       "      <td>Exec-managerial</td>\n",
       "      <td>Husband</td>\n",
       "      <td>White</td>\n",
       "      <td>Male</td>\n",
       "      <td>United-States</td>\n",
       "      <td>&lt;=50K</td>\n",
       "    </tr>\n",
       "    <tr>\n",
       "      <th>1</th>\n",
       "      <td>Private</td>\n",
       "      <td>HS-grad</td>\n",
       "      <td>Divorced</td>\n",
       "      <td>Handlers-cleaners</td>\n",
       "      <td>Not-in-family</td>\n",
       "      <td>White</td>\n",
       "      <td>Male</td>\n",
       "      <td>United-States</td>\n",
       "      <td>&lt;=50K</td>\n",
       "    </tr>\n",
       "    <tr>\n",
       "      <th>2</th>\n",
       "      <td>Private</td>\n",
       "      <td>11th</td>\n",
       "      <td>Married-civ-spouse</td>\n",
       "      <td>Handlers-cleaners</td>\n",
       "      <td>Husband</td>\n",
       "      <td>Black</td>\n",
       "      <td>Male</td>\n",
       "      <td>United-States</td>\n",
       "      <td>&lt;=50K</td>\n",
       "    </tr>\n",
       "    <tr>\n",
       "      <th>3</th>\n",
       "      <td>Private</td>\n",
       "      <td>Bachelors</td>\n",
       "      <td>Married-civ-spouse</td>\n",
       "      <td>Prof-specialty</td>\n",
       "      <td>Wife</td>\n",
       "      <td>Black</td>\n",
       "      <td>Female</td>\n",
       "      <td>Cuba</td>\n",
       "      <td>&lt;=50K</td>\n",
       "    </tr>\n",
       "    <tr>\n",
       "      <th>4</th>\n",
       "      <td>Private</td>\n",
       "      <td>Masters</td>\n",
       "      <td>Married-civ-spouse</td>\n",
       "      <td>Exec-managerial</td>\n",
       "      <td>Wife</td>\n",
       "      <td>White</td>\n",
       "      <td>Female</td>\n",
       "      <td>United-States</td>\n",
       "      <td>&lt;=50K</td>\n",
       "    </tr>\n",
       "    <tr>\n",
       "      <th>...</th>\n",
       "      <td>...</td>\n",
       "      <td>...</td>\n",
       "      <td>...</td>\n",
       "      <td>...</td>\n",
       "      <td>...</td>\n",
       "      <td>...</td>\n",
       "      <td>...</td>\n",
       "      <td>...</td>\n",
       "      <td>...</td>\n",
       "    </tr>\n",
       "    <tr>\n",
       "      <th>32555</th>\n",
       "      <td>Private</td>\n",
       "      <td>Assoc-acdm</td>\n",
       "      <td>Married-civ-spouse</td>\n",
       "      <td>Tech-support</td>\n",
       "      <td>Wife</td>\n",
       "      <td>White</td>\n",
       "      <td>Female</td>\n",
       "      <td>United-States</td>\n",
       "      <td>&lt;=50K</td>\n",
       "    </tr>\n",
       "    <tr>\n",
       "      <th>32556</th>\n",
       "      <td>Private</td>\n",
       "      <td>HS-grad</td>\n",
       "      <td>Married-civ-spouse</td>\n",
       "      <td>Machine-op-inspct</td>\n",
       "      <td>Husband</td>\n",
       "      <td>White</td>\n",
       "      <td>Male</td>\n",
       "      <td>United-States</td>\n",
       "      <td>&gt;50K</td>\n",
       "    </tr>\n",
       "    <tr>\n",
       "      <th>32557</th>\n",
       "      <td>Private</td>\n",
       "      <td>HS-grad</td>\n",
       "      <td>Widowed</td>\n",
       "      <td>Adm-clerical</td>\n",
       "      <td>Unmarried</td>\n",
       "      <td>White</td>\n",
       "      <td>Female</td>\n",
       "      <td>United-States</td>\n",
       "      <td>&lt;=50K</td>\n",
       "    </tr>\n",
       "    <tr>\n",
       "      <th>32558</th>\n",
       "      <td>Private</td>\n",
       "      <td>HS-grad</td>\n",
       "      <td>Never-married</td>\n",
       "      <td>Adm-clerical</td>\n",
       "      <td>Own-child</td>\n",
       "      <td>White</td>\n",
       "      <td>Male</td>\n",
       "      <td>United-States</td>\n",
       "      <td>&lt;=50K</td>\n",
       "    </tr>\n",
       "    <tr>\n",
       "      <th>32559</th>\n",
       "      <td>Self-emp-inc</td>\n",
       "      <td>HS-grad</td>\n",
       "      <td>Married-civ-spouse</td>\n",
       "      <td>Exec-managerial</td>\n",
       "      <td>Wife</td>\n",
       "      <td>White</td>\n",
       "      <td>Female</td>\n",
       "      <td>United-States</td>\n",
       "      <td>&gt;50K</td>\n",
       "    </tr>\n",
       "  </tbody>\n",
       "</table>\n",
       "<p>32560 rows × 9 columns</p>\n",
       "</div>"
      ],
      "text/plain": [
       "               Workclass    Education       Marital_status  \\\n",
       "0       Self-emp-not-inc    Bachelors   Married-civ-spouse   \n",
       "1                Private      HS-grad             Divorced   \n",
       "2                Private         11th   Married-civ-spouse   \n",
       "3                Private    Bachelors   Married-civ-spouse   \n",
       "4                Private      Masters   Married-civ-spouse   \n",
       "...                  ...          ...                  ...   \n",
       "32555            Private   Assoc-acdm   Married-civ-spouse   \n",
       "32556            Private      HS-grad   Married-civ-spouse   \n",
       "32557            Private      HS-grad              Widowed   \n",
       "32558            Private      HS-grad        Never-married   \n",
       "32559       Self-emp-inc      HS-grad   Married-civ-spouse   \n",
       "\n",
       "               Occupation    Relationship    Race      Sex  Native_country  \\\n",
       "0         Exec-managerial         Husband   White     Male   United-States   \n",
       "1       Handlers-cleaners   Not-in-family   White     Male   United-States   \n",
       "2       Handlers-cleaners         Husband   Black     Male   United-States   \n",
       "3          Prof-specialty            Wife   Black   Female            Cuba   \n",
       "4         Exec-managerial            Wife   White   Female   United-States   \n",
       "...                   ...             ...     ...      ...             ...   \n",
       "32555        Tech-support            Wife   White   Female   United-States   \n",
       "32556   Machine-op-inspct         Husband   White     Male   United-States   \n",
       "32557        Adm-clerical       Unmarried   White   Female   United-States   \n",
       "32558        Adm-clerical       Own-child   White     Male   United-States   \n",
       "32559     Exec-managerial            Wife   White   Female   United-States   \n",
       "\n",
       "       Income  \n",
       "0       <=50K  \n",
       "1       <=50K  \n",
       "2       <=50K  \n",
       "3       <=50K  \n",
       "4       <=50K  \n",
       "...       ...  \n",
       "32555   <=50K  \n",
       "32556    >50K  \n",
       "32557   <=50K  \n",
       "32558   <=50K  \n",
       "32559    >50K  \n",
       "\n",
       "[32560 rows x 9 columns]"
      ]
     },
     "execution_count": 34,
     "metadata": {},
     "output_type": "execute_result"
    }
   ],
   "source": [
    "df_categorical=pd.DataFrame(data[['Workclass','Education','Marital_status','Occupation','Relationship','Race','Sex','Native_country','Income']])\n",
    "df_categorical"
   ]
  },
  {
   "cell_type": "markdown",
   "id": "2b1a38c3",
   "metadata": {},
   "source": [
    "### Visualization of the Categorical columns"
   ]
  },
  {
   "cell_type": "code",
   "execution_count": 35,
   "id": "3309c5e0",
   "metadata": {},
   "outputs": [
    {
     "name": "stdout",
     "output_type": "stream",
     "text": [
      " Private             22696\n",
      " Self-emp-not-inc     2541\n",
      " Local-gov            2093\n",
      " ?                    1836\n",
      " State-gov            1297\n",
      " Self-emp-inc         1116\n",
      " Federal-gov           960\n",
      " Without-pay            14\n",
      " Never-worked            7\n",
      "Name: Workclass, dtype: int64\n"
     ]
    },
    {
     "data": {
      "image/png": "[encoded data removed]",
      "text/plain": [
       "<Figure size 432x288 with 1 Axes>"
      ]
     },
     "metadata": {
      "needs_background": "light"
     },
     "output_type": "display_data"
    }
   ],
   "source": [
    "ax=sns.countplot(x='Workclass',data=df_categorical)\n",
    "print(df_categorical['Workclass'].value_counts())"
   ]
  },
  {
   "cell_type": "code",
   "execution_count": 36,
   "id": "786805c5",
   "metadata": {},
   "outputs": [
    {
     "name": "stdout",
     "output_type": "stream",
     "text": [
      " HS-grad         10501\n",
      " Some-college     7291\n",
      " Bachelors        5354\n",
      " Masters          1723\n",
      " Assoc-voc        1382\n",
      " 11th             1175\n",
      " Assoc-acdm       1067\n",
      " 10th              933\n",
      " 7th-8th           646\n",
      " Prof-school       576\n",
      " 9th               514\n",
      " 12th              433\n",
      " Doctorate         413\n",
      " 5th-6th           333\n",
      " 1st-4th           168\n",
      " Preschool          51\n",
      "Name: Education, dtype: int64\n"
     ]
    },
    {
     "data": {
      "image/png": "[encoded data removed]",
      "text/plain": [
       "<Figure size 432x288 with 1 Axes>"
      ]
     },
     "metadata": {
      "needs_background": "light"
     },
     "output_type": "display_data"
    }
   ],
   "source": [
    "ax=sns.countplot(x='Education',data=df_categorical)\n",
    "print(df_categorical['Education'].value_counts())"
   ]
  },
  {
   "cell_type": "code",
   "execution_count": 37,
   "id": "f98970af",
   "metadata": {},
   "outputs": [
    {
     "name": "stdout",
     "output_type": "stream",
     "text": [
      " Married-civ-spouse       14976\n",
      " Never-married            10682\n",
      " Divorced                  4443\n",
      " Separated                 1025\n",
      " Widowed                    993\n",
      " Married-spouse-absent      418\n",
      " Married-AF-spouse           23\n",
      "Name: Marital_status, dtype: int64\n"
     ]
    },
    {
     "data": {
      "image/png": "[encoded data removed]",
      "text/plain": [
       "<Figure size 432x288 with 1 Axes>"
      ]
     },
     "metadata": {
      "needs_background": "light"
     },
     "output_type": "display_data"
    }
   ],
   "source": [
    "ax=sns.countplot(x='Marital_status',data=df_categorical)\n",
    "print(df_categorical['Marital_status'].value_counts())"
   ]
  },
  {
   "cell_type": "code",
   "execution_count": 38,
   "id": "7952ae58",
   "metadata": {},
   "outputs": [
    {
     "name": "stdout",
     "output_type": "stream",
     "text": [
      " Prof-specialty       4140\n",
      " Craft-repair         4099\n",
      " Exec-managerial      4066\n",
      " Adm-clerical         3769\n",
      " Sales                3650\n",
      " Other-service        3295\n",
      " Machine-op-inspct    2002\n",
      " ?                    1843\n",
      " Transport-moving     1597\n",
      " Handlers-cleaners    1370\n",
      " Farming-fishing       994\n",
      " Tech-support          928\n",
      " Protective-serv       649\n",
      " Priv-house-serv       149\n",
      " Armed-Forces            9\n",
      "Name: Occupation, dtype: int64\n"
     ]
    },
    {
     "data": {
      "image/png": "[encoded data removed]",
      "text/plain": [
       "<Figure size 432x288 with 1 Axes>"
      ]
     },
     "metadata": {
      "needs_background": "light"
     },
     "output_type": "display_data"
    }
   ],
   "source": [
    "ax=sns.countplot(x='Occupation',data=df_categorical)\n",
    "print(df_categorical['Occupation'].value_counts())"
   ]
  },
  {
   "cell_type": "code",
   "execution_count": 39,
   "id": "854c85a5",
   "metadata": {},
   "outputs": [
    {
     "name": "stdout",
     "output_type": "stream",
     "text": [
      " Husband           13193\n",
      " Not-in-family      8304\n",
      " Own-child          5068\n",
      " Unmarried          3446\n",
      " Wife               1568\n",
      " Other-relative      981\n",
      "Name: Relationship, dtype: int64\n"
     ]
    },
    {
     "data": {
      "image/png": "[encoded data removed]",
      "text/plain": [
       "<Figure size 432x288 with 1 Axes>"
      ]
     },
     "metadata": {
      "needs_background": "light"
     },
     "output_type": "display_data"
    }
   ],
   "source": [
    "ax=sns.countplot(x='Relationship',data=df_categorical)\n",
    "print(df_categorical['Relationship'].value_counts())"
   ]
  },
  {
   "cell_type": "code",
   "execution_count": 40,
   "id": "1d5168c2",
   "metadata": {},
   "outputs": [
    {
     "name": "stdout",
     "output_type": "stream",
     "text": [
      " White                 27815\n",
      " Black                  3124\n",
      " Asian-Pac-Islander     1039\n",
      " Amer-Indian-Eskimo      311\n",
      " Other                   271\n",
      "Name: Race, dtype: int64\n"
     ]
    },
    {
     "data": {
      "image/png": "[encoded data removed]",
      "text/plain": [
       "<Figure size 432x288 with 1 Axes>"
      ]
     },
     "metadata": {
      "needs_background": "light"
     },
     "output_type": "display_data"
    }
   ],
   "source": [
    "ax=sns.countplot(x='Race',data=df_categorical)\n",
    "print(df_categorical['Race'].value_counts())"
   ]
  },
  {
   "cell_type": "code",
   "execution_count": 41,
   "id": "4ffd1b61",
   "metadata": {},
   "outputs": [
    {
     "name": "stdout",
     "output_type": "stream",
     "text": [
      " Male      21789\n",
      " Female    10771\n",
      "Name: Sex, dtype: int64\n"
     ]
    },
    {
     "data": {
      "image/png": "[encoded data removed]",
      "text/plain": [
       "<Figure size 432x288 with 1 Axes>"
      ]
     },
     "metadata": {
      "needs_background": "light"
     },
     "output_type": "display_data"
    }
   ],
   "source": [
    "ax=sns.countplot(x='Sex',data=df_categorical)\n",
    "print(df_categorical['Sex'].value_counts())"
   ]
  },
  {
   "cell_type": "code",
   "execution_count": 42,
   "id": "64046883",
   "metadata": {},
   "outputs": [
    {
     "name": "stdout",
     "output_type": "stream",
     "text": [
      " United-States                 29169\n",
      " Mexico                          643\n",
      " ?                               583\n",
      " Philippines                     198\n",
      " Germany                         137\n",
      " Canada                          121\n",
      " Puerto-Rico                     114\n",
      " El-Salvador                     106\n",
      " India                           100\n",
      " Cuba                             95\n",
      " England                          90\n",
      " Jamaica                          81\n",
      " South                            80\n",
      " China                            75\n",
      " Italy                            73\n",
      " Dominican-Republic               70\n",
      " Vietnam                          67\n",
      " Guatemala                        64\n",
      " Japan                            62\n",
      " Poland                           60\n",
      " Columbia                         59\n",
      " Taiwan                           51\n",
      " Haiti                            44\n",
      " Iran                             43\n",
      " Portugal                         37\n",
      " Nicaragua                        34\n",
      " Peru                             31\n",
      " Greece                           29\n",
      " France                           29\n",
      " Ecuador                          28\n",
      " Ireland                          24\n",
      " Hong                             20\n",
      " Cambodia                         19\n",
      " Trinadad&Tobago                  19\n",
      " Laos                             18\n",
      " Thailand                         18\n",
      " Yugoslavia                       16\n",
      " Outlying-US(Guam-USVI-etc)       14\n",
      " Honduras                         13\n",
      " Hungary                          13\n",
      " Scotland                         12\n",
      " Holand-Netherlands                1\n",
      "Name: Native_country, dtype: int64\n"
     ]
    },
    {
     "data": {
      "image/png": "[encoded data removed]",
      "text/plain": [
       "<Figure size 432x288 with 1 Axes>"
      ]
     },
     "metadata": {
      "needs_background": "light"
     },
     "output_type": "display_data"
    }
   ],
   "source": [
    "ax=sns.countplot(x='Native_country',data=df_categorical)\n",
    "print(df_categorical['Native_country'].value_counts())"
   ]
  },
  {
   "cell_type": "code",
   "execution_count": 43,
   "id": "1a91390f",
   "metadata": {},
   "outputs": [
    {
     "name": "stdout",
     "output_type": "stream",
     "text": [
      " <=50K    24719\n",
      " >50K      7841\n",
      "Name: Income, dtype: int64\n"
     ]
    },
    {
     "data": {
      "image/png": "[encoded data removed]",
      "text/plain": [
       "<Figure size 432x288 with 1 Axes>"
      ]
     },
     "metadata": {
      "needs_background": "light"
     },
     "output_type": "display_data"
    }
   ],
   "source": [
    "ax=sns.countplot(x='Income',data=df_categorical)\n",
    "print(df_categorical['Income'].value_counts())"
   ]
  },
  {
   "cell_type": "markdown",
   "id": "850197ac",
   "metadata": {},
   "source": [
    "#### Checking the Distribution of the Continuous data"
   ]
  },
  {
   "cell_type": "code",
   "execution_count": 44,
   "id": "bf820243",
   "metadata": {},
   "outputs": [
    {
     "data": {
      "text/html": [
       "<div>\n",
       "<style scoped>\n",
       "    .dataframe tbody tr th:only-of-type {\n",
       "        vertical-align: middle;\n",
       "    }\n",
       "\n",
       "    .dataframe tbody tr th {\n",
       "        vertical-align: top;\n",
       "    }\n",
       "\n",
       "    .dataframe thead th {\n",
       "        text-align: right;\n",
       "    }\n",
       "</style>\n",
       "<table border=\"1\" class=\"dataframe\">\n",
       "  <thead>\n",
       "    <tr style=\"text-align: right;\">\n",
       "      <th></th>\n",
       "      <th>Age</th>\n",
       "      <th>Fnlwgt</th>\n",
       "      <th>Education_num</th>\n",
       "      <th>Capital_gain</th>\n",
       "      <th>Capital_loss</th>\n",
       "      <th>Hours_per_week</th>\n",
       "    </tr>\n",
       "  </thead>\n",
       "  <tbody>\n",
       "    <tr>\n",
       "      <th>0</th>\n",
       "      <td>50</td>\n",
       "      <td>83311</td>\n",
       "      <td>13</td>\n",
       "      <td>0</td>\n",
       "      <td>0</td>\n",
       "      <td>13</td>\n",
       "    </tr>\n",
       "    <tr>\n",
       "      <th>1</th>\n",
       "      <td>38</td>\n",
       "      <td>215646</td>\n",
       "      <td>9</td>\n",
       "      <td>0</td>\n",
       "      <td>0</td>\n",
       "      <td>40</td>\n",
       "    </tr>\n",
       "    <tr>\n",
       "      <th>2</th>\n",
       "      <td>53</td>\n",
       "      <td>234721</td>\n",
       "      <td>7</td>\n",
       "      <td>0</td>\n",
       "      <td>0</td>\n",
       "      <td>40</td>\n",
       "    </tr>\n",
       "    <tr>\n",
       "      <th>3</th>\n",
       "      <td>28</td>\n",
       "      <td>338409</td>\n",
       "      <td>13</td>\n",
       "      <td>0</td>\n",
       "      <td>0</td>\n",
       "      <td>40</td>\n",
       "    </tr>\n",
       "    <tr>\n",
       "      <th>4</th>\n",
       "      <td>37</td>\n",
       "      <td>284582</td>\n",
       "      <td>14</td>\n",
       "      <td>0</td>\n",
       "      <td>0</td>\n",
       "      <td>40</td>\n",
       "    </tr>\n",
       "    <tr>\n",
       "      <th>...</th>\n",
       "      <td>...</td>\n",
       "      <td>...</td>\n",
       "      <td>...</td>\n",
       "      <td>...</td>\n",
       "      <td>...</td>\n",
       "      <td>...</td>\n",
       "    </tr>\n",
       "    <tr>\n",
       "      <th>32555</th>\n",
       "      <td>27</td>\n",
       "      <td>257302</td>\n",
       "      <td>12</td>\n",
       "      <td>0</td>\n",
       "      <td>0</td>\n",
       "      <td>38</td>\n",
       "    </tr>\n",
       "    <tr>\n",
       "      <th>32556</th>\n",
       "      <td>40</td>\n",
       "      <td>154374</td>\n",
       "      <td>9</td>\n",
       "      <td>0</td>\n",
       "      <td>0</td>\n",
       "      <td>40</td>\n",
       "    </tr>\n",
       "    <tr>\n",
       "      <th>32557</th>\n",
       "      <td>58</td>\n",
       "      <td>151910</td>\n",
       "      <td>9</td>\n",
       "      <td>0</td>\n",
       "      <td>0</td>\n",
       "      <td>40</td>\n",
       "    </tr>\n",
       "    <tr>\n",
       "      <th>32558</th>\n",
       "      <td>22</td>\n",
       "      <td>201490</td>\n",
       "      <td>9</td>\n",
       "      <td>0</td>\n",
       "      <td>0</td>\n",
       "      <td>20</td>\n",
       "    </tr>\n",
       "    <tr>\n",
       "      <th>32559</th>\n",
       "      <td>52</td>\n",
       "      <td>287927</td>\n",
       "      <td>9</td>\n",
       "      <td>15024</td>\n",
       "      <td>0</td>\n",
       "      <td>40</td>\n",
       "    </tr>\n",
       "  </tbody>\n",
       "</table>\n",
       "<p>32560 rows × 6 columns</p>\n",
       "</div>"
      ],
      "text/plain": [
       "       Age  Fnlwgt  Education_num  Capital_gain  Capital_loss  Hours_per_week\n",
       "0       50   83311             13             0             0              13\n",
       "1       38  215646              9             0             0              40\n",
       "2       53  234721              7             0             0              40\n",
       "3       28  338409             13             0             0              40\n",
       "4       37  284582             14             0             0              40\n",
       "...    ...     ...            ...           ...           ...             ...\n",
       "32555   27  257302             12             0             0              38\n",
       "32556   40  154374              9             0             0              40\n",
       "32557   58  151910              9             0             0              40\n",
       "32558   22  201490              9             0             0              20\n",
       "32559   52  287927              9         15024             0              40\n",
       "\n",
       "[32560 rows x 6 columns]"
      ]
     },
     "execution_count": 44,
     "metadata": {},
     "output_type": "execute_result"
    }
   ],
   "source": [
    "df_continuous=data.drop(columns=['Workclass','Education','Marital_status','Occupation','Relationship','Race','Sex','Native_country','Income'])\n",
    "df_continuous"
   ]
  },
  {
   "cell_type": "code",
   "execution_count": 45,
   "id": "d46eaa8a",
   "metadata": {},
   "outputs": [
    {
     "data": {
      "image/png": "[encoded data removed]",
      "text/plain": [
       "<Figure size 1440x1440 with 6 Axes>"
      ]
     },
     "metadata": {
      "needs_background": "light"
     },
     "output_type": "display_data"
    }
   ],
   "source": [
    "plt.figure(figsize=(20,20))\n",
    "plotnumber=1\n",
    "for column in df_continuous:\n",
    "    if plotnumber<=25:\n",
    "        ax=plt.subplot(3,3,plotnumber)\n",
    "        sns.distplot(df_continuous[column])\n",
    "        plt.xlabel(column,fontsize=20)\n",
    "    plotnumber+=1\n",
    "plt.show()"
   ]
  },
  {
   "cell_type": "markdown",
   "id": "73c3567e",
   "metadata": {},
   "source": [
    "### Encoding of the Dataset"
   ]
  },
  {
   "cell_type": "code",
   "execution_count": 46,
   "id": "ae617d9a",
   "metadata": {},
   "outputs": [],
   "source": [
    "from sklearn.preprocessing import LabelEncoder\n",
    "enc=LabelEncoder()\n",
    "for i in data.columns:\n",
    "    if data[i].dtypes==\"object\":\n",
    "        data[i]=enc.fit_transform(data[i].values.reshape(-1,1))"
   ]
  },
  {
   "cell_type": "markdown",
   "id": "dc0af7ce",
   "metadata": {},
   "source": [
    "### Checking the correlation"
   ]
  },
  {
   "cell_type": "code",
   "execution_count": 47,
   "id": "8c8cdcf0",
   "metadata": {},
   "outputs": [
    {
     "data": {
      "text/plain": [
       "Age               0.234039\n",
       "Workclass         0.051645\n",
       "Fnlwgt           -0.009481\n",
       "Education         0.079311\n",
       "Education_num     0.335182\n",
       "Marital_status   -0.199295\n",
       "Occupation        0.075448\n",
       "Relationship     -0.250924\n",
       "Race              0.071853\n",
       "Sex               0.215995\n",
       "Capital_gain      0.223333\n",
       "Capital_loss      0.150523\n",
       "Hours_per_week    0.229690\n",
       "Native_country    0.015845\n",
       "Income            1.000000\n",
       "Name: Income, dtype: float64"
      ]
     },
     "execution_count": 47,
     "metadata": {},
     "output_type": "execute_result"
    }
   ],
   "source": [
    "data.corr()['Income']"
   ]
  },
  {
   "cell_type": "code",
   "execution_count": 48,
   "id": "ff15b725",
   "metadata": {},
   "outputs": [
    {
     "data": {
      "image/png": "[encoded data removed]",
      "text/plain": [
       "<Figure size 1440x1440 with 2 Axes>"
      ]
     },
     "metadata": {
      "needs_background": "light"
     },
     "output_type": "display_data"
    }
   ],
   "source": [
    "plt.figure(figsize=(20,20))\n",
    "sns.heatmap(data.corr(),annot=True)\n",
    "plt.show()"
   ]
  },
  {
   "cell_type": "markdown",
   "id": "5df3f5a4",
   "metadata": {},
   "source": [
    "#### Dropping columns which has less relationship"
   ]
  },
  {
   "cell_type": "code",
   "execution_count": 49,
   "id": "7111aed5",
   "metadata": {},
   "outputs": [],
   "source": [
    "data_new=data.drop(columns=['Fnlwgt','Native_country'])"
   ]
  },
  {
   "cell_type": "markdown",
   "id": "6c1284f8",
   "metadata": {},
   "source": [
    "### Checking for outliers using boxplot"
   ]
  },
  {
   "cell_type": "code",
   "execution_count": 50,
   "id": "e3543bda",
   "metadata": {},
   "outputs": [
    {
     "data": {
      "image/png": "[encoded data removed]",
      "text/plain": [
       "<Figure size 1440x1440 with 13 Axes>"
      ]
     },
     "metadata": {
      "needs_background": "light"
     },
     "output_type": "display_data"
    }
   ],
   "source": [
    "plt.figure(figsize=(20,20))\n",
    "plotnumber=1\n",
    "for column in data_new:\n",
    "    if plotnumber<=20:\n",
    "        ax=plt.subplot(5,4,plotnumber)\n",
    "        sns.boxplot(data=data_new[column],orient='v')\n",
    "        plt.xlabel(column,fontsize=20)\n",
    "    plotnumber+=1\n",
    "plt.show()"
   ]
  },
  {
   "cell_type": "markdown",
   "id": "70258bde",
   "metadata": {},
   "source": [
    "We are not removing the outliers since they are present in categorical column and some are possible outcomes"
   ]
  },
  {
   "cell_type": "markdown",
   "id": "4d9357bf",
   "metadata": {},
   "source": [
    "### Dividing the Dataset into dependent and independent variable"
   ]
  },
  {
   "cell_type": "code",
   "execution_count": 51,
   "id": "14ebeeda",
   "metadata": {},
   "outputs": [],
   "source": [
    "x=data_new.drop(columns='Income')\n",
    "y=data_new['Income']"
   ]
  },
  {
   "cell_type": "code",
   "execution_count": 52,
   "id": "a2dfbfb1",
   "metadata": {},
   "outputs": [
    {
     "data": {
      "text/html": [
       "<div>\n",
       "<style scoped>\n",
       "    .dataframe tbody tr th:only-of-type {\n",
       "        vertical-align: middle;\n",
       "    }\n",
       "\n",
       "    .dataframe tbody tr th {\n",
       "        vertical-align: top;\n",
       "    }\n",
       "\n",
       "    .dataframe thead th {\n",
       "        text-align: right;\n",
       "    }\n",
       "</style>\n",
       "<table border=\"1\" class=\"dataframe\">\n",
       "  <thead>\n",
       "    <tr style=\"text-align: right;\">\n",
       "      <th></th>\n",
       "      <th>Age</th>\n",
       "      <th>Workclass</th>\n",
       "      <th>Education</th>\n",
       "      <th>Education_num</th>\n",
       "      <th>Marital_status</th>\n",
       "      <th>Occupation</th>\n",
       "      <th>Relationship</th>\n",
       "      <th>Race</th>\n",
       "      <th>Sex</th>\n",
       "      <th>Capital_gain</th>\n",
       "      <th>Capital_loss</th>\n",
       "      <th>Hours_per_week</th>\n",
       "    </tr>\n",
       "  </thead>\n",
       "  <tbody>\n",
       "    <tr>\n",
       "      <th>0</th>\n",
       "      <td>50</td>\n",
       "      <td>6</td>\n",
       "      <td>9</td>\n",
       "      <td>13</td>\n",
       "      <td>2</td>\n",
       "      <td>4</td>\n",
       "      <td>0</td>\n",
       "      <td>4</td>\n",
       "      <td>1</td>\n",
       "      <td>0</td>\n",
       "      <td>0</td>\n",
       "      <td>13</td>\n",
       "    </tr>\n",
       "    <tr>\n",
       "      <th>1</th>\n",
       "      <td>38</td>\n",
       "      <td>4</td>\n",
       "      <td>11</td>\n",
       "      <td>9</td>\n",
       "      <td>0</td>\n",
       "      <td>6</td>\n",
       "      <td>1</td>\n",
       "      <td>4</td>\n",
       "      <td>1</td>\n",
       "      <td>0</td>\n",
       "      <td>0</td>\n",
       "      <td>40</td>\n",
       "    </tr>\n",
       "    <tr>\n",
       "      <th>2</th>\n",
       "      <td>53</td>\n",
       "      <td>4</td>\n",
       "      <td>1</td>\n",
       "      <td>7</td>\n",
       "      <td>2</td>\n",
       "      <td>6</td>\n",
       "      <td>0</td>\n",
       "      <td>2</td>\n",
       "      <td>1</td>\n",
       "      <td>0</td>\n",
       "      <td>0</td>\n",
       "      <td>40</td>\n",
       "    </tr>\n",
       "    <tr>\n",
       "      <th>3</th>\n",
       "      <td>28</td>\n",
       "      <td>4</td>\n",
       "      <td>9</td>\n",
       "      <td>13</td>\n",
       "      <td>2</td>\n",
       "      <td>10</td>\n",
       "      <td>5</td>\n",
       "      <td>2</td>\n",
       "      <td>0</td>\n",
       "      <td>0</td>\n",
       "      <td>0</td>\n",
       "      <td>40</td>\n",
       "    </tr>\n",
       "    <tr>\n",
       "      <th>4</th>\n",
       "      <td>37</td>\n",
       "      <td>4</td>\n",
       "      <td>12</td>\n",
       "      <td>14</td>\n",
       "      <td>2</td>\n",
       "      <td>4</td>\n",
       "      <td>5</td>\n",
       "      <td>4</td>\n",
       "      <td>0</td>\n",
       "      <td>0</td>\n",
       "      <td>0</td>\n",
       "      <td>40</td>\n",
       "    </tr>\n",
       "    <tr>\n",
       "      <th>...</th>\n",
       "      <td>...</td>\n",
       "      <td>...</td>\n",
       "      <td>...</td>\n",
       "      <td>...</td>\n",
       "      <td>...</td>\n",
       "      <td>...</td>\n",
       "      <td>...</td>\n",
       "      <td>...</td>\n",
       "      <td>...</td>\n",
       "      <td>...</td>\n",
       "      <td>...</td>\n",
       "      <td>...</td>\n",
       "    </tr>\n",
       "    <tr>\n",
       "      <th>32555</th>\n",
       "      <td>27</td>\n",
       "      <td>4</td>\n",
       "      <td>7</td>\n",
       "      <td>12</td>\n",
       "      <td>2</td>\n",
       "      <td>13</td>\n",
       "      <td>5</td>\n",
       "      <td>4</td>\n",
       "      <td>0</td>\n",
       "      <td>0</td>\n",
       "      <td>0</td>\n",
       "      <td>38</td>\n",
       "    </tr>\n",
       "    <tr>\n",
       "      <th>32556</th>\n",
       "      <td>40</td>\n",
       "      <td>4</td>\n",
       "      <td>11</td>\n",
       "      <td>9</td>\n",
       "      <td>2</td>\n",
       "      <td>7</td>\n",
       "      <td>0</td>\n",
       "      <td>4</td>\n",
       "      <td>1</td>\n",
       "      <td>0</td>\n",
       "      <td>0</td>\n",
       "      <td>40</td>\n",
       "    </tr>\n",
       "    <tr>\n",
       "      <th>32557</th>\n",
       "      <td>58</td>\n",
       "      <td>4</td>\n",
       "      <td>11</td>\n",
       "      <td>9</td>\n",
       "      <td>6</td>\n",
       "      <td>1</td>\n",
       "      <td>4</td>\n",
       "      <td>4</td>\n",
       "      <td>0</td>\n",
       "      <td>0</td>\n",
       "      <td>0</td>\n",
       "      <td>40</td>\n",
       "    </tr>\n",
       "    <tr>\n",
       "      <th>32558</th>\n",
       "      <td>22</td>\n",
       "      <td>4</td>\n",
       "      <td>11</td>\n",
       "      <td>9</td>\n",
       "      <td>4</td>\n",
       "      <td>1</td>\n",
       "      <td>3</td>\n",
       "      <td>4</td>\n",
       "      <td>1</td>\n",
       "      <td>0</td>\n",
       "      <td>0</td>\n",
       "      <td>20</td>\n",
       "    </tr>\n",
       "    <tr>\n",
       "      <th>32559</th>\n",
       "      <td>52</td>\n",
       "      <td>5</td>\n",
       "      <td>11</td>\n",
       "      <td>9</td>\n",
       "      <td>2</td>\n",
       "      <td>4</td>\n",
       "      <td>5</td>\n",
       "      <td>4</td>\n",
       "      <td>0</td>\n",
       "      <td>15024</td>\n",
       "      <td>0</td>\n",
       "      <td>40</td>\n",
       "    </tr>\n",
       "  </tbody>\n",
       "</table>\n",
       "<p>32560 rows × 12 columns</p>\n",
       "</div>"
      ],
      "text/plain": [
       "       Age  Workclass  Education  Education_num  Marital_status  Occupation  \\\n",
       "0       50          6          9             13               2           4   \n",
       "1       38          4         11              9               0           6   \n",
       "2       53          4          1              7               2           6   \n",
       "3       28          4          9             13               2          10   \n",
       "4       37          4         12             14               2           4   \n",
       "...    ...        ...        ...            ...             ...         ...   \n",
       "32555   27          4          7             12               2          13   \n",
       "32556   40          4         11              9               2           7   \n",
       "32557   58          4         11              9               6           1   \n",
       "32558   22          4         11              9               4           1   \n",
       "32559   52          5         11              9               2           4   \n",
       "\n",
       "       Relationship  Race  Sex  Capital_gain  Capital_loss  Hours_per_week  \n",
       "0                 0     4    1             0             0              13  \n",
       "1                 1     4    1             0             0              40  \n",
       "2                 0     2    1             0             0              40  \n",
       "3                 5     2    0             0             0              40  \n",
       "4                 5     4    0             0             0              40  \n",
       "...             ...   ...  ...           ...           ...             ...  \n",
       "32555             5     4    0             0             0              38  \n",
       "32556             0     4    1             0             0              40  \n",
       "32557             4     4    0             0             0              40  \n",
       "32558             3     4    1             0             0              20  \n",
       "32559             5     4    0         15024             0              40  \n",
       "\n",
       "[32560 rows x 12 columns]"
      ]
     },
     "execution_count": 52,
     "metadata": {},
     "output_type": "execute_result"
    }
   ],
   "source": [
    "x"
   ]
  },
  {
   "cell_type": "code",
   "execution_count": 53,
   "id": "1f13965e",
   "metadata": {},
   "outputs": [
    {
     "data": {
      "text/plain": [
       "0        0\n",
       "1        0\n",
       "2        0\n",
       "3        0\n",
       "4        0\n",
       "        ..\n",
       "32555    0\n",
       "32556    1\n",
       "32557    0\n",
       "32558    0\n",
       "32559    1\n",
       "Name: Income, Length: 32560, dtype: int32"
      ]
     },
     "execution_count": 53,
     "metadata": {},
     "output_type": "execute_result"
    }
   ],
   "source": [
    "y"
   ]
  },
  {
   "cell_type": "markdown",
   "id": "00971578",
   "metadata": {},
   "source": [
    "### Checking Skewness"
   ]
  },
  {
   "cell_type": "code",
   "execution_count": 54,
   "id": "de8c7e02",
   "metadata": {},
   "outputs": [
    {
     "data": {
      "text/plain": [
       "Race              -2.435332\n",
       "Education         -0.934063\n",
       "Workclass         -0.752280\n",
       "Sex               -0.719244\n",
       "Education_num     -0.311630\n",
       "Marital_status    -0.013448\n",
       "Occupation         0.114540\n",
       "Hours_per_week     0.227636\n",
       "Age                0.558738\n",
       "Relationship       0.786784\n",
       "Capital_loss       4.594549\n",
       "Capital_gain      11.953690\n",
       "dtype: float64"
      ]
     },
     "execution_count": 54,
     "metadata": {},
     "output_type": "execute_result"
    }
   ],
   "source": [
    "x.skew().sort_values()"
   ]
  },
  {
   "cell_type": "markdown",
   "id": "161e1c78",
   "metadata": {},
   "source": [
    "### Transform data to remove skewness"
   ]
  },
  {
   "cell_type": "code",
   "execution_count": 55,
   "id": "e1a03b46",
   "metadata": {},
   "outputs": [],
   "source": [
    "from sklearn.preprocessing import power_transform\n",
    "x_new=power_transform(x)"
   ]
  },
  {
   "cell_type": "markdown",
   "id": "e32df554",
   "metadata": {},
   "source": [
    "### Scaling the data"
   ]
  },
  {
   "cell_type": "code",
   "execution_count": 56,
   "id": "a1a1c1c6",
   "metadata": {},
   "outputs": [
    {
     "data": {
      "text/plain": [
       "array([[ 0.89194656,  1.64422286, -0.47701209, ..., -0.30136989,\n",
       "        -0.2212132 , -2.22151541],\n",
       "       [ 0.10271741,  0.01186427,  0.09048172, ..., -0.30136989,\n",
       "        -0.2212132 , -0.03557001],\n",
       "       [ 1.06438077,  0.01186427, -2.06759959, ..., -0.30136989,\n",
       "        -0.2212132 , -0.03557001],\n",
       "       ...,\n",
       "       [ 1.33455599,  0.01186427,  0.09048172, ..., -0.30136989,\n",
       "        -0.2212132 , -0.03557001],\n",
       "       [-1.35834147,  0.01186427,  0.09048172, ..., -0.30136989,\n",
       "        -0.2212132 , -1.65499204],\n",
       "       [ 1.00782289,  0.79430139,  0.09048172, ...,  3.31823374,\n",
       "        -0.2212132 , -0.03557001]])"
      ]
     },
     "execution_count": 56,
     "metadata": {},
     "output_type": "execute_result"
    }
   ],
   "source": [
    "sc=StandardScaler()\n",
    "x_new=sc.fit_transform(x_new)\n",
    "x_new"
   ]
  },
  {
   "cell_type": "markdown",
   "id": "a76ed185",
   "metadata": {},
   "source": [
    "### Checking Multicolinearity using VIF(variance inflation factor)"
   ]
  },
  {
   "cell_type": "code",
   "execution_count": 57,
   "id": "fbddd704",
   "metadata": {},
   "outputs": [
    {
     "data": {
      "text/html": [
       "<div>\n",
       "<style scoped>\n",
       "    .dataframe tbody tr th:only-of-type {\n",
       "        vertical-align: middle;\n",
       "    }\n",
       "\n",
       "    .dataframe tbody tr th {\n",
       "        vertical-align: top;\n",
       "    }\n",
       "\n",
       "    .dataframe thead th {\n",
       "        text-align: right;\n",
       "    }\n",
       "</style>\n",
       "<table border=\"1\" class=\"dataframe\">\n",
       "  <thead>\n",
       "    <tr style=\"text-align: right;\">\n",
       "      <th></th>\n",
       "      <th>vif</th>\n",
       "      <th>features</th>\n",
       "    </tr>\n",
       "  </thead>\n",
       "  <tbody>\n",
       "    <tr>\n",
       "      <th>0</th>\n",
       "      <td>1.260517</td>\n",
       "      <td>Age</td>\n",
       "    </tr>\n",
       "    <tr>\n",
       "      <th>1</th>\n",
       "      <td>1.092198</td>\n",
       "      <td>Workclass</td>\n",
       "    </tr>\n",
       "    <tr>\n",
       "      <th>2</th>\n",
       "      <td>1.088208</td>\n",
       "      <td>Education</td>\n",
       "    </tr>\n",
       "    <tr>\n",
       "      <th>3</th>\n",
       "      <td>1.151534</td>\n",
       "      <td>Education_num</td>\n",
       "    </tr>\n",
       "    <tr>\n",
       "      <th>4</th>\n",
       "      <td>1.167982</td>\n",
       "      <td>Marital_status</td>\n",
       "    </tr>\n",
       "    <tr>\n",
       "      <th>5</th>\n",
       "      <td>1.098571</td>\n",
       "      <td>Occupation</td>\n",
       "    </tr>\n",
       "    <tr>\n",
       "      <th>6</th>\n",
       "      <td>1.933906</td>\n",
       "      <td>Relationship</td>\n",
       "    </tr>\n",
       "    <tr>\n",
       "      <th>7</th>\n",
       "      <td>1.026411</td>\n",
       "      <td>Race</td>\n",
       "    </tr>\n",
       "    <tr>\n",
       "      <th>8</th>\n",
       "      <td>1.649566</td>\n",
       "      <td>Sex</td>\n",
       "    </tr>\n",
       "    <tr>\n",
       "      <th>9</th>\n",
       "      <td>1.041201</td>\n",
       "      <td>Capital_gain</td>\n",
       "    </tr>\n",
       "    <tr>\n",
       "      <th>10</th>\n",
       "      <td>1.019623</td>\n",
       "      <td>Capital_loss</td>\n",
       "    </tr>\n",
       "    <tr>\n",
       "      <th>11</th>\n",
       "      <td>1.138569</td>\n",
       "      <td>Hours_per_week</td>\n",
       "    </tr>\n",
       "  </tbody>\n",
       "</table>\n",
       "</div>"
      ],
      "text/plain": [
       "         vif        features\n",
       "0   1.260517             Age\n",
       "1   1.092198       Workclass\n",
       "2   1.088208       Education\n",
       "3   1.151534   Education_num\n",
       "4   1.167982  Marital_status\n",
       "5   1.098571      Occupation\n",
       "6   1.933906    Relationship\n",
       "7   1.026411            Race\n",
       "8   1.649566             Sex\n",
       "9   1.041201    Capital_gain\n",
       "10  1.019623    Capital_loss\n",
       "11  1.138569  Hours_per_week"
      ]
     },
     "execution_count": 57,
     "metadata": {},
     "output_type": "execute_result"
    }
   ],
   "source": [
    "vif=pd.DataFrame()\n",
    "vif['vif']=[variance_inflation_factor(x_new,i)for i in range(x_new.shape[1])]\n",
    "vif['features']=x.columns\n",
    "vif"
   ]
  },
  {
   "cell_type": "markdown",
   "id": "52522c7c",
   "metadata": {},
   "source": [
    "All the VIF values are less than 5 and are very low.That means no multicollinearity."
   ]
  },
  {
   "cell_type": "markdown",
   "id": "c323b736",
   "metadata": {},
   "source": [
    "### Finding the best random state"
   ]
  },
  {
   "cell_type": "code",
   "execution_count": 58,
   "id": "472bb62e",
   "metadata": {},
   "outputs": [
    {
     "name": "stdout",
     "output_type": "stream",
     "text": [
      "Max Accuracy is 0.8356265356265357 on Random State  109\n"
     ]
    }
   ],
   "source": [
    "maxAccu=0 #maximum accuracy\n",
    "maxRS=0  # best random state value for which max accuracy is achieved\n",
    "for i in range(1,1000):\n",
    "    x_train,x_test,y_train,y_test=train_test_split(x_new,y,test_size=0.25,random_state=i)\n",
    "    LR=LogisticRegression()\n",
    "    LR.fit(x_train,y_train)\n",
    "    pred=LR.predict(x_test)\n",
    "    acc=accuracy_score(y_test,pred)\n",
    "    if acc>maxAccu:\n",
    "        maxAccu=acc\n",
    "        maxRS=i\n",
    "print('Max Accuracy is',maxAccu,'on Random State ',maxRS)"
   ]
  },
  {
   "cell_type": "markdown",
   "id": "cfce35ac",
   "metadata": {},
   "source": [
    "### Splitting data Into Training and test data"
   ]
  },
  {
   "cell_type": "code",
   "execution_count": 59,
   "id": "afa9d95d",
   "metadata": {},
   "outputs": [],
   "source": [
    "x_train,x_test,y_train,y_test=train_test_split(x_new,y,test_size=0.25,random_state=109)"
   ]
  },
  {
   "cell_type": "markdown",
   "id": "0a912c32",
   "metadata": {},
   "source": [
    "### Logistic Regression"
   ]
  },
  {
   "cell_type": "code",
   "execution_count": 60,
   "id": "5a671105",
   "metadata": {},
   "outputs": [
    {
     "name": "stdout",
     "output_type": "stream",
     "text": [
      "83.56265356265357\n",
      "[[5180 1099]\n",
      " [1563  298]]\n",
      "              precision    recall  f1-score   support\n",
      "\n",
      "           0       0.77      0.82      0.80      6279\n",
      "           1       0.21      0.16      0.18      1861\n",
      "\n",
      "    accuracy                           0.67      8140\n",
      "   macro avg       0.49      0.49      0.49      8140\n",
      "weighted avg       0.64      0.67      0.66      8140\n",
      "\n"
     ]
    }
   ],
   "source": [
    "LR=LogisticRegression()\n",
    "LR.fit(x_train,y_train)\n",
    "y_pred=LR.predict(x_test)\n",
    "accuracy=accuracy_score(y_test,y_pred)\n",
    "print(accuracy*100)\n",
    "print(confusion_matrix(y_test,pred))\n",
    "print(classification_report(y_test,pred))"
   ]
  },
  {
   "cell_type": "markdown",
   "id": "975eb3e8",
   "metadata": {},
   "source": [
    "### Decision Tree Classifier"
   ]
  },
  {
   "cell_type": "code",
   "execution_count": 61,
   "id": "06336bdc",
   "metadata": {},
   "outputs": [
    {
     "name": "stdout",
     "output_type": "stream",
     "text": [
      "Accuracy  81.60933660933661\n",
      "[[5541  738]\n",
      " [ 759 1102]]\n",
      "              precision    recall  f1-score   support\n",
      "\n",
      "           0       0.88      0.88      0.88      6279\n",
      "           1       0.60      0.59      0.60      1861\n",
      "\n",
      "    accuracy                           0.82      8140\n",
      "   macro avg       0.74      0.74      0.74      8140\n",
      "weighted avg       0.82      0.82      0.82      8140\n",
      "\n"
     ]
    }
   ],
   "source": [
    "from sklearn.tree import DecisionTreeClassifier\n",
    "DT=DecisionTreeClassifier()\n",
    "DT.fit(x_train,y_train)\n",
    "pred=DT.predict(x_test)\n",
    "print('Accuracy ',accuracy_score(y_test,pred)*100)\n",
    "print(confusion_matrix(y_test,pred))\n",
    "print(classification_report(y_test,pred))"
   ]
  },
  {
   "cell_type": "markdown",
   "id": "51855873",
   "metadata": {},
   "source": [
    "### Random Forest Classifier"
   ]
  },
  {
   "cell_type": "code",
   "execution_count": 62,
   "id": "d25feacc",
   "metadata": {},
   "outputs": [
    {
     "name": "stdout",
     "output_type": "stream",
     "text": [
      "Accuracy  85.18427518427518\n",
      "[[5766  513]\n",
      " [ 693 1168]]\n",
      "              precision    recall  f1-score   support\n",
      "\n",
      "           0       0.89      0.92      0.91      6279\n",
      "           1       0.69      0.63      0.66      1861\n",
      "\n",
      "    accuracy                           0.85      8140\n",
      "   macro avg       0.79      0.77      0.78      8140\n",
      "weighted avg       0.85      0.85      0.85      8140\n",
      "\n"
     ]
    }
   ],
   "source": [
    "from sklearn.ensemble import RandomForestClassifier\n",
    "RF=RandomForestClassifier()\n",
    "RF.fit(x_train,y_train)\n",
    "pred=RF.predict(x_test)\n",
    "print('Accuracy ',accuracy_score(y_test,pred)*100)\n",
    "print(confusion_matrix(y_test,pred))\n",
    "print(classification_report(y_test,pred))"
   ]
  },
  {
   "cell_type": "markdown",
   "id": "0fb392bb",
   "metadata": {},
   "source": [
    "### SVC"
   ]
  },
  {
   "cell_type": "code",
   "execution_count": 63,
   "id": "03d1c26e",
   "metadata": {},
   "outputs": [
    {
     "name": "stdout",
     "output_type": "stream",
     "text": [
      "Accuracy  84.57002457002457\n",
      "[[5881  398]\n",
      " [ 858 1003]]\n",
      "              precision    recall  f1-score   support\n",
      "\n",
      "           0       0.87      0.94      0.90      6279\n",
      "           1       0.72      0.54      0.61      1861\n",
      "\n",
      "    accuracy                           0.85      8140\n",
      "   macro avg       0.79      0.74      0.76      8140\n",
      "weighted avg       0.84      0.85      0.84      8140\n",
      "\n"
     ]
    }
   ],
   "source": [
    "from sklearn.svm import SVC\n",
    "svc=SVC()\n",
    "svc.fit(x_train,y_train)\n",
    "pred=svc.predict(x_test)\n",
    "print('Accuracy ',accuracy_score(y_test,pred)*100)\n",
    "print(confusion_matrix(y_test,pred))\n",
    "print(classification_report(y_test,pred))"
   ]
  },
  {
   "cell_type": "markdown",
   "id": "38023f39",
   "metadata": {},
   "source": [
    "Logistic Regression ,Random Forest and SVC are producing good accuracy. Now we will check for cross validation score as well for overfitting"
   ]
  },
  {
   "cell_type": "markdown",
   "id": "63e8783c",
   "metadata": {},
   "source": [
    "### Cross Validation"
   ]
  },
  {
   "cell_type": "code",
   "execution_count": 64,
   "id": "bcf663bd",
   "metadata": {},
   "outputs": [],
   "source": [
    "from sklearn.model_selection import cross_val_score"
   ]
  },
  {
   "cell_type": "code",
   "execution_count": 65,
   "id": "1ee997c2",
   "metadata": {},
   "outputs": [
    {
     "name": "stdout",
     "output_type": "stream",
     "text": [
      "Cross Validation score for Logistic Regresiion is  0.8242628992628992\n"
     ]
    }
   ],
   "source": [
    "cvs_LR=cross_val_score(LR,x_new,y,cv=5)\n",
    "print(\"Cross Validation score for Logistic Regresiion is \",cvs_LR.mean())"
   ]
  },
  {
   "cell_type": "code",
   "execution_count": 66,
   "id": "1b76217f",
   "metadata": {},
   "outputs": [
    {
     "name": "stdout",
     "output_type": "stream",
     "text": [
      "Cross validation score for Decision tree is  0.8052211302211303\n"
     ]
    }
   ],
   "source": [
    "cvs_DT=cross_val_score(DT,x_new,y,cv=5)\n",
    "print(\"Cross validation score for Decision tree is \",cvs_DT.mean())"
   ]
  },
  {
   "cell_type": "code",
   "execution_count": 67,
   "id": "9d5a3bdf",
   "metadata": {},
   "outputs": [
    {
     "name": "stdout",
     "output_type": "stream",
     "text": [
      "Cross validation score for Random Forest is  0.8430282555282554\n"
     ]
    }
   ],
   "source": [
    "cvs_RF=cross_val_score(RF,x_new,y,cv=5)\n",
    "print(\"Cross validation score for Random Forest is \",cvs_RF.mean())"
   ]
  },
  {
   "cell_type": "code",
   "execution_count": 68,
   "id": "36cd2fbd",
   "metadata": {},
   "outputs": [
    {
     "name": "stdout",
     "output_type": "stream",
     "text": [
      "Cross validation score for SVC is  0.8361179361179362\n"
     ]
    }
   ],
   "source": [
    "cvs_SVC=cross_val_score(svc,x_new,y,cv=5)\n",
    "print(\"Cross validation score for SVC is \",cvs_SVC.mean())"
   ]
  },
  {
   "cell_type": "markdown",
   "id": "a974a78f",
   "metadata": {},
   "source": [
    "Random Forest is Performing better among all so we will continue with Random Forest"
   ]
  },
  {
   "cell_type": "markdown",
   "id": "92f3c09e",
   "metadata": {},
   "source": [
    "### Hyper Parameter Tuning"
   ]
  },
  {
   "cell_type": "code",
   "execution_count": 70,
   "id": "139f6cb9",
   "metadata": {},
   "outputs": [],
   "source": [
    "# Creating parameter list for passing in GridSearchCV\n",
    "\n",
    "parameters={'max_features':['auto','sqrt','log2'],\n",
    "            'max_depth':[4,5,6,7,8,9,10,11,12,13,14,15],\n",
    "            'criterion':['gini','entropy'],\n",
    "            'random_state':list(range(0,10))}"
   ]
  },
  {
   "cell_type": "code",
   "execution_count": 71,
   "id": "91bb764d",
   "metadata": {},
   "outputs": [
    {
     "data": {
      "text/plain": [
       "{'criterion': 'gini',\n",
       " 'max_depth': 12,\n",
       " 'max_features': 'auto',\n",
       " 'random_state': 4}"
      ]
     },
     "execution_count": 71,
     "metadata": {},
     "output_type": "execute_result"
    }
   ],
   "source": [
    "GCV=GridSearchCV(RandomForestClassifier(),parameters,cv=5,scoring='accuracy')\n",
    "GCV.fit(x_train,y_train) # Fitting the data in the model\n",
    "GCV.best_params_"
   ]
  },
  {
   "cell_type": "code",
   "execution_count": 72,
   "id": "77d00305",
   "metadata": {},
   "outputs": [
    {
     "data": {
      "text/plain": [
       "0.8646191646191647"
      ]
     },
     "execution_count": 72,
     "metadata": {},
     "output_type": "execute_result"
    }
   ],
   "source": [
    "GCV_pred=GCV.best_estimator_.predict(x_test)\n",
    "accuracy_score(y_test,GCV_pred)"
   ]
  },
  {
   "cell_type": "markdown",
   "id": "b04d92b5",
   "metadata": {},
   "source": [
    "#### ROC AUC plot"
   ]
  },
  {
   "cell_type": "code",
   "execution_count": 73,
   "id": "690de2ad",
   "metadata": {},
   "outputs": [
    {
     "data": {
      "text/plain": [
       "<function matplotlib.pyplot.show(close=None, block=None)>"
      ]
     },
     "execution_count": 73,
     "metadata": {},
     "output_type": "execute_result"
    },
    {
     "data": {
      "image/png": "[encoded data removed]",
      "text/plain": [
       "<Figure size 432x288 with 1 Axes>"
      ]
     },
     "metadata": {
      "needs_background": "light"
     },
     "output_type": "display_data"
    }
   ],
   "source": [
    "from sklearn.metrics import plot_roc_curve\n",
    "plot_roc_curve(GCV.best_estimator_,x_test,y_test)\n",
    "plt.title('ROC AUC CURVE')\n",
    "plt.show"
   ]
  },
  {
   "cell_type": "markdown",
   "id": "4d1ddb74",
   "metadata": {},
   "source": [
    "#### Saving the model in pickel"
   ]
  },
  {
   "cell_type": "code",
   "execution_count": 74,
   "id": "ee154884",
   "metadata": {},
   "outputs": [],
   "source": [
    "import pickle\n",
    "filename='cenus_income.pickle'\n",
    "pickle.dump(GCV.best_estimator_,open(filename,'wb'))"
   ]
  },
  {
   "cell_type": "markdown",
   "id": "0c5f6602",
   "metadata": {},
   "source": [
    "# Documentation"
   ]
  },
  {
   "cell_type": "code",
   "execution_count": null,
   "id": "bf80bc92",
   "metadata": {},
   "outputs": [],
   "source": [
    "Import the csv file then seen the data we have not found null values in the columns.\n",
    "Then we check for 0 values and we found lots of 0 values in columns Capital_gain and Capital_loss\n",
    "Then the vizualization of the categorical and continuous data is done and seen some skewness in the continuous data that was removed with the power transform function.\n",
    "Then encoding is done with the help of label encoder.\n",
    "Then correlation is checked with the target variable and the columns ['Fnlwgt','Native_country'] has been removed since they have very less relationship with the target variable.\n",
    "Then we checked for outliers and found that lots of data are the outliers  we didn't remove them as they are possible outcomes.\n",
    "After scaling the data we checked for multicollinearity and not found in columns.\n",
    "After that we trained the model with several algorithms and found Random Forest as the best algo for classification problem.And hyperparameter tuning is done\n",
    "The ROC AUC curve is made and 91% is covered.\n",
    "In the last we saved the model."
   ]
  }
 ],
 "metadata": {
  "kernelspec": {
   "display_name": "Python 3",
   "language": "python",
   "name": "python3"
  },
  "language_info": {
   "codemirror_mode": {
    "name": "ipython",
    "version": 3
   },
   "file_extension": ".py",
   "mimetype": "text/x-python",
   "name": "python",
   "nbconvert_exporter": "python",
   "pygments_lexer": "ipython3",
   "version": "3.8.8"
  }
 },
 "nbformat": 4,
 "nbformat_minor": 5
}
